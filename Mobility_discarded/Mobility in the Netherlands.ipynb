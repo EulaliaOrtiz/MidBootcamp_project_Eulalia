{
 "cells": [
  {
   "cell_type": "markdown",
   "id": "2af7c71b",
   "metadata": {},
   "source": [
    "# Importing the necessary libraries"
   ]
  },
  {
   "cell_type": "markdown",
   "id": "9ce59626",
   "metadata": {},
   "source": [
    "Understanding mobility has become a key question for policy makers, due to its impact on environment and its importance for urban planning, with a growing number of people living in cities, until now. With this project we are interested to start digging in this topic. We would like to know if the effects of COVID and the restrictions to mobility can be seen in the data and how extreme the event has been, though it is too soon to assess if there have been structural changes in the mobility behaviour of the population. \n",
    "We will use the data for the Netherlands, the survey on mobility, carried out yearly. We have data up to 2020. Pandemia and restrictions (of different forms) in the Netherlands started in March 2020 and lasted until march-april 2022.  "
   ]
  },
  {
   "cell_type": "code",
   "execution_count": 1,
   "id": "7272fb54",
   "metadata": {},
   "outputs": [],
   "source": [
    "import numpy as np\n",
    "import pandas as pd\n",
    "import matplotlib.pyplot as plt\n",
    "import seaborn as sns\n",
    "from scipy.stats import norm\n",
    "from scipy import stats\n",
    "from sklearn.neighbors import KNeighborsClassifier\n",
    "import math\n",
    "import datetime\n",
    "from sklearn import linear_model \n",
    "from sklearn.linear_model import LogisticRegression\n",
    "from sklearn.neural_network import MLPRegressor\n",
    "from sklearn.metrics import confusion_matrix, accuracy_score, precision_score, recall_score, ConfusionMatrixDisplay\n",
    "from sklearn.metrics import classification_report, f1_score, cohen_kappa_score\n",
    "from sklearn.preprocessing import MinMaxScaler, StandardScaler\n",
    "from sklearn.preprocessing import OneHotEncoder, LabelEncoder, OrdinalEncoder\n",
    "from sklearn.model_selection import train_test_split\n",
    "from sklearn.metrics import accuracy_score\n",
    "from sklearn.metrics import r2_score, mean_squared_error, mean_absolute_error\n",
    "from sklearn.metrics import cohen_kappa_score\n",
    "from imblearn.over_sampling import SMOTE"
   ]
  },
  {
   "cell_type": "code",
   "execution_count": 2,
   "id": "4777e3eb",
   "metadata": {},
   "outputs": [],
   "source": [
    "%matplotlib inline"
   ]
  },
  {
   "cell_type": "markdown",
   "id": "eb6b4c1c",
   "metadata": {},
   "source": [
    "In order to import the database from the Centraal Bureau of Estatistiek (CBS) holandés, we need to import a specific library. We follow the instructions from the CBS itself:"
   ]
  },
  {
   "cell_type": "code",
   "execution_count": 3,
   "id": "dd7d36a9",
   "metadata": {
    "scrolled": true
   },
   "outputs": [
    {
     "name": "stdout",
     "output_type": "stream",
     "text": [
      "Requirement already satisfied: cbsodata in c:\\users\\31612\\anaconda3\\lib\\site-packages (1.3.4)\n",
      "Requirement already satisfied: requests in c:\\users\\31612\\anaconda3\\lib\\site-packages (from cbsodata) (2.26.0)\n",
      "Requirement already satisfied: idna<4,>=2.5 in c:\\users\\31612\\anaconda3\\lib\\site-packages (from requests->cbsodata) (3.2)\n",
      "Requirement already satisfied: urllib3<1.27,>=1.21.1 in c:\\users\\31612\\anaconda3\\lib\\site-packages (from requests->cbsodata) (1.26.7)\n",
      "Requirement already satisfied: charset-normalizer~=2.0.0 in c:\\users\\31612\\anaconda3\\lib\\site-packages (from requests->cbsodata) (2.0.4)\n",
      "Requirement already satisfied: certifi>=2017.4.17 in c:\\users\\31612\\anaconda3\\lib\\site-packages (from requests->cbsodata) (2021.10.8)\n",
      "Note: you may need to restart the kernel to use updated packages.\n"
     ]
    }
   ],
   "source": [
    "pip install cbsodata"
   ]
  },
  {
   "cell_type": "code",
   "execution_count": 4,
   "id": "b1119bc9",
   "metadata": {},
   "outputs": [],
   "source": [
    "import cbsodata"
   ]
  },
  {
   "cell_type": "code",
   "execution_count": 5,
   "id": "88781384",
   "metadata": {},
   "outputs": [],
   "source": [
    "pd.set_option('display.max_columns',None)"
   ]
  },
  {
   "cell_type": "code",
   "execution_count": 6,
   "id": "bfead06b",
   "metadata": {},
   "outputs": [],
   "source": [
    "info = cbsodata.get_info('82070ENG')"
   ]
  },
  {
   "cell_type": "code",
   "execution_count": 7,
   "id": "bc91d240",
   "metadata": {},
   "outputs": [],
   "source": [
    "data = cbsodata.get_data('84755ENG')"
   ]
  },
  {
   "cell_type": "code",
   "execution_count": 8,
   "id": "9d33310d",
   "metadata": {},
   "outputs": [],
   "source": [
    "data = pd.DataFrame(cbsodata.get_data('84755ENG'))"
   ]
  },
  {
   "cell_type": "markdown",
   "id": "0b7c3d7a",
   "metadata": {},
   "source": [
    "# Reading the data"
   ]
  },
  {
   "cell_type": "markdown",
   "id": "70eabbea",
   "metadata": {},
   "source": [
    "We call our original dataset data and we will not perform any modification in this dataframe. "
   ]
  },
  {
   "cell_type": "code",
   "execution_count": 9,
   "id": "0e2afc48",
   "metadata": {
    "scrolled": true
   },
   "outputs": [
    {
     "data": {
      "text/html": [
       "<div>\n",
       "<style scoped>\n",
       "    .dataframe tbody tr th:only-of-type {\n",
       "        vertical-align: middle;\n",
       "    }\n",
       "\n",
       "    .dataframe tbody tr th {\n",
       "        vertical-align: top;\n",
       "    }\n",
       "\n",
       "    .dataframe thead th {\n",
       "        text-align: right;\n",
       "    }\n",
       "</style>\n",
       "<table border=\"1\" class=\"dataframe\">\n",
       "  <thead>\n",
       "    <tr style=\"text-align: right;\">\n",
       "      <th></th>\n",
       "      <th>ID</th>\n",
       "      <th>Sex</th>\n",
       "      <th>Age</th>\n",
       "      <th>ModesOfTravel</th>\n",
       "      <th>TravelMotives</th>\n",
       "      <th>Margins</th>\n",
       "      <th>Periods</th>\n",
       "      <th>StagesPerPersonPerDayAverage_1</th>\n",
       "      <th>DistanceTravelledPerStageAverage_2</th>\n",
       "    </tr>\n",
       "  </thead>\n",
       "  <tbody>\n",
       "    <tr>\n",
       "      <th>0</th>\n",
       "      <td>0</td>\n",
       "      <td>Total male and female</td>\n",
       "      <td>Total</td>\n",
       "      <td>Total</td>\n",
       "      <td>Total</td>\n",
       "      <td>Value</td>\n",
       "      <td>1999</td>\n",
       "      <td>3.17</td>\n",
       "      <td>9.76</td>\n",
       "    </tr>\n",
       "    <tr>\n",
       "      <th>1</th>\n",
       "      <td>1</td>\n",
       "      <td>Total male and female</td>\n",
       "      <td>Total</td>\n",
       "      <td>Total</td>\n",
       "      <td>Total</td>\n",
       "      <td>Value</td>\n",
       "      <td>2000</td>\n",
       "      <td>3.11</td>\n",
       "      <td>9.82</td>\n",
       "    </tr>\n",
       "    <tr>\n",
       "      <th>2</th>\n",
       "      <td>2</td>\n",
       "      <td>Total male and female</td>\n",
       "      <td>Total</td>\n",
       "      <td>Total</td>\n",
       "      <td>Total</td>\n",
       "      <td>Value</td>\n",
       "      <td>2001</td>\n",
       "      <td>3.07</td>\n",
       "      <td>9.79</td>\n",
       "    </tr>\n",
       "    <tr>\n",
       "      <th>3</th>\n",
       "      <td>3</td>\n",
       "      <td>Total male and female</td>\n",
       "      <td>Total</td>\n",
       "      <td>Total</td>\n",
       "      <td>Total</td>\n",
       "      <td>Value</td>\n",
       "      <td>2002</td>\n",
       "      <td>3.08</td>\n",
       "      <td>9.81</td>\n",
       "    </tr>\n",
       "    <tr>\n",
       "      <th>4</th>\n",
       "      <td>4</td>\n",
       "      <td>Total male and female</td>\n",
       "      <td>Total</td>\n",
       "      <td>Total</td>\n",
       "      <td>Total</td>\n",
       "      <td>Value</td>\n",
       "      <td>2003</td>\n",
       "      <td>3.08</td>\n",
       "      <td>9.86</td>\n",
       "    </tr>\n",
       "  </tbody>\n",
       "</table>\n",
       "</div>"
      ],
      "text/plain": [
       "   ID                    Sex    Age ModesOfTravel TravelMotives Margins  \\\n",
       "0   0  Total male and female  Total         Total         Total   Value   \n",
       "1   1  Total male and female  Total         Total         Total   Value   \n",
       "2   2  Total male and female  Total         Total         Total   Value   \n",
       "3   3  Total male and female  Total         Total         Total   Value   \n",
       "4   4  Total male and female  Total         Total         Total   Value   \n",
       "\n",
       "  Periods  StagesPerPersonPerDayAverage_1  DistanceTravelledPerStageAverage_2  \n",
       "0    1999                            3.17                                9.76  \n",
       "1    2000                            3.11                                9.82  \n",
       "2    2001                            3.07                                9.79  \n",
       "3    2002                            3.08                                9.81  \n",
       "4    2003                            3.08                                9.86  "
      ]
     },
     "execution_count": 9,
     "metadata": {},
     "output_type": "execute_result"
    }
   ],
   "source": [
    "data.head()"
   ]
  },
  {
   "cell_type": "code",
   "execution_count": 45,
   "id": "96866bb3",
   "metadata": {},
   "outputs": [
    {
     "data": {
      "text/html": [
       "<div>\n",
       "<style scoped>\n",
       "    .dataframe tbody tr th:only-of-type {\n",
       "        vertical-align: middle;\n",
       "    }\n",
       "\n",
       "    .dataframe tbody tr th {\n",
       "        vertical-align: top;\n",
       "    }\n",
       "\n",
       "    .dataframe thead th {\n",
       "        text-align: right;\n",
       "    }\n",
       "</style>\n",
       "<table border=\"1\" class=\"dataframe\">\n",
       "  <thead>\n",
       "    <tr style=\"text-align: right;\">\n",
       "      <th></th>\n",
       "      <th>ID</th>\n",
       "      <th>Sex</th>\n",
       "      <th>Age</th>\n",
       "      <th>ModesOfTravel</th>\n",
       "      <th>TravelMotives</th>\n",
       "      <th>Margins</th>\n",
       "      <th>Periods</th>\n",
       "      <th>StagesPerPersonPerDayAverage_1</th>\n",
       "      <th>DistanceTravelledPerStageAverage_2</th>\n",
       "    </tr>\n",
       "  </thead>\n",
       "  <tbody>\n",
       "    <tr>\n",
       "      <th>95035</th>\n",
       "      <td>95035</td>\n",
       "      <td>Female</td>\n",
       "      <td>70 years or older</td>\n",
       "      <td>Other</td>\n",
       "      <td>Other</td>\n",
       "      <td>Upper bound 95% confidence interval</td>\n",
       "      <td>2016</td>\n",
       "      <td>0.05</td>\n",
       "      <td>12.98</td>\n",
       "    </tr>\n",
       "    <tr>\n",
       "      <th>95036</th>\n",
       "      <td>95036</td>\n",
       "      <td>Female</td>\n",
       "      <td>70 years or older</td>\n",
       "      <td>Other</td>\n",
       "      <td>Other</td>\n",
       "      <td>Upper bound 95% confidence interval</td>\n",
       "      <td>2017</td>\n",
       "      <td>0.05</td>\n",
       "      <td>12.55</td>\n",
       "    </tr>\n",
       "    <tr>\n",
       "      <th>95037</th>\n",
       "      <td>95037</td>\n",
       "      <td>Female</td>\n",
       "      <td>70 years or older</td>\n",
       "      <td>Other</td>\n",
       "      <td>Other</td>\n",
       "      <td>Upper bound 95% confidence interval</td>\n",
       "      <td>2018</td>\n",
       "      <td>0.05</td>\n",
       "      <td>13.68</td>\n",
       "    </tr>\n",
       "    <tr>\n",
       "      <th>95038</th>\n",
       "      <td>95038</td>\n",
       "      <td>Female</td>\n",
       "      <td>70 years or older</td>\n",
       "      <td>Other</td>\n",
       "      <td>Other</td>\n",
       "      <td>Upper bound 95% confidence interval</td>\n",
       "      <td>2019</td>\n",
       "      <td>0.05</td>\n",
       "      <td>13.87</td>\n",
       "    </tr>\n",
       "    <tr>\n",
       "      <th>95039</th>\n",
       "      <td>95039</td>\n",
       "      <td>Female</td>\n",
       "      <td>70 years or older</td>\n",
       "      <td>Other</td>\n",
       "      <td>Other</td>\n",
       "      <td>Upper bound 95% confidence interval</td>\n",
       "      <td>2020</td>\n",
       "      <td>0.03</td>\n",
       "      <td>10.91</td>\n",
       "    </tr>\n",
       "  </tbody>\n",
       "</table>\n",
       "</div>"
      ],
      "text/plain": [
       "          ID     Sex                Age ModesOfTravel TravelMotives  \\\n",
       "95035  95035  Female  70 years or older         Other         Other   \n",
       "95036  95036  Female  70 years or older         Other         Other   \n",
       "95037  95037  Female  70 years or older         Other         Other   \n",
       "95038  95038  Female  70 years or older         Other         Other   \n",
       "95039  95039  Female  70 years or older         Other         Other   \n",
       "\n",
       "                                   Margins Periods  \\\n",
       "95035  Upper bound 95% confidence interval    2016   \n",
       "95036  Upper bound 95% confidence interval    2017   \n",
       "95037  Upper bound 95% confidence interval    2018   \n",
       "95038  Upper bound 95% confidence interval    2019   \n",
       "95039  Upper bound 95% confidence interval    2020   \n",
       "\n",
       "       StagesPerPersonPerDayAverage_1  DistanceTravelledPerStageAverage_2  \n",
       "95035                            0.05                               12.98  \n",
       "95036                            0.05                               12.55  \n",
       "95037                            0.05                               13.68  \n",
       "95038                            0.05                               13.87  \n",
       "95039                            0.03                               10.91  "
      ]
     },
     "execution_count": 45,
     "metadata": {},
     "output_type": "execute_result"
    }
   ],
   "source": [
    "data.tail()"
   ]
  },
  {
   "cell_type": "code",
   "execution_count": 10,
   "id": "e3504380",
   "metadata": {},
   "outputs": [],
   "source": [
    "data.to_csv('data.csv') "
   ]
  },
  {
   "cell_type": "code",
   "execution_count": 11,
   "id": "fce181fc",
   "metadata": {
    "scrolled": true
   },
   "outputs": [
    {
     "data": {
      "text/plain": [
       "Index(['ID', 'Sex', 'Age', 'ModesOfTravel', 'TravelMotives', 'Margins',\n",
       "       'Periods', 'StagesPerPersonPerDayAverage_1',\n",
       "       'DistanceTravelledPerStageAverage_2'],\n",
       "      dtype='object')"
      ]
     },
     "execution_count": 11,
     "metadata": {},
     "output_type": "execute_result"
    }
   ],
   "source": [
    "data.columns"
   ]
  },
  {
   "cell_type": "code",
   "execution_count": 12,
   "id": "02f98d9f",
   "metadata": {},
   "outputs": [
    {
     "data": {
      "text/plain": [
       "(95040, 9)"
      ]
     },
     "execution_count": 12,
     "metadata": {},
     "output_type": "execute_result"
    }
   ],
   "source": [
    "data.shape"
   ]
  },
  {
   "cell_type": "code",
   "execution_count": 10,
   "id": "43cf1897",
   "metadata": {},
   "outputs": [
    {
     "data": {
      "text/plain": [
       "ID                                        0\n",
       "Sex                                       0\n",
       "Age                                       0\n",
       "ModesOfTravel                             0\n",
       "TravelMotives                             0\n",
       "Margins                                   0\n",
       "Periods                                   0\n",
       "StagesPerPersonPerDayAverage_1        19459\n",
       "DistanceTravelledPerStageAverage_2    19460\n",
       "dtype: int64"
      ]
     },
     "execution_count": 10,
     "metadata": {},
     "output_type": "execute_result"
    }
   ],
   "source": [
    "data.isnull().sum()"
   ]
  },
  {
   "cell_type": "code",
   "execution_count": 11,
   "id": "b7223f67",
   "metadata": {},
   "outputs": [
    {
     "data": {
      "text/plain": [
       "ID                                      int64\n",
       "Sex                                    object\n",
       "Age                                    object\n",
       "ModesOfTravel                          object\n",
       "TravelMotives                          object\n",
       "Margins                                object\n",
       "Periods                                object\n",
       "StagesPerPersonPerDayAverage_1        float64\n",
       "DistanceTravelledPerStageAverage_2    float64\n",
       "dtype: object"
      ]
     },
     "execution_count": 11,
     "metadata": {},
     "output_type": "execute_result"
    }
   ],
   "source": [
    "data.dtypes"
   ]
  },
  {
   "cell_type": "code",
   "execution_count": 12,
   "id": "ff295cf7",
   "metadata": {},
   "outputs": [
    {
     "data": {
      "text/plain": [
       "array(['Total male and female', 'Male', 'Female'], dtype=object)"
      ]
     },
     "execution_count": 12,
     "metadata": {},
     "output_type": "execute_result"
    }
   ],
   "source": [
    "data['Sex'].unique()"
   ]
  },
  {
   "cell_type": "code",
   "execution_count": 46,
   "id": "bc9ab1cf",
   "metadata": {},
   "outputs": [
    {
     "data": {
      "text/plain": [
       "Total male and female    31680\n",
       "Male                     31680\n",
       "Female                   31680\n",
       "Name: Sex, dtype: int64"
      ]
     },
     "execution_count": 46,
     "metadata": {},
     "output_type": "execute_result"
    }
   ],
   "source": [
    "data['Sex'].value_counts()"
   ]
  },
  {
   "cell_type": "code",
   "execution_count": 14,
   "id": "3fe16ec1",
   "metadata": {
    "scrolled": false
   },
   "outputs": [
    {
     "data": {
      "text/plain": [
       "array(['Total', '0 to 5 years', '6 to 11 years', '12 to 17 years',\n",
       "       '18 to 24 years', '25 to 29 years', '30 to 39 years',\n",
       "       '40 to 49 years', '50 to 59 years', '60 to 64 years',\n",
       "       '65 to 69 years', '70 years or older'], dtype=object)"
      ]
     },
     "execution_count": 14,
     "metadata": {},
     "output_type": "execute_result"
    }
   ],
   "source": [
    "data['Age'].unique()"
   ]
  },
  {
   "cell_type": "code",
   "execution_count": 15,
   "id": "8506c1e4",
   "metadata": {},
   "outputs": [
    {
     "data": {
      "text/plain": [
       "Total                7920\n",
       "0 to 5 years         7920\n",
       "6 to 11 years        7920\n",
       "12 to 17 years       7920\n",
       "18 to 24 years       7920\n",
       "25 to 29 years       7920\n",
       "30 to 39 years       7920\n",
       "40 to 49 years       7920\n",
       "50 to 59 years       7920\n",
       "60 to 64 years       7920\n",
       "65 to 69 years       7920\n",
       "70 years or older    7920\n",
       "Name: Age, dtype: int64"
      ]
     },
     "execution_count": 15,
     "metadata": {},
     "output_type": "execute_result"
    }
   ],
   "source": [
    "data['Age'].value_counts(dropna=False)"
   ]
  },
  {
   "cell_type": "code",
   "execution_count": 16,
   "id": "6657917c",
   "metadata": {},
   "outputs": [
    {
     "data": {
      "text/plain": [
       "array(['Total', 'Car as driver', 'Car as passenger', 'Train', 'Bus/metro',\n",
       "       'Bike', 'Walking', 'Other'], dtype=object)"
      ]
     },
     "execution_count": 16,
     "metadata": {},
     "output_type": "execute_result"
    }
   ],
   "source": [
    "data['ModesOfTravel'].unique()"
   ]
  },
  {
   "cell_type": "code",
   "execution_count": 17,
   "id": "fe0c6578",
   "metadata": {},
   "outputs": [
    {
     "data": {
      "text/plain": [
       "Total               11880\n",
       "Car as driver       11880\n",
       "Car as passenger    11880\n",
       "Train               11880\n",
       "Bus/metro           11880\n",
       "Bike                11880\n",
       "Walking             11880\n",
       "Other               11880\n",
       "Name: ModesOfTravel, dtype: int64"
      ]
     },
     "execution_count": 17,
     "metadata": {},
     "output_type": "execute_result"
    }
   ],
   "source": [
    "data['ModesOfTravel'].value_counts()"
   ]
  },
  {
   "cell_type": "code",
   "execution_count": 18,
   "id": "5ee6fe20",
   "metadata": {
    "scrolled": true
   },
   "outputs": [
    {
     "data": {
      "text/plain": [
       "array(['Total', 'Travel to/from work, (non)-daily commute',\n",
       "       'Shopping, groceries, funshopping.', 'Attending education/courses',\n",
       "       'Other'], dtype=object)"
      ]
     },
     "execution_count": 18,
     "metadata": {},
     "output_type": "execute_result"
    }
   ],
   "source": [
    "data['TravelMotives'].unique()"
   ]
  },
  {
   "cell_type": "code",
   "execution_count": 19,
   "id": "1e406013",
   "metadata": {},
   "outputs": [
    {
     "data": {
      "text/plain": [
       "Total                                       19008\n",
       "Travel to/from work, (non)-daily commute    19008\n",
       "Shopping, groceries, funshopping.           19008\n",
       "Attending education/courses                 19008\n",
       "Other                                       19008\n",
       "Name: TravelMotives, dtype: int64"
      ]
     },
     "execution_count": 19,
     "metadata": {},
     "output_type": "execute_result"
    }
   ],
   "source": [
    "data['TravelMotives'].value_counts()"
   ]
  },
  {
   "cell_type": "code",
   "execution_count": 20,
   "id": "9143489b",
   "metadata": {},
   "outputs": [
    {
     "data": {
      "text/plain": [
       "array(['1999', '2000', '2001', '2002', '2003', '2004', '2005', '2006',\n",
       "       '2007', '2008', '2009', '2010', '2011', '2012', '2013', '2014',\n",
       "       '2015', '2016', '2017', '2018', '2019', '2020'], dtype=object)"
      ]
     },
     "execution_count": 20,
     "metadata": {},
     "output_type": "execute_result"
    }
   ],
   "source": [
    "data['Periods'].unique()"
   ]
  },
  {
   "cell_type": "code",
   "execution_count": 21,
   "id": "bcdb9a18",
   "metadata": {},
   "outputs": [
    {
     "data": {
      "text/plain": [
       "1999    4320\n",
       "2000    4320\n",
       "2019    4320\n",
       "2018    4320\n",
       "2017    4320\n",
       "2016    4320\n",
       "2015    4320\n",
       "2014    4320\n",
       "2013    4320\n",
       "2012    4320\n",
       "2011    4320\n",
       "2010    4320\n",
       "2009    4320\n",
       "2008    4320\n",
       "2007    4320\n",
       "2006    4320\n",
       "2005    4320\n",
       "2004    4320\n",
       "2003    4320\n",
       "2002    4320\n",
       "2001    4320\n",
       "2020    4320\n",
       "Name: Periods, dtype: int64"
      ]
     },
     "execution_count": 21,
     "metadata": {},
     "output_type": "execute_result"
    }
   ],
   "source": [
    "data['Periods'].value_counts()"
   ]
  },
  {
   "cell_type": "markdown",
   "id": "7005d33b",
   "metadata": {},
   "source": [
    "# Filtering the data"
   ]
  },
  {
   "cell_type": "markdown",
   "id": "24325aa1",
   "metadata": {},
   "source": [
    "We make a copy of the dataframe in which to perform all the transformations in order to preserve the integrity of the database."
   ]
  },
  {
   "cell_type": "code",
   "execution_count": 23,
   "id": "f597af63",
   "metadata": {},
   "outputs": [],
   "source": [
    "df=data.copy()"
   ]
  },
  {
   "cell_type": "markdown",
   "id": "bfb476f3",
   "metadata": {},
   "source": [
    "While removing the rows with aggregated values (total), the missing values become  evident. We filter as well people aged 12 and below and 70 years or older. The dataframe that results from this filtering is called dfclean. "
   ]
  },
  {
   "cell_type": "code",
   "execution_count": 24,
   "id": "2c2759b8",
   "metadata": {},
   "outputs": [],
   "source": [
    "dfclean = df[(df.ModesOfTravel!= 'Total') & (df.TravelMotives != 'Total')  & (df.Sex !='Total male and female') & (df.Age != 'Total')& (df.Age != '0 to 5 years') & (df.Age !='6 to 11 years') & (df.Age !='70 years or older')]"
   ]
  },
  {
   "cell_type": "code",
   "execution_count": 25,
   "id": "9a4f2bcc",
   "metadata": {},
   "outputs": [
    {
     "data": {
      "text/html": [
       "<div>\n",
       "<style scoped>\n",
       "    .dataframe tbody tr th:only-of-type {\n",
       "        vertical-align: middle;\n",
       "    }\n",
       "\n",
       "    .dataframe tbody tr th {\n",
       "        vertical-align: top;\n",
       "    }\n",
       "\n",
       "    .dataframe thead th {\n",
       "        text-align: right;\n",
       "    }\n",
       "</style>\n",
       "<table border=\"1\" class=\"dataframe\">\n",
       "  <thead>\n",
       "    <tr style=\"text-align: right;\">\n",
       "      <th></th>\n",
       "      <th>ID</th>\n",
       "      <th>Sex</th>\n",
       "      <th>Age</th>\n",
       "      <th>ModesOfTravel</th>\n",
       "      <th>TravelMotives</th>\n",
       "      <th>Margins</th>\n",
       "      <th>Periods</th>\n",
       "      <th>StagesPerPersonPerDayAverage_1</th>\n",
       "      <th>DistanceTravelledPerStageAverage_2</th>\n",
       "    </tr>\n",
       "  </thead>\n",
       "  <tbody>\n",
       "    <tr>\n",
       "      <th>39996</th>\n",
       "      <td>39996</td>\n",
       "      <td>Male</td>\n",
       "      <td>12 to 17 years</td>\n",
       "      <td>Car as driver</td>\n",
       "      <td>Travel to/from work, (non)-daily commute</td>\n",
       "      <td>Value</td>\n",
       "      <td>1999</td>\n",
       "      <td>NaN</td>\n",
       "      <td>NaN</td>\n",
       "    </tr>\n",
       "    <tr>\n",
       "      <th>39997</th>\n",
       "      <td>39997</td>\n",
       "      <td>Male</td>\n",
       "      <td>12 to 17 years</td>\n",
       "      <td>Car as driver</td>\n",
       "      <td>Travel to/from work, (non)-daily commute</td>\n",
       "      <td>Value</td>\n",
       "      <td>2000</td>\n",
       "      <td>NaN</td>\n",
       "      <td>NaN</td>\n",
       "    </tr>\n",
       "    <tr>\n",
       "      <th>39998</th>\n",
       "      <td>39998</td>\n",
       "      <td>Male</td>\n",
       "      <td>12 to 17 years</td>\n",
       "      <td>Car as driver</td>\n",
       "      <td>Travel to/from work, (non)-daily commute</td>\n",
       "      <td>Value</td>\n",
       "      <td>2001</td>\n",
       "      <td>NaN</td>\n",
       "      <td>NaN</td>\n",
       "    </tr>\n",
       "    <tr>\n",
       "      <th>39999</th>\n",
       "      <td>39999</td>\n",
       "      <td>Male</td>\n",
       "      <td>12 to 17 years</td>\n",
       "      <td>Car as driver</td>\n",
       "      <td>Travel to/from work, (non)-daily commute</td>\n",
       "      <td>Value</td>\n",
       "      <td>2002</td>\n",
       "      <td>NaN</td>\n",
       "      <td>NaN</td>\n",
       "    </tr>\n",
       "    <tr>\n",
       "      <th>40000</th>\n",
       "      <td>40000</td>\n",
       "      <td>Male</td>\n",
       "      <td>12 to 17 years</td>\n",
       "      <td>Car as driver</td>\n",
       "      <td>Travel to/from work, (non)-daily commute</td>\n",
       "      <td>Value</td>\n",
       "      <td>2003</td>\n",
       "      <td>NaN</td>\n",
       "      <td>NaN</td>\n",
       "    </tr>\n",
       "  </tbody>\n",
       "</table>\n",
       "</div>"
      ],
      "text/plain": [
       "          ID   Sex             Age  ModesOfTravel  \\\n",
       "39996  39996  Male  12 to 17 years  Car as driver   \n",
       "39997  39997  Male  12 to 17 years  Car as driver   \n",
       "39998  39998  Male  12 to 17 years  Car as driver   \n",
       "39999  39999  Male  12 to 17 years  Car as driver   \n",
       "40000  40000  Male  12 to 17 years  Car as driver   \n",
       "\n",
       "                                  TravelMotives Margins Periods  \\\n",
       "39996  Travel to/from work, (non)-daily commute   Value    1999   \n",
       "39997  Travel to/from work, (non)-daily commute   Value    2000   \n",
       "39998  Travel to/from work, (non)-daily commute   Value    2001   \n",
       "39999  Travel to/from work, (non)-daily commute   Value    2002   \n",
       "40000  Travel to/from work, (non)-daily commute   Value    2003   \n",
       "\n",
       "       StagesPerPersonPerDayAverage_1  DistanceTravelledPerStageAverage_2  \n",
       "39996                             NaN                                 NaN  \n",
       "39997                             NaN                                 NaN  \n",
       "39998                             NaN                                 NaN  \n",
       "39999                             NaN                                 NaN  \n",
       "40000                             NaN                                 NaN  "
      ]
     },
     "execution_count": 25,
     "metadata": {},
     "output_type": "execute_result"
    }
   ],
   "source": [
    "dfclean.head()"
   ]
  },
  {
   "cell_type": "code",
   "execution_count": 26,
   "id": "45783dea",
   "metadata": {},
   "outputs": [
    {
     "data": {
      "text/plain": [
       "(29568, 9)"
      ]
     },
     "execution_count": 26,
     "metadata": {},
     "output_type": "execute_result"
    }
   ],
   "source": [
    "dfclean.shape"
   ]
  },
  {
   "cell_type": "code",
   "execution_count": 27,
   "id": "a3c9ebed",
   "metadata": {},
   "outputs": [
    {
     "data": {
      "text/plain": [
       "ID                                       0\n",
       "Sex                                      0\n",
       "Age                                      0\n",
       "ModesOfTravel                            0\n",
       "TravelMotives                            0\n",
       "Margins                                  0\n",
       "Periods                                  0\n",
       "StagesPerPersonPerDayAverage_1        6696\n",
       "DistanceTravelledPerStageAverage_2    6696\n",
       "dtype: int64"
      ]
     },
     "execution_count": 27,
     "metadata": {},
     "output_type": "execute_result"
    }
   ],
   "source": [
    "dfclean.isnull().sum()"
   ]
  },
  {
   "cell_type": "code",
   "execution_count": 28,
   "id": "6b1eba31",
   "metadata": {},
   "outputs": [
    {
     "name": "stderr",
     "output_type": "stream",
     "text": [
      "C:\\Users\\31612\\anaconda3\\lib\\site-packages\\pandas\\util\\_decorators.py:311: SettingWithCopyWarning: \n",
      "A value is trying to be set on a copy of a slice from a DataFrame\n",
      "\n",
      "See the caveats in the documentation: https://pandas.pydata.org/pandas-docs/stable/user_guide/indexing.html#returning-a-view-versus-a-copy\n",
      "  return func(*args, **kwargs)\n"
     ]
    }
   ],
   "source": [
    "dfclean.dropna(inplace=True)"
   ]
  },
  {
   "cell_type": "code",
   "execution_count": 29,
   "id": "43b458b1",
   "metadata": {},
   "outputs": [],
   "source": [
    "#dfclean.reset_index(inplace = True)"
   ]
  },
  {
   "cell_type": "code",
   "execution_count": 30,
   "id": "095bbe1d",
   "metadata": {},
   "outputs": [
    {
     "data": {
      "text/plain": [
       "ID                                    0\n",
       "Sex                                   0\n",
       "Age                                   0\n",
       "ModesOfTravel                         0\n",
       "TravelMotives                         0\n",
       "Margins                               0\n",
       "Periods                               0\n",
       "StagesPerPersonPerDayAverage_1        0\n",
       "DistanceTravelledPerStageAverage_2    0\n",
       "dtype: int64"
      ]
     },
     "execution_count": 30,
     "metadata": {},
     "output_type": "execute_result"
    }
   ],
   "source": [
    "dfclean.isnull().sum()"
   ]
  },
  {
   "cell_type": "code",
   "execution_count": 56,
   "id": "056bb6cd",
   "metadata": {
    "scrolled": true
   },
   "outputs": [
    {
     "data": {
      "text/plain": [
       "18 to 24 years    3594\n",
       "25 to 29 years    3126\n",
       "30 to 39 years    2976\n",
       "40 to 49 years    2943\n",
       "50 to 59 years    2814\n",
       "12 to 17 years    2712\n",
       "60 to 64 years    2526\n",
       "65 to 69 years    2181\n",
       "Name: Age, dtype: int64"
      ]
     },
     "execution_count": 56,
     "metadata": {},
     "output_type": "execute_result"
    }
   ],
   "source": [
    "dfclean['Age'].value_counts()"
   ]
  },
  {
   "cell_type": "code",
   "execution_count": 31,
   "id": "5e5b0b77",
   "metadata": {
    "scrolled": true
   },
   "outputs": [
    {
     "data": {
      "text/plain": [
       "Female    11679\n",
       "Male      11193\n",
       "Name: Sex, dtype: int64"
      ]
     },
     "execution_count": 31,
     "metadata": {},
     "output_type": "execute_result"
    }
   ],
   "source": [
    "dfclean['Sex'].value_counts()"
   ]
  },
  {
   "cell_type": "code",
   "execution_count": 32,
   "id": "5fea39a4",
   "metadata": {},
   "outputs": [
    {
     "data": {
      "text/plain": [
       "Bike                3822\n",
       "Walking             3687\n",
       "Car as driver       3546\n",
       "Car as passenger    3423\n",
       "Bus/metro           3207\n",
       "Other               2808\n",
       "Train               2379\n",
       "Name: ModesOfTravel, dtype: int64"
      ]
     },
     "execution_count": 32,
     "metadata": {},
     "output_type": "execute_result"
    }
   ],
   "source": [
    "dfclean['ModesOfTravel'].value_counts()"
   ]
  },
  {
   "cell_type": "code",
   "execution_count": 33,
   "id": "ec8fce81",
   "metadata": {},
   "outputs": [
    {
     "data": {
      "text/plain": [
       "Other                                       7206\n",
       "Travel to/from work, (non)-daily commute    6324\n",
       "Shopping, groceries, funshopping.           5946\n",
       "Attending education/courses                 3396\n",
       "Name: TravelMotives, dtype: int64"
      ]
     },
     "execution_count": 33,
     "metadata": {},
     "output_type": "execute_result"
    }
   ],
   "source": [
    "dfclean['TravelMotives'].value_counts()"
   ]
  },
  {
   "cell_type": "code",
   "execution_count": 34,
   "id": "adfd24e8",
   "metadata": {},
   "outputs": [
    {
     "data": {
      "text/plain": [
       "2016    1152\n",
       "2013    1149\n",
       "2015    1146\n",
       "2014    1146\n",
       "2011    1143\n",
       "2010    1134\n",
       "2017    1134\n",
       "2012    1131\n",
       "2018    1077\n",
       "2009    1071\n",
       "2008    1062\n",
       "2019    1047\n",
       "2007    1023\n",
       "2006    1014\n",
       "2004    1002\n",
       "2005     999\n",
       "2003     936\n",
       "2002     927\n",
       "2001     924\n",
       "2000     912\n",
       "1999     903\n",
       "2020     840\n",
       "Name: Periods, dtype: int64"
      ]
     },
     "execution_count": 34,
     "metadata": {},
     "output_type": "execute_result"
    }
   ],
   "source": [
    "dfclean['Periods'].value_counts()"
   ]
  },
  {
   "cell_type": "code",
   "execution_count": 35,
   "id": "77a51a4a",
   "metadata": {},
   "outputs": [],
   "source": [
    "dfclean.to_csv('dfclean.csv') "
   ]
  },
  {
   "cell_type": "markdown",
   "id": "a8b27a32",
   "metadata": {},
   "source": [
    "# Separating the data with the aggregated values"
   ]
  },
  {
   "cell_type": "markdown",
   "id": "92c5fb61",
   "metadata": {},
   "source": [
    "We separate now the part of the dataframe that contain the aggregated values, we exclude again observations of people aged under 12 and above 70. We call this dataframe dftotals. "
   ]
  },
  {
   "cell_type": "code",
   "execution_count": 36,
   "id": "a88e76af",
   "metadata": {},
   "outputs": [],
   "source": [
    "dftotals = df[(df.ModesOfTravel == 'Total') & (df.TravelMotives == 'Total')  & (df.Sex =='Total male and female') & (df.Age == 'Total')& (df.Age != '0 to 5 years') & (df.Age !='6 to 11 years') & (df.Age !='70 years or older')]"
   ]
  },
  {
   "cell_type": "code",
   "execution_count": 37,
   "id": "255293e5",
   "metadata": {},
   "outputs": [
    {
     "data": {
      "text/plain": [
       "(66, 9)"
      ]
     },
     "execution_count": 37,
     "metadata": {},
     "output_type": "execute_result"
    }
   ],
   "source": [
    "dftotals.shape"
   ]
  },
  {
   "cell_type": "code",
   "execution_count": 38,
   "id": "3818d0bf",
   "metadata": {},
   "outputs": [
    {
     "data": {
      "text/plain": [
       "Total    66\n",
       "Name: Age, dtype: int64"
      ]
     },
     "execution_count": 38,
     "metadata": {},
     "output_type": "execute_result"
    }
   ],
   "source": [
    "dftotals['Age'].value_counts()"
   ]
  },
  {
   "cell_type": "code",
   "execution_count": 39,
   "id": "6f70017b",
   "metadata": {
    "scrolled": true
   },
   "outputs": [
    {
     "data": {
      "text/html": [
       "<div>\n",
       "<style scoped>\n",
       "    .dataframe tbody tr th:only-of-type {\n",
       "        vertical-align: middle;\n",
       "    }\n",
       "\n",
       "    .dataframe tbody tr th {\n",
       "        vertical-align: top;\n",
       "    }\n",
       "\n",
       "    .dataframe thead th {\n",
       "        text-align: right;\n",
       "    }\n",
       "</style>\n",
       "<table border=\"1\" class=\"dataframe\">\n",
       "  <thead>\n",
       "    <tr style=\"text-align: right;\">\n",
       "      <th></th>\n",
       "      <th>ID</th>\n",
       "      <th>Sex</th>\n",
       "      <th>Age</th>\n",
       "      <th>ModesOfTravel</th>\n",
       "      <th>TravelMotives</th>\n",
       "      <th>Margins</th>\n",
       "      <th>Periods</th>\n",
       "      <th>StagesPerPersonPerDayAverage_1</th>\n",
       "      <th>DistanceTravelledPerStageAverage_2</th>\n",
       "    </tr>\n",
       "  </thead>\n",
       "  <tbody>\n",
       "    <tr>\n",
       "      <th>0</th>\n",
       "      <td>0</td>\n",
       "      <td>Total male and female</td>\n",
       "      <td>Total</td>\n",
       "      <td>Total</td>\n",
       "      <td>Total</td>\n",
       "      <td>Value</td>\n",
       "      <td>1999</td>\n",
       "      <td>3.17</td>\n",
       "      <td>9.76</td>\n",
       "    </tr>\n",
       "    <tr>\n",
       "      <th>1</th>\n",
       "      <td>1</td>\n",
       "      <td>Total male and female</td>\n",
       "      <td>Total</td>\n",
       "      <td>Total</td>\n",
       "      <td>Total</td>\n",
       "      <td>Value</td>\n",
       "      <td>2000</td>\n",
       "      <td>3.11</td>\n",
       "      <td>9.82</td>\n",
       "    </tr>\n",
       "    <tr>\n",
       "      <th>2</th>\n",
       "      <td>2</td>\n",
       "      <td>Total male and female</td>\n",
       "      <td>Total</td>\n",
       "      <td>Total</td>\n",
       "      <td>Total</td>\n",
       "      <td>Value</td>\n",
       "      <td>2001</td>\n",
       "      <td>3.07</td>\n",
       "      <td>9.79</td>\n",
       "    </tr>\n",
       "    <tr>\n",
       "      <th>3</th>\n",
       "      <td>3</td>\n",
       "      <td>Total male and female</td>\n",
       "      <td>Total</td>\n",
       "      <td>Total</td>\n",
       "      <td>Total</td>\n",
       "      <td>Value</td>\n",
       "      <td>2002</td>\n",
       "      <td>3.08</td>\n",
       "      <td>9.81</td>\n",
       "    </tr>\n",
       "    <tr>\n",
       "      <th>4</th>\n",
       "      <td>4</td>\n",
       "      <td>Total male and female</td>\n",
       "      <td>Total</td>\n",
       "      <td>Total</td>\n",
       "      <td>Total</td>\n",
       "      <td>Value</td>\n",
       "      <td>2003</td>\n",
       "      <td>3.08</td>\n",
       "      <td>9.86</td>\n",
       "    </tr>\n",
       "    <tr>\n",
       "      <th>5</th>\n",
       "      <td>5</td>\n",
       "      <td>Total male and female</td>\n",
       "      <td>Total</td>\n",
       "      <td>Total</td>\n",
       "      <td>Total</td>\n",
       "      <td>Value</td>\n",
       "      <td>2004</td>\n",
       "      <td>3.10</td>\n",
       "      <td>9.88</td>\n",
       "    </tr>\n",
       "    <tr>\n",
       "      <th>6</th>\n",
       "      <td>6</td>\n",
       "      <td>Total male and female</td>\n",
       "      <td>Total</td>\n",
       "      <td>Total</td>\n",
       "      <td>Total</td>\n",
       "      <td>Value</td>\n",
       "      <td>2005</td>\n",
       "      <td>3.05</td>\n",
       "      <td>9.92</td>\n",
       "    </tr>\n",
       "    <tr>\n",
       "      <th>7</th>\n",
       "      <td>7</td>\n",
       "      <td>Total male and female</td>\n",
       "      <td>Total</td>\n",
       "      <td>Total</td>\n",
       "      <td>Total</td>\n",
       "      <td>Value</td>\n",
       "      <td>2006</td>\n",
       "      <td>3.08</td>\n",
       "      <td>9.92</td>\n",
       "    </tr>\n",
       "    <tr>\n",
       "      <th>8</th>\n",
       "      <td>8</td>\n",
       "      <td>Total male and female</td>\n",
       "      <td>Total</td>\n",
       "      <td>Total</td>\n",
       "      <td>Total</td>\n",
       "      <td>Value</td>\n",
       "      <td>2007</td>\n",
       "      <td>3.03</td>\n",
       "      <td>10.03</td>\n",
       "    </tr>\n",
       "    <tr>\n",
       "      <th>9</th>\n",
       "      <td>9</td>\n",
       "      <td>Total male and female</td>\n",
       "      <td>Total</td>\n",
       "      <td>Total</td>\n",
       "      <td>Total</td>\n",
       "      <td>Value</td>\n",
       "      <td>2008</td>\n",
       "      <td>3.00</td>\n",
       "      <td>9.92</td>\n",
       "    </tr>\n",
       "    <tr>\n",
       "      <th>10</th>\n",
       "      <td>10</td>\n",
       "      <td>Total male and female</td>\n",
       "      <td>Total</td>\n",
       "      <td>Total</td>\n",
       "      <td>Total</td>\n",
       "      <td>Value</td>\n",
       "      <td>2009</td>\n",
       "      <td>3.04</td>\n",
       "      <td>9.96</td>\n",
       "    </tr>\n",
       "    <tr>\n",
       "      <th>11</th>\n",
       "      <td>11</td>\n",
       "      <td>Total male and female</td>\n",
       "      <td>Total</td>\n",
       "      <td>Total</td>\n",
       "      <td>Total</td>\n",
       "      <td>Value</td>\n",
       "      <td>2010</td>\n",
       "      <td>3.05</td>\n",
       "      <td>9.93</td>\n",
       "    </tr>\n",
       "    <tr>\n",
       "      <th>12</th>\n",
       "      <td>12</td>\n",
       "      <td>Total male and female</td>\n",
       "      <td>Total</td>\n",
       "      <td>Total</td>\n",
       "      <td>Total</td>\n",
       "      <td>Value</td>\n",
       "      <td>2011</td>\n",
       "      <td>2.95</td>\n",
       "      <td>10.12</td>\n",
       "    </tr>\n",
       "    <tr>\n",
       "      <th>13</th>\n",
       "      <td>13</td>\n",
       "      <td>Total male and female</td>\n",
       "      <td>Total</td>\n",
       "      <td>Total</td>\n",
       "      <td>Total</td>\n",
       "      <td>Value</td>\n",
       "      <td>2012</td>\n",
       "      <td>2.96</td>\n",
       "      <td>10.11</td>\n",
       "    </tr>\n",
       "    <tr>\n",
       "      <th>14</th>\n",
       "      <td>14</td>\n",
       "      <td>Total male and female</td>\n",
       "      <td>Total</td>\n",
       "      <td>Total</td>\n",
       "      <td>Total</td>\n",
       "      <td>Value</td>\n",
       "      <td>2013</td>\n",
       "      <td>2.97</td>\n",
       "      <td>10.14</td>\n",
       "    </tr>\n",
       "    <tr>\n",
       "      <th>15</th>\n",
       "      <td>15</td>\n",
       "      <td>Total male and female</td>\n",
       "      <td>Total</td>\n",
       "      <td>Total</td>\n",
       "      <td>Total</td>\n",
       "      <td>Value</td>\n",
       "      <td>2014</td>\n",
       "      <td>2.98</td>\n",
       "      <td>10.15</td>\n",
       "    </tr>\n",
       "    <tr>\n",
       "      <th>16</th>\n",
       "      <td>16</td>\n",
       "      <td>Total male and female</td>\n",
       "      <td>Total</td>\n",
       "      <td>Total</td>\n",
       "      <td>Total</td>\n",
       "      <td>Value</td>\n",
       "      <td>2015</td>\n",
       "      <td>2.89</td>\n",
       "      <td>10.26</td>\n",
       "    </tr>\n",
       "    <tr>\n",
       "      <th>17</th>\n",
       "      <td>17</td>\n",
       "      <td>Total male and female</td>\n",
       "      <td>Total</td>\n",
       "      <td>Total</td>\n",
       "      <td>Total</td>\n",
       "      <td>Value</td>\n",
       "      <td>2016</td>\n",
       "      <td>2.85</td>\n",
       "      <td>10.27</td>\n",
       "    </tr>\n",
       "    <tr>\n",
       "      <th>18</th>\n",
       "      <td>18</td>\n",
       "      <td>Total male and female</td>\n",
       "      <td>Total</td>\n",
       "      <td>Total</td>\n",
       "      <td>Total</td>\n",
       "      <td>Value</td>\n",
       "      <td>2017</td>\n",
       "      <td>2.81</td>\n",
       "      <td>10.38</td>\n",
       "    </tr>\n",
       "    <tr>\n",
       "      <th>19</th>\n",
       "      <td>19</td>\n",
       "      <td>Total male and female</td>\n",
       "      <td>Total</td>\n",
       "      <td>Total</td>\n",
       "      <td>Total</td>\n",
       "      <td>Value</td>\n",
       "      <td>2018</td>\n",
       "      <td>2.89</td>\n",
       "      <td>10.37</td>\n",
       "    </tr>\n",
       "    <tr>\n",
       "      <th>20</th>\n",
       "      <td>20</td>\n",
       "      <td>Total male and female</td>\n",
       "      <td>Total</td>\n",
       "      <td>Total</td>\n",
       "      <td>Total</td>\n",
       "      <td>Value</td>\n",
       "      <td>2019</td>\n",
       "      <td>2.82</td>\n",
       "      <td>10.44</td>\n",
       "    </tr>\n",
       "    <tr>\n",
       "      <th>21</th>\n",
       "      <td>21</td>\n",
       "      <td>Total male and female</td>\n",
       "      <td>Total</td>\n",
       "      <td>Total</td>\n",
       "      <td>Total</td>\n",
       "      <td>Value</td>\n",
       "      <td>2020</td>\n",
       "      <td>2.34</td>\n",
       "      <td>8.77</td>\n",
       "    </tr>\n",
       "    <tr>\n",
       "      <th>22</th>\n",
       "      <td>22</td>\n",
       "      <td>Total male and female</td>\n",
       "      <td>Total</td>\n",
       "      <td>Total</td>\n",
       "      <td>Total</td>\n",
       "      <td>Lower bound 95% confidence interval</td>\n",
       "      <td>1999</td>\n",
       "      <td>3.10</td>\n",
       "      <td>9.48</td>\n",
       "    </tr>\n",
       "    <tr>\n",
       "      <th>23</th>\n",
       "      <td>23</td>\n",
       "      <td>Total male and female</td>\n",
       "      <td>Total</td>\n",
       "      <td>Total</td>\n",
       "      <td>Total</td>\n",
       "      <td>Lower bound 95% confidence interval</td>\n",
       "      <td>2000</td>\n",
       "      <td>3.04</td>\n",
       "      <td>9.56</td>\n",
       "    </tr>\n",
       "    <tr>\n",
       "      <th>24</th>\n",
       "      <td>24</td>\n",
       "      <td>Total male and female</td>\n",
       "      <td>Total</td>\n",
       "      <td>Total</td>\n",
       "      <td>Total</td>\n",
       "      <td>Lower bound 95% confidence interval</td>\n",
       "      <td>2001</td>\n",
       "      <td>3.00</td>\n",
       "      <td>9.51</td>\n",
       "    </tr>\n",
       "  </tbody>\n",
       "</table>\n",
       "</div>"
      ],
      "text/plain": [
       "    ID                    Sex    Age ModesOfTravel TravelMotives  \\\n",
       "0    0  Total male and female  Total         Total         Total   \n",
       "1    1  Total male and female  Total         Total         Total   \n",
       "2    2  Total male and female  Total         Total         Total   \n",
       "3    3  Total male and female  Total         Total         Total   \n",
       "4    4  Total male and female  Total         Total         Total   \n",
       "5    5  Total male and female  Total         Total         Total   \n",
       "6    6  Total male and female  Total         Total         Total   \n",
       "7    7  Total male and female  Total         Total         Total   \n",
       "8    8  Total male and female  Total         Total         Total   \n",
       "9    9  Total male and female  Total         Total         Total   \n",
       "10  10  Total male and female  Total         Total         Total   \n",
       "11  11  Total male and female  Total         Total         Total   \n",
       "12  12  Total male and female  Total         Total         Total   \n",
       "13  13  Total male and female  Total         Total         Total   \n",
       "14  14  Total male and female  Total         Total         Total   \n",
       "15  15  Total male and female  Total         Total         Total   \n",
       "16  16  Total male and female  Total         Total         Total   \n",
       "17  17  Total male and female  Total         Total         Total   \n",
       "18  18  Total male and female  Total         Total         Total   \n",
       "19  19  Total male and female  Total         Total         Total   \n",
       "20  20  Total male and female  Total         Total         Total   \n",
       "21  21  Total male and female  Total         Total         Total   \n",
       "22  22  Total male and female  Total         Total         Total   \n",
       "23  23  Total male and female  Total         Total         Total   \n",
       "24  24  Total male and female  Total         Total         Total   \n",
       "\n",
       "                                Margins Periods  \\\n",
       "0                                 Value    1999   \n",
       "1                                 Value    2000   \n",
       "2                                 Value    2001   \n",
       "3                                 Value    2002   \n",
       "4                                 Value    2003   \n",
       "5                                 Value    2004   \n",
       "6                                 Value    2005   \n",
       "7                                 Value    2006   \n",
       "8                                 Value    2007   \n",
       "9                                 Value    2008   \n",
       "10                                Value    2009   \n",
       "11                                Value    2010   \n",
       "12                                Value    2011   \n",
       "13                                Value    2012   \n",
       "14                                Value    2013   \n",
       "15                                Value    2014   \n",
       "16                                Value    2015   \n",
       "17                                Value    2016   \n",
       "18                                Value    2017   \n",
       "19                                Value    2018   \n",
       "20                                Value    2019   \n",
       "21                                Value    2020   \n",
       "22  Lower bound 95% confidence interval    1999   \n",
       "23  Lower bound 95% confidence interval    2000   \n",
       "24  Lower bound 95% confidence interval    2001   \n",
       "\n",
       "    StagesPerPersonPerDayAverage_1  DistanceTravelledPerStageAverage_2  \n",
       "0                             3.17                                9.76  \n",
       "1                             3.11                                9.82  \n",
       "2                             3.07                                9.79  \n",
       "3                             3.08                                9.81  \n",
       "4                             3.08                                9.86  \n",
       "5                             3.10                                9.88  \n",
       "6                             3.05                                9.92  \n",
       "7                             3.08                                9.92  \n",
       "8                             3.03                               10.03  \n",
       "9                             3.00                                9.92  \n",
       "10                            3.04                                9.96  \n",
       "11                            3.05                                9.93  \n",
       "12                            2.95                               10.12  \n",
       "13                            2.96                               10.11  \n",
       "14                            2.97                               10.14  \n",
       "15                            2.98                               10.15  \n",
       "16                            2.89                               10.26  \n",
       "17                            2.85                               10.27  \n",
       "18                            2.81                               10.38  \n",
       "19                            2.89                               10.37  \n",
       "20                            2.82                               10.44  \n",
       "21                            2.34                                8.77  \n",
       "22                            3.10                                9.48  \n",
       "23                            3.04                                9.56  \n",
       "24                            3.00                                9.51  "
      ]
     },
     "execution_count": 39,
     "metadata": {},
     "output_type": "execute_result"
    }
   ],
   "source": [
    "dftotals.head(25)\n"
   ]
  },
  {
   "cell_type": "code",
   "execution_count": 46,
   "id": "cc69f1fb",
   "metadata": {},
   "outputs": [
    {
     "name": "stderr",
     "output_type": "stream",
     "text": [
      "C:\\Users\\31612\\AppData\\Local\\Temp/ipykernel_36448/3261767254.py:1: SettingWithCopyWarning: \n",
      "A value is trying to be set on a copy of a slice from a DataFrame.\n",
      "Try using .loc[row_indexer,col_indexer] = value instead\n",
      "\n",
      "See the caveats in the documentation: https://pandas.pydata.org/pandas-docs/stable/user_guide/indexing.html#returning-a-view-versus-a-copy\n",
      "  dftotals['Periods'] = dftotals['Periods'].astype(int)\n"
     ]
    }
   ],
   "source": [
    "dftotals['Periods'] = dftotals['Periods'].astype(int)"
   ]
  },
  {
   "cell_type": "code",
   "execution_count": 48,
   "id": "40b0717e",
   "metadata": {},
   "outputs": [
    {
     "data": {
      "text/html": [
       "<div>\n",
       "<style scoped>\n",
       "    .dataframe tbody tr th:only-of-type {\n",
       "        vertical-align: middle;\n",
       "    }\n",
       "\n",
       "    .dataframe tbody tr th {\n",
       "        vertical-align: top;\n",
       "    }\n",
       "\n",
       "    .dataframe thead th {\n",
       "        text-align: right;\n",
       "    }\n",
       "</style>\n",
       "<table border=\"1\" class=\"dataframe\">\n",
       "  <thead>\n",
       "    <tr style=\"text-align: right;\">\n",
       "      <th></th>\n",
       "      <th>ID</th>\n",
       "      <th>Sex</th>\n",
       "      <th>Age</th>\n",
       "      <th>ModesOfTravel</th>\n",
       "      <th>TravelMotives</th>\n",
       "      <th>Margins</th>\n",
       "      <th>Periods</th>\n",
       "      <th>StagesPerPersonPerDayAverage_1</th>\n",
       "      <th>DistanceTravelledPerStageAverage_2</th>\n",
       "    </tr>\n",
       "  </thead>\n",
       "  <tbody>\n",
       "    <tr>\n",
       "      <th>0</th>\n",
       "      <td>0</td>\n",
       "      <td>Total male and female</td>\n",
       "      <td>Total</td>\n",
       "      <td>Total</td>\n",
       "      <td>Total</td>\n",
       "      <td>Value</td>\n",
       "      <td>1999</td>\n",
       "      <td>3.17</td>\n",
       "      <td>9.76</td>\n",
       "    </tr>\n",
       "    <tr>\n",
       "      <th>22</th>\n",
       "      <td>22</td>\n",
       "      <td>Total male and female</td>\n",
       "      <td>Total</td>\n",
       "      <td>Total</td>\n",
       "      <td>Total</td>\n",
       "      <td>Lower bound 95% confidence interval</td>\n",
       "      <td>1999</td>\n",
       "      <td>3.10</td>\n",
       "      <td>9.48</td>\n",
       "    </tr>\n",
       "    <tr>\n",
       "      <th>44</th>\n",
       "      <td>44</td>\n",
       "      <td>Total male and female</td>\n",
       "      <td>Total</td>\n",
       "      <td>Total</td>\n",
       "      <td>Total</td>\n",
       "      <td>Upper bound 95% confidence interval</td>\n",
       "      <td>1999</td>\n",
       "      <td>3.24</td>\n",
       "      <td>10.05</td>\n",
       "    </tr>\n",
       "    <tr>\n",
       "      <th>1</th>\n",
       "      <td>1</td>\n",
       "      <td>Total male and female</td>\n",
       "      <td>Total</td>\n",
       "      <td>Total</td>\n",
       "      <td>Total</td>\n",
       "      <td>Value</td>\n",
       "      <td>2000</td>\n",
       "      <td>3.11</td>\n",
       "      <td>9.82</td>\n",
       "    </tr>\n",
       "    <tr>\n",
       "      <th>23</th>\n",
       "      <td>23</td>\n",
       "      <td>Total male and female</td>\n",
       "      <td>Total</td>\n",
       "      <td>Total</td>\n",
       "      <td>Total</td>\n",
       "      <td>Lower bound 95% confidence interval</td>\n",
       "      <td>2000</td>\n",
       "      <td>3.04</td>\n",
       "      <td>9.56</td>\n",
       "    </tr>\n",
       "    <tr>\n",
       "      <th>...</th>\n",
       "      <td>...</td>\n",
       "      <td>...</td>\n",
       "      <td>...</td>\n",
       "      <td>...</td>\n",
       "      <td>...</td>\n",
       "      <td>...</td>\n",
       "      <td>...</td>\n",
       "      <td>...</td>\n",
       "      <td>...</td>\n",
       "    </tr>\n",
       "    <tr>\n",
       "      <th>20</th>\n",
       "      <td>20</td>\n",
       "      <td>Total male and female</td>\n",
       "      <td>Total</td>\n",
       "      <td>Total</td>\n",
       "      <td>Total</td>\n",
       "      <td>Value</td>\n",
       "      <td>2019</td>\n",
       "      <td>2.82</td>\n",
       "      <td>10.44</td>\n",
       "    </tr>\n",
       "    <tr>\n",
       "      <th>42</th>\n",
       "      <td>42</td>\n",
       "      <td>Total male and female</td>\n",
       "      <td>Total</td>\n",
       "      <td>Total</td>\n",
       "      <td>Total</td>\n",
       "      <td>Lower bound 95% confidence interval</td>\n",
       "      <td>2019</td>\n",
       "      <td>2.76</td>\n",
       "      <td>10.20</td>\n",
       "    </tr>\n",
       "    <tr>\n",
       "      <th>43</th>\n",
       "      <td>43</td>\n",
       "      <td>Total male and female</td>\n",
       "      <td>Total</td>\n",
       "      <td>Total</td>\n",
       "      <td>Total</td>\n",
       "      <td>Lower bound 95% confidence interval</td>\n",
       "      <td>2020</td>\n",
       "      <td>2.28</td>\n",
       "      <td>8.49</td>\n",
       "    </tr>\n",
       "    <tr>\n",
       "      <th>21</th>\n",
       "      <td>21</td>\n",
       "      <td>Total male and female</td>\n",
       "      <td>Total</td>\n",
       "      <td>Total</td>\n",
       "      <td>Total</td>\n",
       "      <td>Value</td>\n",
       "      <td>2020</td>\n",
       "      <td>2.34</td>\n",
       "      <td>8.77</td>\n",
       "    </tr>\n",
       "    <tr>\n",
       "      <th>65</th>\n",
       "      <td>65</td>\n",
       "      <td>Total male and female</td>\n",
       "      <td>Total</td>\n",
       "      <td>Total</td>\n",
       "      <td>Total</td>\n",
       "      <td>Upper bound 95% confidence interval</td>\n",
       "      <td>2020</td>\n",
       "      <td>2.39</td>\n",
       "      <td>9.06</td>\n",
       "    </tr>\n",
       "  </tbody>\n",
       "</table>\n",
       "<p>66 rows × 9 columns</p>\n",
       "</div>"
      ],
      "text/plain": [
       "    ID                    Sex    Age ModesOfTravel TravelMotives  \\\n",
       "0    0  Total male and female  Total         Total         Total   \n",
       "22  22  Total male and female  Total         Total         Total   \n",
       "44  44  Total male and female  Total         Total         Total   \n",
       "1    1  Total male and female  Total         Total         Total   \n",
       "23  23  Total male and female  Total         Total         Total   \n",
       "..  ..                    ...    ...           ...           ...   \n",
       "20  20  Total male and female  Total         Total         Total   \n",
       "42  42  Total male and female  Total         Total         Total   \n",
       "43  43  Total male and female  Total         Total         Total   \n",
       "21  21  Total male and female  Total         Total         Total   \n",
       "65  65  Total male and female  Total         Total         Total   \n",
       "\n",
       "                                Margins  Periods  \\\n",
       "0                                 Value     1999   \n",
       "22  Lower bound 95% confidence interval     1999   \n",
       "44  Upper bound 95% confidence interval     1999   \n",
       "1                                 Value     2000   \n",
       "23  Lower bound 95% confidence interval     2000   \n",
       "..                                  ...      ...   \n",
       "20                                Value     2019   \n",
       "42  Lower bound 95% confidence interval     2019   \n",
       "43  Lower bound 95% confidence interval     2020   \n",
       "21                                Value     2020   \n",
       "65  Upper bound 95% confidence interval     2020   \n",
       "\n",
       "    StagesPerPersonPerDayAverage_1  DistanceTravelledPerStageAverage_2  \n",
       "0                             3.17                                9.76  \n",
       "22                            3.10                                9.48  \n",
       "44                            3.24                               10.05  \n",
       "1                             3.11                                9.82  \n",
       "23                            3.04                                9.56  \n",
       "..                             ...                                 ...  \n",
       "20                            2.82                               10.44  \n",
       "42                            2.76                               10.20  \n",
       "43                            2.28                                8.49  \n",
       "21                            2.34                                8.77  \n",
       "65                            2.39                                9.06  \n",
       "\n",
       "[66 rows x 9 columns]"
      ]
     },
     "execution_count": 48,
     "metadata": {},
     "output_type": "execute_result"
    }
   ],
   "source": [
    "dftotals.sort_values(by='Periods', ascending=True, na_position='first')"
   ]
  },
  {
   "cell_type": "code",
   "execution_count": 49,
   "id": "b81a5c98",
   "metadata": {},
   "outputs": [
    {
     "data": {
      "image/png": "[encoded data removed]",
      "text/plain": [
       "<Figure size 432x288 with 1 Axes>"
      ]
     },
     "metadata": {
      "needs_background": "light"
     },
     "output_type": "display_data"
    }
   ],
   "source": [
    "dftotals[dftotals['Margins']==\"Value\"].plot( 'Periods' , 'DistanceTravelledPerStageAverage_2' );\n",
    "  "
   ]
  },
  {
   "cell_type": "code",
   "execution_count": 64,
   "id": "cf7e7ff6",
   "metadata": {},
   "outputs": [
    {
     "data": {
      "text/plain": [
       "Text(0.5, 1.0, 'Stages_per-person')"
      ]
     },
     "execution_count": 64,
     "metadata": {},
     "output_type": "execute_result"
    },
    {
     "data": {
      "image/png": "[encoded data removed]",
      "text/plain": [
       "<Figure size 432x288 with 1 Axes>"
      ]
     },
     "metadata": {
      "needs_background": "light"
     },
     "output_type": "display_data"
    }
   ],
   "source": [
    "dftotals.plot( 'Periods' , 'StagesPerPersonPerDayAverage_1' )\n",
    "plt.xlabel(\"Periods\")\n",
    "plt.ylabel(\"StagesPerPersonPerDayAverage_1\")\n",
    "plt.title(\"Stages_per-person\")"
   ]
  },
  {
   "cell_type": "markdown",
   "id": "8862e944",
   "metadata": {},
   "source": [
    "# Selecting 2019 and 2020 to perform a t-test"
   ]
  },
  {
   "cell_type": "markdown",
   "id": "914c60d3",
   "metadata": {},
   "source": [
    "### Dataframe 2019, TravelMotif work"
   ]
  },
  {
   "cell_type": "code",
   "execution_count": 50,
   "id": "6776311b",
   "metadata": {},
   "outputs": [],
   "source": [
    "datahip = dfclean.copy()"
   ]
  },
  {
   "cell_type": "code",
   "execution_count": 51,
   "id": "acafa120",
   "metadata": {},
   "outputs": [
    {
     "data": {
      "text/html": [
       "<div>\n",
       "<style scoped>\n",
       "    .dataframe tbody tr th:only-of-type {\n",
       "        vertical-align: middle;\n",
       "    }\n",
       "\n",
       "    .dataframe tbody tr th {\n",
       "        vertical-align: top;\n",
       "    }\n",
       "\n",
       "    .dataframe thead th {\n",
       "        text-align: right;\n",
       "    }\n",
       "</style>\n",
       "<table border=\"1\" class=\"dataframe\">\n",
       "  <thead>\n",
       "    <tr style=\"text-align: right;\">\n",
       "      <th></th>\n",
       "      <th>ID</th>\n",
       "      <th>Sex</th>\n",
       "      <th>Age</th>\n",
       "      <th>ModesOfTravel</th>\n",
       "      <th>TravelMotives</th>\n",
       "      <th>Margins</th>\n",
       "      <th>Periods</th>\n",
       "      <th>StagesPerPersonPerDayAverage_1</th>\n",
       "      <th>DistanceTravelledPerStageAverage_2</th>\n",
       "    </tr>\n",
       "  </thead>\n",
       "  <tbody>\n",
       "    <tr>\n",
       "      <th>40326</th>\n",
       "      <td>40326</td>\n",
       "      <td>Male</td>\n",
       "      <td>12 to 17 years</td>\n",
       "      <td>Car as passenger</td>\n",
       "      <td>Travel to/from work, (non)-daily commute</td>\n",
       "      <td>Value</td>\n",
       "      <td>1999</td>\n",
       "      <td>0.03</td>\n",
       "      <td>18.65</td>\n",
       "    </tr>\n",
       "    <tr>\n",
       "      <th>40327</th>\n",
       "      <td>40327</td>\n",
       "      <td>Male</td>\n",
       "      <td>12 to 17 years</td>\n",
       "      <td>Car as passenger</td>\n",
       "      <td>Travel to/from work, (non)-daily commute</td>\n",
       "      <td>Value</td>\n",
       "      <td>2000</td>\n",
       "      <td>0.03</td>\n",
       "      <td>18.60</td>\n",
       "    </tr>\n",
       "    <tr>\n",
       "      <th>40328</th>\n",
       "      <td>40328</td>\n",
       "      <td>Male</td>\n",
       "      <td>12 to 17 years</td>\n",
       "      <td>Car as passenger</td>\n",
       "      <td>Travel to/from work, (non)-daily commute</td>\n",
       "      <td>Value</td>\n",
       "      <td>2001</td>\n",
       "      <td>0.02</td>\n",
       "      <td>18.30</td>\n",
       "    </tr>\n",
       "    <tr>\n",
       "      <th>40329</th>\n",
       "      <td>40329</td>\n",
       "      <td>Male</td>\n",
       "      <td>12 to 17 years</td>\n",
       "      <td>Car as passenger</td>\n",
       "      <td>Travel to/from work, (non)-daily commute</td>\n",
       "      <td>Value</td>\n",
       "      <td>2002</td>\n",
       "      <td>0.02</td>\n",
       "      <td>18.27</td>\n",
       "    </tr>\n",
       "    <tr>\n",
       "      <th>40330</th>\n",
       "      <td>40330</td>\n",
       "      <td>Male</td>\n",
       "      <td>12 to 17 years</td>\n",
       "      <td>Car as passenger</td>\n",
       "      <td>Travel to/from work, (non)-daily commute</td>\n",
       "      <td>Value</td>\n",
       "      <td>2003</td>\n",
       "      <td>0.02</td>\n",
       "      <td>18.36</td>\n",
       "    </tr>\n",
       "  </tbody>\n",
       "</table>\n",
       "</div>"
      ],
      "text/plain": [
       "          ID   Sex             Age     ModesOfTravel  \\\n",
       "40326  40326  Male  12 to 17 years  Car as passenger   \n",
       "40327  40327  Male  12 to 17 years  Car as passenger   \n",
       "40328  40328  Male  12 to 17 years  Car as passenger   \n",
       "40329  40329  Male  12 to 17 years  Car as passenger   \n",
       "40330  40330  Male  12 to 17 years  Car as passenger   \n",
       "\n",
       "                                  TravelMotives Margins Periods  \\\n",
       "40326  Travel to/from work, (non)-daily commute   Value    1999   \n",
       "40327  Travel to/from work, (non)-daily commute   Value    2000   \n",
       "40328  Travel to/from work, (non)-daily commute   Value    2001   \n",
       "40329  Travel to/from work, (non)-daily commute   Value    2002   \n",
       "40330  Travel to/from work, (non)-daily commute   Value    2003   \n",
       "\n",
       "       StagesPerPersonPerDayAverage_1  DistanceTravelledPerStageAverage_2  \n",
       "40326                            0.03                               18.65  \n",
       "40327                            0.03                               18.60  \n",
       "40328                            0.02                               18.30  \n",
       "40329                            0.02                               18.27  \n",
       "40330                            0.02                               18.36  "
      ]
     },
     "execution_count": 51,
     "metadata": {},
     "output_type": "execute_result"
    }
   ],
   "source": [
    "datahip.head()"
   ]
  },
  {
   "cell_type": "code",
   "execution_count": 53,
   "id": "dab8b4fa",
   "metadata": {},
   "outputs": [
    {
     "name": "stdout",
     "output_type": "stream",
     "text": [
      "<class 'pandas.core.frame.DataFrame'>\n",
      "Int64Index: 22872 entries, 40326 to 92399\n",
      "Data columns (total 9 columns):\n",
      " #   Column                              Non-Null Count  Dtype  \n",
      "---  ------                              --------------  -----  \n",
      " 0   ID                                  22872 non-null  int64  \n",
      " 1   Sex                                 22872 non-null  object \n",
      " 2   Age                                 22872 non-null  object \n",
      " 3   ModesOfTravel                       22872 non-null  object \n",
      " 4   TravelMotives                       22872 non-null  object \n",
      " 5   Margins                             22872 non-null  object \n",
      " 6   Periods                             22872 non-null  object \n",
      " 7   StagesPerPersonPerDayAverage_1      22872 non-null  float64\n",
      " 8   DistanceTravelledPerStageAverage_2  22872 non-null  float64\n",
      "dtypes: float64(2), int64(1), object(6)\n",
      "memory usage: 1.7+ MB\n"
     ]
    }
   ],
   "source": [
    "datahip.info()"
   ]
  },
  {
   "cell_type": "code",
   "execution_count": 52,
   "id": "7d64bd29",
   "metadata": {},
   "outputs": [
    {
     "data": {
      "text/plain": [
       "(22872, 9)"
      ]
     },
     "execution_count": 52,
     "metadata": {},
     "output_type": "execute_result"
    }
   ],
   "source": [
    "datahip.shape"
   ]
  },
  {
   "cell_type": "code",
   "execution_count": 54,
   "id": "86606bbf",
   "metadata": {},
   "outputs": [],
   "source": [
    "df2019 = datahip[(datahip.ModesOfTravel!= 'Total') &(datahip.Periods == '2019') & (datahip.TravelMotives == 'Travel to/from work, (non)-daily commute')  & (datahip.Sex !='Total male and female') & (datahip.Age != 'Total')& (datahip.Age != '0 to 5 years') & (datahip.Age !='6 to 11 years') & (datahip.Age !='70 years or older')]"
   ]
  },
  {
   "cell_type": "code",
   "execution_count": 55,
   "id": "2900e2ac",
   "metadata": {},
   "outputs": [
    {
     "data": {
      "text/plain": [
       "(291, 9)"
      ]
     },
     "execution_count": 55,
     "metadata": {},
     "output_type": "execute_result"
    }
   ],
   "source": [
    "df2019.shape"
   ]
  },
  {
   "cell_type": "markdown",
   "id": "85459e76",
   "metadata": {},
   "source": [
    "### Dataframe 2020, TravelMotif work"
   ]
  },
  {
   "cell_type": "code",
   "execution_count": 56,
   "id": "7da3c5fc",
   "metadata": {},
   "outputs": [],
   "source": [
    "df2020 = datahip[(datahip.ModesOfTravel!= 'Total') &(datahip.Periods == '2020') & (datahip.TravelMotives == 'Travel to/from work, (non)-daily commute')  & (datahip.Sex !='Total male and female') & (datahip.Age != 'Total')& (datahip.Age != '0 to 5 years') & (datahip.Age !='6 to 11 years') & (datahip.Age !='70 years or older')]"
   ]
  },
  {
   "cell_type": "code",
   "execution_count": 57,
   "id": "90a222ec",
   "metadata": {},
   "outputs": [
    {
     "data": {
      "text/plain": [
       "(246, 9)"
      ]
     },
     "execution_count": 57,
     "metadata": {},
     "output_type": "execute_result"
    }
   ],
   "source": [
    "df2020.shape"
   ]
  },
  {
   "cell_type": "markdown",
   "id": "be13877c",
   "metadata": {},
   "source": [
    "### Building the t-statistic"
   ]
  },
  {
   "cell_type": "markdown",
   "id": "5f0945c6",
   "metadata": {},
   "source": [
    "We are going to conduct a two-sample t-test (also known as the independent samples t-test). This test is used when your data values are independent, are randomly sampled from two normal populations and the two independent groups have equal variances."
   ]
  },
  {
   "cell_type": "code",
   "execution_count": null,
   "id": "89747938",
   "metadata": {},
   "outputs": [],
   "source": [
    "#Checking if the distribution of the sampling means tend to a normal distribution. "
   ]
  },
  {
   "cell_type": "code",
   "execution_count": null,
   "id": "5bbedcfb",
   "metadata": {},
   "outputs": [],
   "source": [
    "#datahip['StagesPerPersonPerDayAverage_1'].sample(30).mean()"
   ]
  },
  {
   "cell_type": "markdown",
   "id": "4ad917d5",
   "metadata": {},
   "source": [
    "#### Size of the two samples"
   ]
  },
  {
   "cell_type": "code",
   "execution_count": 69,
   "id": "4d6c5b71",
   "metadata": {
    "scrolled": true
   },
   "outputs": [
    {
     "name": "stdout",
     "output_type": "stream",
     "text": [
      "291\n"
     ]
    }
   ],
   "source": [
    "print(len(df2019))"
   ]
  },
  {
   "cell_type": "code",
   "execution_count": 70,
   "id": "9586193b",
   "metadata": {},
   "outputs": [
    {
     "name": "stdout",
     "output_type": "stream",
     "text": [
      "246\n"
     ]
    }
   ],
   "source": [
    "print(len(df2020))"
   ]
  },
  {
   "cell_type": "markdown",
   "id": "69ea7373",
   "metadata": {},
   "source": [
    "#### Mean for each sample"
   ]
  },
  {
   "cell_type": "code",
   "execution_count": 59,
   "id": "4cce1c44",
   "metadata": {
    "scrolled": true
   },
   "outputs": [
    {
     "data": {
      "text/plain": [
       "14.630584192439862"
      ]
     },
     "execution_count": 59,
     "metadata": {},
     "output_type": "execute_result"
    }
   ],
   "source": [
    "Mean_2019= df2019['DistanceTravelledPerStageAverage_2'].mean()\n",
    "Mean_2019"
   ]
  },
  {
   "cell_type": "code",
   "execution_count": 61,
   "id": "5fc63403",
   "metadata": {},
   "outputs": [
    {
     "data": {
      "text/plain": [
       "12.483211382113833"
      ]
     },
     "execution_count": 61,
     "metadata": {},
     "output_type": "execute_result"
    }
   ],
   "source": [
    "Mean_2020= df2020['DistanceTravelledPerStageAverage_2'].mean()\n",
    "Mean_2020"
   ]
  },
  {
   "cell_type": "markdown",
   "id": "23f6c5bb",
   "metadata": {},
   "source": [
    "#### Difference between the means"
   ]
  },
  {
   "cell_type": "code",
   "execution_count": 104,
   "id": "5986b61e",
   "metadata": {},
   "outputs": [
    {
     "name": "stdout",
     "output_type": "stream",
     "text": [
      "2.1473728103260292\n"
     ]
    }
   ],
   "source": [
    "difmeans = df2019['DistanceTravelledPerStageAverage_2'].mean() - df2020['DistanceTravelledPerStageAverage_2'].mean()\n",
    "print(difmeans)"
   ]
  },
  {
   "cell_type": "markdown",
   "id": "8dd5fae8",
   "metadata": {},
   "source": [
    "#### Variance for each sample"
   ]
  },
  {
   "cell_type": "code",
   "execution_count": 86,
   "id": "6c062cf9",
   "metadata": {},
   "outputs": [
    {
     "name": "stdout",
     "output_type": "stream",
     "text": [
      "156.30431793340455\n"
     ]
    }
   ],
   "source": [
    "var_2019 = np.var(df2019['DistanceTravelledPerStageAverage_2'],ddof=1)\n",
    "print(var_2019)"
   ]
  },
  {
   "cell_type": "code",
   "execution_count": 87,
   "id": "f11ebb72",
   "metadata": {},
   "outputs": [
    {
     "name": "stdout",
     "output_type": "stream",
     "text": [
      "124.73223903268628\n"
     ]
    }
   ],
   "source": [
    "var_2020 = np.var(df2020['DistanceTravelledPerStageAverage_2'],ddof=1)\n",
    "print(var_2020)"
   ]
  },
  {
   "cell_type": "markdown",
   "id": "b0a3146a",
   "metadata": {},
   "source": [
    "#### Standard deviation for each sample"
   ]
  },
  {
   "cell_type": "code",
   "execution_count": 88,
   "id": "51fd9b7c",
   "metadata": {},
   "outputs": [
    {
     "name": "stdout",
     "output_type": "stream",
     "text": [
      "12.50217252854097\n"
     ]
    }
   ],
   "source": [
    "std_2019 = np.std(df2019['DistanceTravelledPerStageAverage_2'],ddof=1)\n",
    "print(std_2019)\n"
   ]
  },
  {
   "cell_type": "code",
   "execution_count": 89,
   "id": "1c9db395",
   "metadata": {},
   "outputs": [
    {
     "name": "stdout",
     "output_type": "stream",
     "text": [
      "11.168358833449357\n"
     ]
    }
   ],
   "source": [
    "std_2020 = np.std(df2020['DistanceTravelledPerStageAverage_2'],ddof=1)\n",
    "print(std_2020)"
   ]
  },
  {
   "cell_type": "markdown",
   "id": "b6802e3e",
   "metadata": {},
   "source": [
    "#### Pooled variance"
   ]
  },
  {
   "cell_type": "code",
   "execution_count": 105,
   "id": "b83446ca",
   "metadata": {
    "scrolled": true
   },
   "outputs": [
    {
     "name": "stdout",
     "output_type": "stream",
     "text": [
      "20367.74532635147\n"
     ]
    }
   ],
   "source": [
    "  pooled_var = ( ( (len(df2019)-1) * (var_2019**2) ) + ( (len(df2020)-1) * (var_2020**2) ) )/ (len(df2019) + len(df2020) -2)\n",
    "print(pooled_var) "
   ]
  },
  {
   "cell_type": "markdown",
   "id": "816d14d4",
   "metadata": {},
   "source": [
    "#### Pooled standard deviation"
   ]
  },
  {
   "cell_type": "code",
   "execution_count": 97,
   "id": "9ea70782",
   "metadata": {},
   "outputs": [
    {
     "name": "stdout",
     "output_type": "stream",
     "text": [
      "142.7156099603385\n"
     ]
    }
   ],
   "source": [
    "pooled_std = math.sqrt(pooled_var)\n",
    "print(pooled_std)"
   ]
  },
  {
   "cell_type": "markdown",
   "id": "4b8b600b",
   "metadata": {},
   "source": [
    "#### t-statistic\n"
   ]
  },
  {
   "cell_type": "code",
   "execution_count": 103,
   "id": "eb904847",
   "metadata": {},
   "outputs": [
    {
     "name": "stdout",
     "output_type": "stream",
     "text": [
      "0.1737252226797433\n"
     ]
    }
   ],
   "source": [
    "#The t-statistic is the difference of the average for each sample divided by the standard error of difference.\n",
    "\n",
    "t_statistic = (difmeans)/(pooled_std*(math.sqrt(1/(len(df2019))+(1/(len(df2020))))))\n",
    "print(t_statistic)"
   ]
  },
  {
   "cell_type": "code",
   "execution_count": 112,
   "id": "49bf615e",
   "metadata": {},
   "outputs": [
    {
     "name": "stdout",
     "output_type": "stream",
     "text": [
      "The lower critical values is: -1.96\n",
      "The upper critical values is: 1.96\n"
     ]
    }
   ],
   "source": [
    "import scipy.stats as st\n",
    "\n",
    "alpha = .05\n",
    "\n",
    "print(\"The lower critical values is: {:.2f}\".format(st.t.ppf(0.05/2,df=len(df2019)+len(df2020)-2)))\n",
    "print(\"The upper critical values is: {:.2f}\".format(st.t.ppf(1-(0.05/2),df=len(df2019)+len(df2020)-2)))\n",
    "#st.norm.ppf(0.05/2)\n"
   ]
  },
  {
   "cell_type": "code",
   "execution_count": null,
   "id": "238fbd1e",
   "metadata": {},
   "outputs": [],
   "source": []
  }
 ],
 "metadata": {
  "kernelspec": {
   "display_name": "Python 3 (ipykernel)",
   "language": "python",
   "name": "python3"
  },
  "language_info": {
   "codemirror_mode": {
    "name": "ipython",
    "version": 3
   },
   "file_extension": ".py",
   "mimetype": "text/x-python",
   "name": "python",
   "nbconvert_exporter": "python",
   "pygments_lexer": "ipython3",
   "version": "3.9.7"
  },
  "toc": {
   "base_numbering": 1,
   "nav_menu": {},
   "number_sections": true,
   "sideBar": true,
   "skip_h1_title": false,
   "title_cell": "Table of Contents",
   "title_sidebar": "Contents",
   "toc_cell": false,
   "toc_position": {},
   "toc_section_display": true,
   "toc_window_display": true
  },
  "varInspector": {
   "cols": {
    "lenName": 16,
    "lenType": 16,
    "lenVar": 40
   },
   "kernels_config": {
    "python": {
     "delete_cmd_postfix": "",
     "delete_cmd_prefix": "del ",
     "library": "var_list.py",
     "varRefreshCmd": "print(var_dic_list())"
    },
    "r": {
     "delete_cmd_postfix": ") ",
     "delete_cmd_prefix": "rm(",
     "library": "var_list.r",
     "varRefreshCmd": "cat(var_dic_list()) "
    }
   },
   "types_to_exclude": [
    "module",
    "function",
    "builtin_function_or_method",
    "instance",
    "_Feature"
   ],
   "window_display": false
  }
 },
 "nbformat": 4,
 "nbformat_minor": 5
}
