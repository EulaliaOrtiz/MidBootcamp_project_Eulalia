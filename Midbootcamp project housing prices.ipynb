{
 "cells": [
  {
   "cell_type": "markdown",
   "id": "e867100c",
   "metadata": {},
   "source": [
    "Your company wants to build a machine learning model to predict the selling prices of houses based on a variety of features on which the value of the house is evaluated.\n",
    "Your job is to build a model that will predict the price of a house based on features provided in the dataset. Senior management also wants to explore the characteristics of the houses using some business intelligence tools. One of those parameters includes understanding which factors are responsible for higher property value - $650K and above."
   ]
  },
  {
   "cell_type": "markdown",
   "id": "b177af03",
   "metadata": {},
   "source": [
    "# Importing the necessary libraries."
   ]
  },
  {
   "cell_type": "code",
   "execution_count": null,
   "id": "9ad98651",
   "metadata": {},
   "outputs": [],
   "source": [
    "import numpy as np\n",
    "import pandas as pd\n",
    "import matplotlib.pyplot as plt\n",
    "import seaborn as sns\n",
    "from scipy.stats import norm\n",
    "from scipy import stats\n",
    "from sklearn.neighbors import KNeighborsRegressor\n",
    "import math\n",
    "import datetime\n",
    "from sklearn import linear_model \n",
    "from sklearn.linear_model import LogisticRegression\n",
    "from sklearn.neural_network import MLPRegressor\n",
    "from sklearn.preprocessing import PowerTransformer\n",
    "from sklearn.metrics import mean_absolute_percentage_error\n",
    "from sklearn.metrics import confusion_matrix, accuracy_score, precision_score, recall_score, ConfusionMatrixDisplay\n",
    "from sklearn.metrics import classification_report, f1_score, cohen_kappa_score\n",
    "from sklearn.preprocessing import MinMaxScaler, StandardScaler\n",
    "from sklearn.preprocessing import OneHotEncoder, LabelEncoder, OrdinalEncoder\n",
    "from sklearn.model_selection import train_test_split\n",
    "from sklearn.metrics import accuracy_score\n",
    "from sklearn.metrics import r2_score, mean_squared_error, mean_absolute_error\n",
    "from sklearn.metrics import cohen_kappa_score\n",
    "from imblearn.over_sampling import SMOTE"
   ]
  },
  {
   "cell_type": "code",
   "execution_count": null,
   "id": "f445c361",
   "metadata": {},
   "outputs": [],
   "source": [
    "%matplotlib inline"
   ]
  },
  {
   "cell_type": "code",
   "execution_count": null,
   "id": "fd0a9ce1",
   "metadata": {},
   "outputs": [],
   "source": [
    "pd.set_option('display.max_columns',None)"
   ]
  },
  {
   "cell_type": "markdown",
   "id": "deb93c87",
   "metadata": {},
   "source": [
    "# Loading the database "
   ]
  },
  {
   "cell_type": "code",
   "execution_count": null,
   "id": "b0241c31",
   "metadata": {},
   "outputs": [],
   "source": [
    "data = pd.read_excel('regression_data1.xls')"
   ]
  },
  {
   "cell_type": "code",
   "execution_count": null,
   "id": "82a59943",
   "metadata": {},
   "outputs": [],
   "source": [
    "data.head()"
   ]
  },
  {
   "cell_type": "code",
   "execution_count": null,
   "id": "30903c22",
   "metadata": {},
   "outputs": [],
   "source": [
    "data.shape"
   ]
  },
  {
   "cell_type": "code",
   "execution_count": null,
   "id": "efb6190d",
   "metadata": {},
   "outputs": [],
   "source": [
    "data.columns"
   ]
  },
  {
   "cell_type": "code",
   "execution_count": null,
   "id": "ffa65697",
   "metadata": {},
   "outputs": [],
   "source": [
    "data.dtypes"
   ]
  },
  {
   "cell_type": "code",
   "execution_count": null,
   "id": "831f7056",
   "metadata": {},
   "outputs": [],
   "source": [
    "data.isnull().sum()"
   ]
  },
  {
   "cell_type": "markdown",
   "id": "af2c2a67",
   "metadata": {},
   "source": [
    "# Analysing the independent variables"
   ]
  },
  {
   "cell_type": "markdown",
   "id": "0d881aa3",
   "metadata": {},
   "source": [
    "## Analysing ordinal categoricals "
   ]
  },
  {
   "cell_type": "code",
   "execution_count": null,
   "id": "f768bf97",
   "metadata": {
    "scrolled": true
   },
   "outputs": [],
   "source": [
    "data['bedrooms'].value_counts()   #Perhaps removing the properties with 33 rooms. Outlier or mistake. \n",
    "#Group in less categories? 1 and 2 rooms// five or more.Imbalance in the sample. Our database is concentrated in the 3-4 rooms categories. "
   ]
  },
  {
   "cell_type": "code",
   "execution_count": null,
   "id": "61c7b39f",
   "metadata": {},
   "outputs": [],
   "source": [
    "data['bathrooms'].value_counts() "
   ]
  },
  {
   "cell_type": "code",
   "execution_count": null,
   "id": "4d906f7d",
   "metadata": {},
   "outputs": [],
   "source": [
    "data['floors'].value_counts() #We have mostly flats in our database and townhouses, group also here 2 floors and more. "
   ]
  },
  {
   "cell_type": "markdown",
   "id": "0f37ffe9",
   "metadata": {},
   "source": [
    "We have mostly flats in our database and townhouses, group also here 2 floors and more. "
   ]
  },
  {
   "cell_type": "code",
   "execution_count": null,
   "id": "c50d612e",
   "metadata": {},
   "outputs": [],
   "source": [
    "data['waterfront'].value_counts() "
   ]
  },
  {
   "cell_type": "markdown",
   "id": "6ff7690f",
   "metadata": {},
   "source": [
    "Imbalance: most of the houses in one category. Visualizing the data with tableau, it seems that waterfront is defined very restrictively."
   ]
  },
  {
   "cell_type": "code",
   "execution_count": null,
   "id": "b8412a06",
   "metadata": {},
   "outputs": [],
   "source": [
    "data['view'].value_counts() "
   ]
  },
  {
   "cell_type": "markdown",
   "id": "ba3319c8",
   "metadata": {},
   "source": [
    "#Most of the houses view category 0 Center of the city? lower floors in apartment buildings?"
   ]
  },
  {
   "cell_type": "code",
   "execution_count": null,
   "id": "926914ee",
   "metadata": {},
   "outputs": [],
   "source": [
    "data['condition'].value_counts() "
   ]
  },
  {
   "cell_type": "code",
   "execution_count": null,
   "id": "d7f5557e",
   "metadata": {},
   "outputs": [],
   "source": [
    "#Imbalance towards average to good condition."
   ]
  },
  {
   "cell_type": "code",
   "execution_count": null,
   "id": "4c45ddd2",
   "metadata": {},
   "outputs": [],
   "source": [
    "sns.countplot('condition', data=data);\n",
    "plt.show()\n"
   ]
  },
  {
   "cell_type": "code",
   "execution_count": null,
   "id": "e31e5006",
   "metadata": {},
   "outputs": [],
   "source": [
    "data['grade'].value_counts() "
   ]
  },
  {
   "cell_type": "code",
   "execution_count": null,
   "id": "c3e41558",
   "metadata": {},
   "outputs": [],
   "source": [
    "sns.countplot('grade', data=data);\n",
    "plt.show()"
   ]
  },
  {
   "cell_type": "markdown",
   "id": "f16020f4",
   "metadata": {},
   "source": [
    "## Analysing date column"
   ]
  },
  {
   "cell_type": "code",
   "execution_count": null,
   "id": "2c79ae5d",
   "metadata": {
    "scrolled": true
   },
   "outputs": [],
   "source": [
    "sns.displot(data=data, x=\"date\");\n"
   ]
  },
  {
   "cell_type": "markdown",
   "id": "114ceeb7",
   "metadata": {},
   "source": [
    "Latitute, longitude give the exact location, there is no need for the zip code. We can remove one of the two.Check which one makes more sense. Stock located in Seattle and its environments. Houses above 650k located in the waterfront, the upper part of the city, islands or proximity to water. \n"
   ]
  },
  {
   "cell_type": "markdown",
   "id": "d3419541",
   "metadata": {},
   "source": [
    "## Analysing latitude and longitude"
   ]
  },
  {
   "cell_type": "markdown",
   "id": "80f6fa3d",
   "metadata": {},
   "source": [
    "To make location meaningful for our regression, we could reference the location of each house by the proximity to locations that are valuable to inhabitants of the city, for ie distance to the airport, distance to recreational areas, to shopping centers or  distance to nature areas (parks, lakes or sea). We will use the euclidean distance to:  1)Seattle city center.The coordinates to Seattle city  are: latitude = 47.608013 and longitude = -122.335167. We calculate a new column dist_to_the_center. We try also with other coordinates such as: distance to the centre of Belle Vue (one of the neighborhoods with the most expensive houses: lat = 47.6303, lon = 122.2150; distance to the city center: lat = 47.621214 and lon = -122.349809).We will keep distance to the center of Belle Vue."
   ]
  },
  {
   "cell_type": "markdown",
   "id": "d73de186",
   "metadata": {},
   "source": [
    "Another approach is to convert the zip code into a categorical variable and apply One Hot Encoder. "
   ]
  },
  {
   "cell_type": "markdown",
   "id": "800f61c3",
   "metadata": {},
   "source": [
    "## Analysing continuous variables\n"
   ]
  },
  {
   "cell_type": "code",
   "execution_count": null,
   "id": "5e438c1b",
   "metadata": {},
   "outputs": [],
   "source": [
    "sns.displot(data=data, x=\"sqft_living\", kde=True);\n",
    "plt.savefig(\"distribucion.png\")"
   ]
  },
  {
   "cell_type": "code",
   "execution_count": null,
   "id": "94acec13",
   "metadata": {},
   "outputs": [],
   "source": [
    "sns.boxplot('sqft_living', data=data);\n",
    "plt.savefig(\"Dispersion sqftliving.png\")"
   ]
  },
  {
   "cell_type": "code",
   "execution_count": null,
   "id": "fbdb84ba",
   "metadata": {},
   "outputs": [],
   "source": [
    "sns.displot(data=data, x=\"sqft_lot\", kde=True); #Is this so because we have many flats? "
   ]
  },
  {
   "cell_type": "code",
   "execution_count": null,
   "id": "172811a3",
   "metadata": {},
   "outputs": [],
   "source": [
    "sns.boxplot('sqft_lot', data=data);"
   ]
  },
  {
   "cell_type": "code",
   "execution_count": null,
   "id": "e63652a9",
   "metadata": {},
   "outputs": [],
   "source": [
    "sns.displot(data=data, x=\"sqft_above\", kde=True);"
   ]
  },
  {
   "cell_type": "code",
   "execution_count": null,
   "id": "9e89c8b9",
   "metadata": {},
   "outputs": [],
   "source": [
    "sns.boxplot('sqft_above', data=data);"
   ]
  },
  {
   "cell_type": "code",
   "execution_count": null,
   "id": "220b82a1",
   "metadata": {
    "scrolled": true
   },
   "outputs": [],
   "source": [
    "sns.displot(data=data, x=\"sqft_basement\", kde=True);"
   ]
  },
  {
   "cell_type": "code",
   "execution_count": null,
   "id": "c75c3b86",
   "metadata": {},
   "outputs": [],
   "source": [
    "sns.boxplot('sqft_basement', data=data);"
   ]
  },
  {
   "cell_type": "code",
   "execution_count": null,
   "id": "9a23dcbd",
   "metadata": {},
   "outputs": [],
   "source": [
    "sns.displot(data=data, x=\"sqft_living15\", kde=True);"
   ]
  },
  {
   "cell_type": "code",
   "execution_count": null,
   "id": "e20be690",
   "metadata": {},
   "outputs": [],
   "source": [
    "sns.boxplot(\"sqft_living15\", data=data);"
   ]
  },
  {
   "cell_type": "code",
   "execution_count": null,
   "id": "28d2b846",
   "metadata": {
    "scrolled": true
   },
   "outputs": [],
   "source": [
    "sns.displot(data=data, x=\"sqft_lot15\", kde=True);"
   ]
  },
  {
   "cell_type": "code",
   "execution_count": null,
   "id": "91921e14",
   "metadata": {},
   "outputs": [],
   "source": [
    "sns.boxplot(\"sqft_lot15\", data=data);"
   ]
  },
  {
   "cell_type": "markdown",
   "id": "cffb0564",
   "metadata": {},
   "source": [
    "## Analysing the dependent variable"
   ]
  },
  {
   "cell_type": "code",
   "execution_count": null,
   "id": "a8ed9237",
   "metadata": {},
   "outputs": [],
   "source": [
    "sns.displot(data=data, x=\"price\");\n",
    "plt.savefig(\"Distributionprice.png\")"
   ]
  },
  {
   "cell_type": "code",
   "execution_count": null,
   "id": "5728559c",
   "metadata": {
    "scrolled": true
   },
   "outputs": [],
   "source": [
    "sns.displot(data=data, x=\"price\", kde=True);\n",
    "plt.savefig(\"Distributionprice.png\")"
   ]
  },
  {
   "cell_type": "markdown",
   "id": "cdb76676",
   "metadata": {},
   "source": [
    "Sample collects observations between may 2014 and 2015. It seems more interesting to extract the month as an explicative variable. Seems there are four months during which sales are lower.  "
   ]
  },
  {
   "cell_type": "markdown",
   "id": "1e423bd0",
   "metadata": {},
   "source": [
    "Compare square living and square living 15 to see how many houses have been renovated. See if we can drop any of these columns. Plot the numeric continous variables.  "
   ]
  },
  {
   "cell_type": "code",
   "execution_count": null,
   "id": "fe8f7345",
   "metadata": {},
   "outputs": [],
   "source": [
    "sns.displot(data=data, x=\"price\", kind=\"kde\");"
   ]
  },
  {
   "cell_type": "code",
   "execution_count": null,
   "id": "2583584f",
   "metadata": {},
   "outputs": [],
   "source": [
    "sns.boxplot('price', data=data);\n",
    "plt.savefig(\"Dispersionprice.png\")"
   ]
  },
  {
   "cell_type": "markdown",
   "id": "5bf0202d",
   "metadata": {},
   "source": [
    "## Preparing the database for modelling"
   ]
  },
  {
   "cell_type": "code",
   "execution_count": null,
   "id": "d1df18aa",
   "metadata": {},
   "outputs": [],
   "source": [
    "df=data.copy()"
   ]
  },
  {
   "cell_type": "markdown",
   "id": "c5571bc2",
   "metadata": {},
   "source": [
    "#### Extracting month of the year as a new column"
   ]
  },
  {
   "cell_type": "code",
   "execution_count": null,
   "id": "ccf1ee44",
   "metadata": {},
   "outputs": [],
   "source": [
    "df['month'] = df['date'].dt.month \n",
    "df.head()"
   ]
  },
  {
   "cell_type": "markdown",
   "id": "61b52117",
   "metadata": {},
   "source": [
    "#### Dropping columns and row house 33 bedrooms"
   ]
  },
  {
   "cell_type": "code",
   "execution_count": null,
   "id": "071068f9",
   "metadata": {},
   "outputs": [],
   "source": [
    "df.drop('date', axis=1, inplace=True)"
   ]
  },
  {
   "cell_type": "code",
   "execution_count": null,
   "id": "c56dc01c",
   "metadata": {},
   "outputs": [],
   "source": [
    "df.drop('id', axis=1, inplace=True)"
   ]
  },
  {
   "cell_type": "code",
   "execution_count": null,
   "id": "a733af6e",
   "metadata": {},
   "outputs": [],
   "source": [
    "data[data['bedrooms']==33]   #We do not reset so we can easily locate houses df.reset_index(inplace = True)"
   ]
  },
  {
   "cell_type": "code",
   "execution_count": null,
   "id": "a2e93b68",
   "metadata": {},
   "outputs": [],
   "source": [
    "df.drop([df.index[15856]])"
   ]
  },
  {
   "cell_type": "markdown",
   "id": "ec20a0f9",
   "metadata": {},
   "source": [
    "#### Calculating distance to the centre"
   ]
  },
  {
   "cell_type": "code",
   "execution_count": null,
   "id": "ef6c1438",
   "metadata": {},
   "outputs": [],
   "source": [
    "long_to_centre = df['long']- (-122.2150)\n",
    "lat_to_centre = df['lat']-47.6303\n",
    "df['dist_to_centre'] = np.sqrt(long_to_centre**2 + lat_to_centre**2)"
   ]
  },
  {
   "cell_type": "code",
   "execution_count": null,
   "id": "59262c54",
   "metadata": {},
   "outputs": [],
   "source": [
    "#df['lat_to_centre'] ="
   ]
  },
  {
   "cell_type": "markdown",
   "id": "90d46219",
   "metadata": {},
   "source": [
    "#### Reordering columns and adding dist_to_centre"
   ]
  },
  {
   "cell_type": "code",
   "execution_count": null,
   "id": "033c1dd9",
   "metadata": {},
   "outputs": [],
   "source": [
    "df = df[['bedrooms', 'bathrooms','floors','waterfront', 'view', 'condition', 'grade', \n",
    "          'sqft_living', 'sqft_living15', 'sqft_lot','sqft_lot15','sqft_above','sqft_basement',\n",
    "          'yr_built', 'yr_renovated', 'month', 'zipcode','dist_to_centre', 'lat', 'long','price']]"
   ]
  },
  {
   "cell_type": "code",
   "execution_count": null,
   "id": "a3d7ba50",
   "metadata": {},
   "outputs": [],
   "source": [
    "df.head()"
   ]
  },
  {
   "cell_type": "markdown",
   "id": "b6ec2e57",
   "metadata": {},
   "source": [
    "## Correlations\n"
   ]
  },
  {
   "cell_type": "markdown",
   "id": "17d66e5b",
   "metadata": {},
   "source": [
    "### Correlation matrix and heatmap"
   ]
  },
  {
   "cell_type": "code",
   "execution_count": null,
   "id": "2e7d0d6c",
   "metadata": {},
   "outputs": [],
   "source": [
    "correlations_matrix = df.corr()\n",
    "display(correlations_matrix)"
   ]
  },
  {
   "cell_type": "code",
   "execution_count": null,
   "id": "0caece08",
   "metadata": {},
   "outputs": [],
   "source": [
    "f,ax = plt.subplots(figsize=(16,16))\n",
    "sns.heatmap(correlations_matrix, annot= True)\n",
    "plt.show()"
   ]
  },
  {
   "cell_type": "code",
   "execution_count": null,
   "id": "217a1f3e",
   "metadata": {},
   "outputs": [],
   "source": [
    "#sns.pairplot(df)\n",
    "#pairplotplt.show()"
   ]
  },
  {
   "cell_type": "markdown",
   "id": "3e37e824",
   "metadata": {},
   "source": [
    "#### Checking for multicollinearity"
   ]
  },
  {
   "cell_type": "markdown",
   "id": "9bfa00bd",
   "metadata": {},
   "source": [
    "We drop: sqft_above, its high correlation with sqft_living (0,88) can generate multicollinearity in the model. "
   ]
  },
  {
   "cell_type": "markdown",
   "id": "c9d7d37a",
   "metadata": {},
   "source": [
    "#### Selecting the variables for the model. "
   ]
  },
  {
   "cell_type": "code",
   "execution_count": null,
   "id": "19f5d445",
   "metadata": {},
   "outputs": [],
   "source": [
    "df1 = df[['bedrooms', 'bathrooms','floors','waterfront', 'view', 'condition', 'grade', \n",
    "          'sqft_living', 'sqft_living15', 'sqft_lot','sqft_lot15','sqft_basement',\n",
    "          'yr_built', 'yr_renovated', 'dist_to_centre','price']]"
   ]
  },
  {
   "cell_type": "markdown",
   "id": "bbbdec61",
   "metadata": {},
   "source": [
    "# Splitting and transforming the train and test sets."
   ]
  },
  {
   "cell_type": "code",
   "execution_count": null,
   "id": "aa71a1b8",
   "metadata": {},
   "outputs": [],
   "source": [
    "y_log = np.log(df1['price'])\n",
    "X = df1.drop(columns = 'price', axis =1)\n",
    "X_train, X_test, y_log_train, y_log_test = train_test_split(X, y_log, test_size=0.2, random_state=200)"
   ]
  },
  {
   "cell_type": "code",
   "execution_count": null,
   "id": "e23e2e77",
   "metadata": {},
   "outputs": [],
   "source": [
    "powertransformer = PowerTransformer(method='yeo-johnson', standardize=True, copy=True)\n",
    "powertransformer.fit(X_train)\n",
    "X_train_trans = powertransformer.transform(X_train)\n",
    "X_test_trans = powertransformer.transform(X_test)"
   ]
  },
  {
   "cell_type": "code",
   "execution_count": null,
   "id": "cd0599ce",
   "metadata": {},
   "outputs": [],
   "source": [
    "X_train_df1 = pd.DataFrame(X_train_trans, columns=X.columns)\n",
    "X_test_df1 = pd.DataFrame(X_test_trans,  columns=X.columns)"
   ]
  },
  {
   "cell_type": "code",
   "execution_count": null,
   "id": "b6a5e976",
   "metadata": {},
   "outputs": [],
   "source": [
    "X_train_df1.head()"
   ]
  },
  {
   "cell_type": "code",
   "execution_count": null,
   "id": "336de6c1",
   "metadata": {},
   "outputs": [],
   "source": [
    "X_train_df1.describe()"
   ]
  },
  {
   "cell_type": "code",
   "execution_count": null,
   "id": "b2bb6f25",
   "metadata": {},
   "outputs": [],
   "source": [
    "sns.boxplot('sqft_living', data=X_train_df1);\n",
    "plt.savefig(\"Dispersion sqftlivingafterpower.png\")"
   ]
  },
  {
   "cell_type": "markdown",
   "id": "3885f6ff",
   "metadata": {},
   "source": [
    "# Modelling"
   ]
  },
  {
   "cell_type": "markdown",
   "id": "bbada30e",
   "metadata": {},
   "source": [
    "def my_models(models, Xtrain, Xtest, ytrain, ytest):\n",
    "    train_scores = []\n",
    "    test_scores = []\n",
    "    for model in models:\n",
    "        model.fit(Xtrain, ytrain)\n",
    "        ypred = model.predict(Xtrain)\n",
    "        train_scores.append(r2_score(ytrain, ypred))\n",
    "             \n",
    "        ypred_test = model.predict(Xtest)\n",
    "        test_scores.append(r2_score(ytest, ypred_test))\n",
    "        \n",
    "        \n",
    "    scores = pd.DataFrame([train_scores, test_scores], index=[\"Train\", \"Test\"], columns=models)\n",
    "    \n",
    "    return scores"
   ]
  },
  {
   "cell_type": "code",
   "execution_count": null,
   "id": "1ccb2450",
   "metadata": {
    "code_folding": []
   },
   "outputs": [],
   "source": [
    "def my_models(models, Xtrain, Xtest, ytrain, ytest):\n",
    "    \n",
    "    metrics = {'Metrics':['MAPE','R2']*len(models), 'Model': ['KNN(k=3)','KNN(k=3)','LR','LR','MLP','MLP'],\n",
    "               'Train': [], 'Test':[]}\n",
    "    \n",
    "    errors = {'Set': ['Train']*len(ytrain) + ['Test']*len(ytest), 'y': list(np.exp(ytrain)) + list(np.exp(ytest)),\n",
    "             'y_pred_knn':[], 'y - y_pred_knn':[], 'y_pred_lr': [], 'y - y_pred_lr': [], 'y_pred_mlp': [], \n",
    "             'y - y_pred_mlp': []}\n",
    "    \n",
    "    for index, model in enumerate(models):\n",
    "        \n",
    "        model.fit(Xtrain, ytrain)\n",
    "        ypred_train = model.predict(Xtrain)\n",
    "        ypred_test = model.predict(Xtest)\n",
    "        \n",
    "        if ( index == 0 ):\n",
    "            errors['y_pred_knn'].extend(list(np.exp(ypred_train)))\n",
    "            errors['y_pred_knn'].extend(list(np.exp(ypred_test)))\n",
    "            errors['y - y_pred_knn'].extend(list(np.exp(ytrain)-np.exp(ypred_train)))\n",
    "            errors['y - y_pred_knn'].extend(list(np.exp(ytest)-np.exp(ypred_test)))        \n",
    "        elif ( index == 1):\n",
    "            errors['y_pred_lr'].extend(list(np.exp(ypred_train)))\n",
    "            errors['y_pred_lr'].extend(list(np.exp(ypred_test)))\n",
    "            errors['y - y_pred_lr'].extend(list(np.exp(ytrain)-np.exp(ypred_train)))\n",
    "            errors['y - y_pred_lr'].extend(list(np.exp(ytest)-np.exp(ypred_test)))\n",
    "        else:\n",
    "            errors['y_pred_mlp'].extend(list(np.exp(ypred_train)))\n",
    "            errors['y_pred_mlp'].extend(list(np.exp(ypred_test)))\n",
    "            errors['y - y_pred_mlp'].extend(list(np.exp(ytrain)-np.exp(ypred_train)))\n",
    "            errors['y - y_pred_mlp'].extend(list(np.exp(ytest)-np.exp(ypred_test)))\n",
    "  \n",
    "        metrics['Train'].append(mean_absolute_percentage_error(np.exp(ytrain),np.exp(ypred_train)))\n",
    "        metrics['Train'].append(r2_score(np.exp(ytrain),np.exp(ypred_train)))\n",
    "        metrics['Test'].append(mean_absolute_percentage_error(np.exp(ytest),np.exp(ypred_test)))\n",
    "        metrics['Test'].append(r2_score(np.exp(ytest),np.exp(ypred_test)))\n",
    "                \n",
    "    metrics_df = pd.DataFrame(metrics)\n",
    "    errors_df = pd.DataFrame(errors)                                      \n",
    "    return metrics_df, errors_df"
   ]
  },
  {
   "cell_type": "markdown",
   "id": "e7c408b5",
   "metadata": {},
   "source": [
    "We calculate the r2scores and the MAPE for the three different models we used."
   ]
  },
  {
   "cell_type": "code",
   "execution_count": null,
   "id": "0d409175",
   "metadata": {
    "scrolled": true
   },
   "outputs": [],
   "source": [
    "models = [KNeighborsRegressor(n_neighbors=3), linear_model.LinearRegression(), MLPRegressor()]\n",
    "\n",
    "scores, results = my_models(models, X_train_trans, X_test_trans, y_log_train, y_log_test)\n",
    "display(scores)\n",
    "display(results)"
   ]
  },
  {
   "cell_type": "code",
   "execution_count": null,
   "id": "59fb1224",
   "metadata": {},
   "outputs": [],
   "source": [
    "fig, axes = plt.subplots(3,3, figsize=(16,10), dpi=300)\n",
    "\n",
    "axes[0,0].scatter(x=results.y,y=results.y_pred_knn);\n",
    "axes[0,0].plot(results.y,results.y,color=\"black\");\n",
    "axes[0,1].scatter(y=results['y - y_pred_knn'],x=results.y);\n",
    "axes[0,2].hist(results['y - y_pred_knn'], bins= 50);\n",
    "\n",
    "axes[0,0].set_xlabel(\"Real price\")\n",
    "axes[0,0].set_ylabel(\"Predicted price\")\n",
    "axes[0,0].set_title(\"K-nn(k=3)\")\n",
    "\n",
    "axes[0,1].set_ylabel(\"error\")\n",
    "axes[0,1].set_xlabel(\"Real price\")\n",
    "axes[0,1].set_title(\"K-nn(k=3)\")\n",
    "\n",
    "axes[0,2].set_title(\"K-nn error distribution\")\n",
    "axes[0,2].set_xlabel(\"Error\")\n",
    "\n",
    "axes[1,0].scatter(x=results.y,y=results.y_pred_lr);\n",
    "axes[1,0].plot(results.y,results.y,color=\"black\");\n",
    "axes[1,1].scatter(y=results['y - y_pred_lr'], x=results.y);\n",
    "axes[1,2].hist(results['y - y_pred_lr'], bins=50);\n",
    "\n",
    "\n",
    "axes[1,0].set_xlabel(\"Real price\")\n",
    "axes[1,0].set_ylabel(\"Predicted price\")\n",
    "axes[1,0].set_title(\"linear model\")\n",
    "\n",
    "axes[1,1].set_ylabel(\"error\")\n",
    "axes[1,1].set_xlabel(\"Real price\")\n",
    "axes[1,1].set_title(\"linear model\")\n",
    "\n",
    "axes[1,2].set_title(\"linear model error distribution\")\n",
    "axes[1,2].set_xlabel(\"Error\")\n",
    "\n",
    "axes[2,0].scatter(x=results.y,y=results.y_pred_mlp);\n",
    "axes[2,0].plot(results.y,results.y,color=\"black\");\n",
    "axes[2,1].scatter(y=results['y - y_pred_mlp'], x=results.y);\n",
    "axes[2,2].hist(results['y - y_pred_mlp'],bins=50);\n",
    "\n",
    "axes[2,0].set_xlabel(\"Real price\")\n",
    "axes[2,0].set_ylabel(\"Predicted price\")\n",
    "axes[2,0].set_title(\"MLP\")\n",
    "\n",
    "axes[2,1].set_ylabel(\"error\")\n",
    "axes[2,1].set_xlabel(\"Real price\")\n",
    "axes[2,1].set_title(\"MLP\")\n",
    "\n",
    "axes[2,2].set_title(\"MLP error distribution\")\n",
    "axes[2,2].set_xlabel(\"Error\")\n",
    "\n",
    "\n",
    "\n",
    "\n",
    "plt.tight_layout()\n",
    "plt.savefig(\"resultados_regression.png\")\n",
    "plt.show()"
   ]
  },
  {
   "cell_type": "markdown",
   "id": "8a3affdb",
   "metadata": {},
   "source": [
    "MLP best prediction performance, errors increase as prices increase. Our model predicts worse these transactions. Next steps to increase the predictive capacity of the models: remove outliers (in price and size variables), dummify zip codes."
   ]
  }
 ],
 "metadata": {
  "kernelspec": {
   "display_name": "Python 3 (ipykernel)",
   "language": "python",
   "name": "python3"
  },
  "language_info": {
   "codemirror_mode": {
    "name": "ipython",
    "version": 3
   },
   "file_extension": ".py",
   "mimetype": "text/x-python",
   "name": "python",
   "nbconvert_exporter": "python",
   "pygments_lexer": "ipython3",
   "version": "3.9.7"
  },
  "toc": {
   "base_numbering": 1,
   "nav_menu": {},
   "number_sections": true,
   "sideBar": true,
   "skip_h1_title": false,
   "title_cell": "Table of Contents",
   "title_sidebar": "Contents",
   "toc_cell": false,
   "toc_position": {
    "height": "calc(100% - 180px)",
    "left": "10px",
    "top": "150px",
    "width": "165px"
   },
   "toc_section_display": true,
   "toc_window_display": true
  },
  "varInspector": {
   "cols": {
    "lenName": 16,
    "lenType": 16,
    "lenVar": 40
   },
   "kernels_config": {
    "python": {
     "delete_cmd_postfix": "",
     "delete_cmd_prefix": "del ",
     "library": "var_list.py",
     "varRefreshCmd": "print(var_dic_list())"
    },
    "r": {
     "delete_cmd_postfix": ") ",
     "delete_cmd_prefix": "rm(",
     "library": "var_list.r",
     "varRefreshCmd": "cat(var_dic_list()) "
    }
   },
   "types_to_exclude": [
    "module",
    "function",
    "builtin_function_or_method",
    "instance",
    "_Feature"
   ],
   "window_display": false
  }
 },
 "nbformat": 4,
 "nbformat_minor": 5
}
