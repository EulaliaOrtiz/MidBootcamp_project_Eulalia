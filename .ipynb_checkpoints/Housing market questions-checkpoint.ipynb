{
 "cells": [
  {
   "cell_type": "code",
   "execution_count": null,
   "id": "112aea47",
   "metadata": {},
   "outputs": [],
   "source": [
    "import numpy as np\n",
    "import pandas as pd\n",
    "import matplotlib.pyplot as plt\n",
    "import seaborn as sns\n",
    "from scipy.stats import norm\n",
    "from scipy import stats\n",
    "from sklearn.neighbors import KNeighborsRegressor\n",
    "import math\n",
    "import datetime\n",
    "from sklearn import linear_model \n",
    "from sklearn.linear_model import LogisticRegression\n",
    "from sklearn.neural_network import MLPRegressor\n",
    "from sklearn.metrics import confusion_matrix, accuracy_score, precision_score, recall_score, ConfusionMatrixDisplay\n",
    "from sklearn.metrics import classification_report, f1_score, cohen_kappa_score\n",
    "from sklearn.preprocessing import MinMaxScaler, StandardScaler\n",
    "from sklearn.preprocessing import OneHotEncoder, LabelEncoder, OrdinalEncoder\n",
    "from sklearn.model_selection import train_test_split\n",
    "from sklearn.metrics import accuracy_score\n",
    "from sklearn.metrics import r2_score, mean_squared_error, mean_absolute_error\n",
    "from sklearn.metrics import cohen_kappa_score\n",
    "from imblearn.over_sampling import SMOTE"
   ]
  },
  {
   "cell_type": "code",
   "execution_count": null,
   "id": "1083af6b",
   "metadata": {},
   "outputs": [],
   "source": [
    "%matplotlib inline"
   ]
  },
  {
   "cell_type": "code",
   "execution_count": null,
   "id": "a5214b06",
   "metadata": {},
   "outputs": [],
   "source": [
    "pd.set_option('display.max_columns',None)"
   ]
  },
  {
   "cell_type": "code",
   "execution_count": null,
   "id": "6d522d3b",
   "metadata": {},
   "outputs": [],
   "source": [
    "data = pd.read_excel('regression_data1.xls')"
   ]
  },
  {
   "cell_type": "code",
   "execution_count": null,
   "id": "b3102578",
   "metadata": {},
   "outputs": [],
   "source": [
    "data.describe()"
   ]
  },
  {
   "cell_type": "markdown",
   "id": "a4bf9242",
   "metadata": {},
   "source": [
    "## Arraging data by decreasing price of the house"
   ]
  },
  {
   "cell_type": "markdown",
   "id": "128b1938",
   "metadata": {},
   "source": [
    "Arrange the data in a decreasing order by the price of the house. Return only the IDs of the top 10 most expensive houses in your data."
   ]
  },
  {
   "cell_type": "code",
   "execution_count": null,
   "id": "2c292e1c",
   "metadata": {
    "scrolled": true
   },
   "outputs": [],
   "source": [
    "Most_expensive_houses = data.sort_values(by='price', ascending=False, na_position='first')\n",
    "Most_expensive_houses.head(11)"
   ]
  },
  {
   "cell_type": "markdown",
   "id": "818a5758",
   "metadata": {},
   "source": [
    "## Average prices"
   ]
  },
  {
   "cell_type": "markdown",
   "id": "281d92f4",
   "metadata": {},
   "source": [
    "Provide the details of the property that is the 11th most expensive property in your database."
   ]
  },
  {
   "cell_type": "code",
   "execution_count": null,
   "id": "6d266d39",
   "metadata": {},
   "outputs": [],
   "source": [
    "Eleventh_most_expensive_house  = Most_expensive_houses.iloc[10]\n",
    "print(Eleventh_most_expensive_house)"
   ]
  },
  {
   "cell_type": "markdown",
   "id": "1cacdf71",
   "metadata": {},
   "source": [
    "What is the average price of all the properties in your data?"
   ]
  },
  {
   "cell_type": "code",
   "execution_count": null,
   "id": "fa1be64a",
   "metadata": {},
   "outputs": [],
   "source": [
    "data[['price']].mean()"
   ]
  },
  {
   "cell_type": "markdown",
   "id": "a87f3170",
   "metadata": {},
   "source": [
    "- What is the average price of the houses grouped by bedrooms? The returned result should have only two columns, bedrooms and Average of the prices. Use an alias to change the name of the second column."
   ]
  },
  {
   "cell_type": "code",
   "execution_count": null,
   "id": "0edc617f",
   "metadata": {},
   "outputs": [],
   "source": [
    "data.groupby(['bedrooms']).agg({'price':np.mean}).rename(columns={'Price':'Average_price'})"
   ]
  },
  {
   "cell_type": "code",
   "execution_count": null,
   "id": "d9df5b48",
   "metadata": {},
   "outputs": [],
   "source": [
    "data[data['bedrooms']==33] #It seems there has been a typo. We could assume this is a house with three bedrooms or we could eliminate this row, just in case. "
   ]
  },
  {
   "cell_type": "markdown",
   "id": "f446bda4",
   "metadata": {},
   "source": [
    "What is the average `sqft_living` of the houses grouped by bedrooms? The returned result should have only two columns, bedrooms and Average of the `sqft_living`. Use an alias to change the name of the second column. Most customers are interested in properties with three or four bedrooms. What is the difference in average prices of the properties with three and four bedrooms? In this case you can simply use a group by to check the prices for those particular houses"
   ]
  },
  {
   "cell_type": "code",
   "execution_count": null,
   "id": "d02faddf",
   "metadata": {},
   "outputs": [],
   "source": [
    "data.groupby(['bedrooms']).agg({'sqft_living':np.mean}).reset_index().rename(columns={'sqft_living':'average_sqft_living'})"
   ]
  },
  {
   "cell_type": "markdown",
   "id": "b86fa79b",
   "metadata": {},
   "source": [
    "What is the average price of the houses with a waterfront and without a waterfront? The returned result should have only two columns, waterfront and `Average` of the prices. Use an alias to change the name of the second column."
   ]
  },
  {
   "cell_type": "code",
   "execution_count": null,
   "id": "7534c75e",
   "metadata": {},
   "outputs": [],
   "source": [
    "data.groupby(['waterfront']).agg({'price':np.mean}).reset_index().rename(columns={'price':'average_price'})"
   ]
  },
  {
   "cell_type": "markdown",
   "id": "e55d109a",
   "metadata": {},
   "source": [
    "Is there any correlation between the columns `condition` and `grade`? You can analyse this by grouping the data by one of the variables and then aggregating the results of the other column. Visually check if there is a positive correlation or negative correlation or no correlation between the variables."
   ]
  },
  {
   "cell_type": "code",
   "execution_count": null,
   "id": "6d8ce19b",
   "metadata": {},
   "outputs": [],
   "source": [
    "plt.scatter(data['condition'], data['grade']);\n",
    "data['condition'].corr(data['grade'])"
   ]
  },
  {
   "cell_type": "code",
   "execution_count": null,
   "id": "8b9c98ed",
   "metadata": {},
   "outputs": [],
   "source": [
    "data_group = data.groupby(['condition']).agg({'grade':np.mean}).reset_index().rename(columns={'grade':'av_grade'})\n",
    "data_group"
   ]
  },
  {
   "cell_type": "code",
   "execution_count": null,
   "id": "cdbde059",
   "metadata": {},
   "outputs": [],
   "source": [
    "plt.scatter(data_group.condition, data_group.av_grade);"
   ]
  },
  {
   "cell_type": "markdown",
   "id": "473d9af6",
   "metadata": {},
   "source": [
    "You might also have to check the number of houses in each category (ie number of houses for a given `condition`) to assess if that category is well represented in the dataset to include it in your analysis. For eg. If the category is under-represented as compared to other categories, ignore that category in this analysis"
   ]
  },
  {
   "cell_type": "markdown",
   "id": "4145ab39",
   "metadata": {},
   "source": [
    "Your manager wants to find out the list of properties whose prices are twice more than the average of all the properties in the database. Write a query to show them the list of such properties. You might need to use a sub query for this problem."
   ]
  },
  {
   "cell_type": "code",
   "execution_count": null,
   "id": "c036cc18",
   "metadata": {},
   "outputs": [],
   "source": [
    "data.groupby(['price']> (data['price'].mean())*2"
   ]
  },
  {
   "cell_type": "markdown",
   "id": "d8f37e96",
   "metadata": {},
   "source": [
    "One of the customers is only interested in the following houses:\n",
    "    - Number of bedrooms either 3 or 4\n",
    "    - Bathrooms more than 3\n",
    "    - One Floor\n",
    "    - No waterfront\n",
    "    - Condition should be 3 at least\n",
    "    - Grade should be 5 at least\n",
    "    - Price less than 300000\n",
    "    For the rest of the things, they are not too concerned. Write a simple query to find what are the options available for them?\n"
   ]
  },
  {
   "cell_type": "markdown",
   "id": "4ab9a19a",
   "metadata": {},
   "source": [
    "What are the different locations where properties are available in your database? (distinct zip codes)"
   ]
  },
  {
   "cell_type": "code",
   "execution_count": null,
   "id": "06a5a7a0",
   "metadata": {},
   "outputs": [],
   "source": [
    "data['zipcode'].unique() "
   ]
  },
  {
   "cell_type": "code",
   "execution_count": null,
   "id": "97c696e7",
   "metadata": {
    "scrolled": true
   },
   "outputs": [],
   "source": [
    "data['zipcode'].value_counts() "
   ]
  },
  {
   "cell_type": "markdown",
   "id": "39c6e2d5",
   "metadata": {},
   "source": [
    "Show the list of all the properties that were renovated."
   ]
  },
  {
   "cell_type": "code",
   "execution_count": null,
   "id": "46db77fd",
   "metadata": {},
   "outputs": [],
   "source": [
    "data[data['sqft_living'] < data['sqft_living15']]\n"
   ]
  },
  {
   "cell_type": "code",
   "execution_count": null,
   "id": "1b41f8e0",
   "metadata": {},
   "outputs": [],
   "source": []
  },
  {
   "cell_type": "code",
   "execution_count": null,
   "id": "3f8fe9f4",
   "metadata": {},
   "outputs": [],
   "source": []
  }
 ],
 "metadata": {
  "kernelspec": {
   "display_name": "Python 3 (ipykernel)",
   "language": "python",
   "name": "python3"
  },
  "language_info": {
   "codemirror_mode": {
    "name": "ipython",
    "version": 3
   },
   "file_extension": ".py",
   "mimetype": "text/x-python",
   "name": "python",
   "nbconvert_exporter": "python",
   "pygments_lexer": "ipython3",
   "version": "3.9.7"
  },
  "toc": {
   "base_numbering": 1,
   "nav_menu": {},
   "number_sections": true,
   "sideBar": true,
   "skip_h1_title": false,
   "title_cell": "Table of Contents",
   "title_sidebar": "Contents",
   "toc_cell": false,
   "toc_position": {},
   "toc_section_display": true,
   "toc_window_display": false
  },
  "varInspector": {
   "cols": {
    "lenName": 16,
    "lenType": 16,
    "lenVar": 40
   },
   "kernels_config": {
    "python": {
     "delete_cmd_postfix": "",
     "delete_cmd_prefix": "del ",
     "library": "var_list.py",
     "varRefreshCmd": "print(var_dic_list())"
    },
    "r": {
     "delete_cmd_postfix": ") ",
     "delete_cmd_prefix": "rm(",
     "library": "var_list.r",
     "varRefreshCmd": "cat(var_dic_list()) "
    }
   },
   "types_to_exclude": [
    "module",
    "function",
    "builtin_function_or_method",
    "instance",
    "_Feature"
   ],
   "window_display": false
  }
 },
 "nbformat": 4,
 "nbformat_minor": 5
}
