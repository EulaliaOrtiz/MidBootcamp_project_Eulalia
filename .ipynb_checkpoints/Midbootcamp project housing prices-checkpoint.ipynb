{
 "cells": [
  {
   "cell_type": "markdown",
   "id": "e867100c",
   "metadata": {},
   "source": [
    "Your company wants to build a machine learning model to predict the selling prices of houses based on a variety of features on which the value of the house is evaluated.\n",
    "Your job is to build a model that will predict the price of a house based on features provided in the dataset. Senior management also wants to explore the characteristics of the houses using some business intelligence tools. One of those parameters includes understanding which factors are responsible for higher property value - $650K and above."
   ]
  },
  {
   "cell_type": "markdown",
   "id": "b177af03",
   "metadata": {},
   "source": [
    "## Importing the necessary libraries."
   ]
  },
  {
   "cell_type": "code",
   "execution_count": 1,
   "id": "9ad98651",
   "metadata": {},
   "outputs": [],
   "source": [
    "import numpy as np\n",
    "import pandas as pd\n",
    "import matplotlib.pyplot as plt\n",
    "import seaborn as sns\n",
    "from scipy.stats import norm\n",
    "from scipy import stats\n",
    "from sklearn.neighbors import KNeighborsRegressor\n",
    "import math\n",
    "import datetime\n",
    "from sklearn import linear_model \n",
    "from sklearn.linear_model import LogisticRegression\n",
    "from sklearn.neural_network import MLPRegressor\n",
    "from sklearn.metrics import confusion_matrix, accuracy_score, precision_score, recall_score, ConfusionMatrixDisplay\n",
    "from sklearn.metrics import classification_report, f1_score, cohen_kappa_score\n",
    "from sklearn.preprocessing import MinMaxScaler, StandardScaler\n",
    "from sklearn.preprocessing import OneHotEncoder, LabelEncoder, OrdinalEncoder\n",
    "from sklearn.model_selection import train_test_split\n",
    "from sklearn.metrics import accuracy_score\n",
    "from sklearn.metrics import r2_score, mean_squared_error, mean_absolute_error\n",
    "from sklearn.metrics import cohen_kappa_score\n",
    "from imblearn.over_sampling import SMOTE"
   ]
  },
  {
   "cell_type": "code",
   "execution_count": 2,
   "id": "f445c361",
   "metadata": {},
   "outputs": [],
   "source": [
    "%matplotlib inline"
   ]
  },
  {
   "cell_type": "code",
   "execution_count": 3,
   "id": "fd0a9ce1",
   "metadata": {},
   "outputs": [],
   "source": [
    "pd.set_option('display.max_columns',None)"
   ]
  },
  {
   "cell_type": "markdown",
   "id": "deb93c87",
   "metadata": {},
   "source": [
    "## Loading the database "
   ]
  },
  {
   "cell_type": "code",
   "execution_count": 4,
   "id": "b0241c31",
   "metadata": {},
   "outputs": [],
   "source": [
    "data = pd.read_excel('regression_data1.xls')"
   ]
  },
  {
   "cell_type": "code",
   "execution_count": 5,
   "id": "82a59943",
   "metadata": {},
   "outputs": [
    {
     "data": {
      "text/html": [
       "<div>\n",
       "<style scoped>\n",
       "    .dataframe tbody tr th:only-of-type {\n",
       "        vertical-align: middle;\n",
       "    }\n",
       "\n",
       "    .dataframe tbody tr th {\n",
       "        vertical-align: top;\n",
       "    }\n",
       "\n",
       "    .dataframe thead th {\n",
       "        text-align: right;\n",
       "    }\n",
       "</style>\n",
       "<table border=\"1\" class=\"dataframe\">\n",
       "  <thead>\n",
       "    <tr style=\"text-align: right;\">\n",
       "      <th></th>\n",
       "      <th>id</th>\n",
       "      <th>date</th>\n",
       "      <th>bedrooms</th>\n",
       "      <th>bathrooms</th>\n",
       "      <th>sqft_living</th>\n",
       "      <th>sqft_lot</th>\n",
       "      <th>floors</th>\n",
       "      <th>waterfront</th>\n",
       "      <th>view</th>\n",
       "      <th>condition</th>\n",
       "      <th>grade</th>\n",
       "      <th>sqft_above</th>\n",
       "      <th>sqft_basement</th>\n",
       "      <th>yr_built</th>\n",
       "      <th>yr_renovated</th>\n",
       "      <th>zipcode</th>\n",
       "      <th>lat</th>\n",
       "      <th>long</th>\n",
       "      <th>sqft_living15</th>\n",
       "      <th>sqft_lot15</th>\n",
       "      <th>price</th>\n",
       "    </tr>\n",
       "  </thead>\n",
       "  <tbody>\n",
       "    <tr>\n",
       "      <th>0</th>\n",
       "      <td>7129300520</td>\n",
       "      <td>2014-10-13</td>\n",
       "      <td>3</td>\n",
       "      <td>1.00</td>\n",
       "      <td>1180</td>\n",
       "      <td>5650</td>\n",
       "      <td>1.0</td>\n",
       "      <td>0</td>\n",
       "      <td>0</td>\n",
       "      <td>3</td>\n",
       "      <td>7</td>\n",
       "      <td>1180</td>\n",
       "      <td>0</td>\n",
       "      <td>1955</td>\n",
       "      <td>0</td>\n",
       "      <td>98178</td>\n",
       "      <td>47.5112</td>\n",
       "      <td>-122.257</td>\n",
       "      <td>1340</td>\n",
       "      <td>5650</td>\n",
       "      <td>221900</td>\n",
       "    </tr>\n",
       "    <tr>\n",
       "      <th>1</th>\n",
       "      <td>6414100192</td>\n",
       "      <td>2014-12-09</td>\n",
       "      <td>3</td>\n",
       "      <td>2.25</td>\n",
       "      <td>2570</td>\n",
       "      <td>7242</td>\n",
       "      <td>2.0</td>\n",
       "      <td>0</td>\n",
       "      <td>0</td>\n",
       "      <td>3</td>\n",
       "      <td>7</td>\n",
       "      <td>2170</td>\n",
       "      <td>400</td>\n",
       "      <td>1951</td>\n",
       "      <td>1991</td>\n",
       "      <td>98125</td>\n",
       "      <td>47.7210</td>\n",
       "      <td>-122.319</td>\n",
       "      <td>1690</td>\n",
       "      <td>7639</td>\n",
       "      <td>538000</td>\n",
       "    </tr>\n",
       "    <tr>\n",
       "      <th>2</th>\n",
       "      <td>5631500400</td>\n",
       "      <td>2015-02-25</td>\n",
       "      <td>2</td>\n",
       "      <td>1.00</td>\n",
       "      <td>770</td>\n",
       "      <td>10000</td>\n",
       "      <td>1.0</td>\n",
       "      <td>0</td>\n",
       "      <td>0</td>\n",
       "      <td>3</td>\n",
       "      <td>6</td>\n",
       "      <td>770</td>\n",
       "      <td>0</td>\n",
       "      <td>1933</td>\n",
       "      <td>0</td>\n",
       "      <td>98028</td>\n",
       "      <td>47.7379</td>\n",
       "      <td>-122.233</td>\n",
       "      <td>2720</td>\n",
       "      <td>8062</td>\n",
       "      <td>180000</td>\n",
       "    </tr>\n",
       "    <tr>\n",
       "      <th>3</th>\n",
       "      <td>2487200875</td>\n",
       "      <td>2014-12-09</td>\n",
       "      <td>4</td>\n",
       "      <td>3.00</td>\n",
       "      <td>1960</td>\n",
       "      <td>5000</td>\n",
       "      <td>1.0</td>\n",
       "      <td>0</td>\n",
       "      <td>0</td>\n",
       "      <td>5</td>\n",
       "      <td>7</td>\n",
       "      <td>1050</td>\n",
       "      <td>910</td>\n",
       "      <td>1965</td>\n",
       "      <td>0</td>\n",
       "      <td>98136</td>\n",
       "      <td>47.5208</td>\n",
       "      <td>-122.393</td>\n",
       "      <td>1360</td>\n",
       "      <td>5000</td>\n",
       "      <td>604000</td>\n",
       "    </tr>\n",
       "    <tr>\n",
       "      <th>4</th>\n",
       "      <td>1954400510</td>\n",
       "      <td>2015-02-18</td>\n",
       "      <td>3</td>\n",
       "      <td>2.00</td>\n",
       "      <td>1680</td>\n",
       "      <td>8080</td>\n",
       "      <td>1.0</td>\n",
       "      <td>0</td>\n",
       "      <td>0</td>\n",
       "      <td>3</td>\n",
       "      <td>8</td>\n",
       "      <td>1680</td>\n",
       "      <td>0</td>\n",
       "      <td>1987</td>\n",
       "      <td>0</td>\n",
       "      <td>98074</td>\n",
       "      <td>47.6168</td>\n",
       "      <td>-122.045</td>\n",
       "      <td>1800</td>\n",
       "      <td>7503</td>\n",
       "      <td>510000</td>\n",
       "    </tr>\n",
       "  </tbody>\n",
       "</table>\n",
       "</div>"
      ],
      "text/plain": [
       "           id       date  bedrooms  bathrooms  sqft_living  sqft_lot  floors  \\\n",
       "0  7129300520 2014-10-13         3       1.00         1180      5650     1.0   \n",
       "1  6414100192 2014-12-09         3       2.25         2570      7242     2.0   \n",
       "2  5631500400 2015-02-25         2       1.00          770     10000     1.0   \n",
       "3  2487200875 2014-12-09         4       3.00         1960      5000     1.0   \n",
       "4  1954400510 2015-02-18         3       2.00         1680      8080     1.0   \n",
       "\n",
       "   waterfront  view  condition  grade  sqft_above  sqft_basement  yr_built  \\\n",
       "0           0     0          3      7        1180              0      1955   \n",
       "1           0     0          3      7        2170            400      1951   \n",
       "2           0     0          3      6         770              0      1933   \n",
       "3           0     0          5      7        1050            910      1965   \n",
       "4           0     0          3      8        1680              0      1987   \n",
       "\n",
       "   yr_renovated  zipcode      lat     long  sqft_living15  sqft_lot15   price  \n",
       "0             0    98178  47.5112 -122.257           1340        5650  221900  \n",
       "1          1991    98125  47.7210 -122.319           1690        7639  538000  \n",
       "2             0    98028  47.7379 -122.233           2720        8062  180000  \n",
       "3             0    98136  47.5208 -122.393           1360        5000  604000  \n",
       "4             0    98074  47.6168 -122.045           1800        7503  510000  "
      ]
     },
     "execution_count": 5,
     "metadata": {},
     "output_type": "execute_result"
    }
   ],
   "source": [
    "data.head()"
   ]
  },
  {
   "cell_type": "code",
   "execution_count": 6,
   "id": "30903c22",
   "metadata": {},
   "outputs": [
    {
     "data": {
      "text/plain": [
       "(21597, 21)"
      ]
     },
     "execution_count": 6,
     "metadata": {},
     "output_type": "execute_result"
    }
   ],
   "source": [
    "data.shape"
   ]
  },
  {
   "cell_type": "code",
   "execution_count": 7,
   "id": "efb6190d",
   "metadata": {},
   "outputs": [
    {
     "data": {
      "text/plain": [
       "Index(['id', 'date', 'bedrooms', 'bathrooms', 'sqft_living', 'sqft_lot',\n",
       "       'floors', 'waterfront', 'view', 'condition', 'grade', 'sqft_above',\n",
       "       'sqft_basement', 'yr_built', 'yr_renovated', 'zipcode', 'lat', 'long',\n",
       "       'sqft_living15', 'sqft_lot15', 'price'],\n",
       "      dtype='object')"
      ]
     },
     "execution_count": 7,
     "metadata": {},
     "output_type": "execute_result"
    }
   ],
   "source": [
    "data.columns"
   ]
  },
  {
   "cell_type": "code",
   "execution_count": 8,
   "id": "ffa65697",
   "metadata": {},
   "outputs": [
    {
     "data": {
      "text/plain": [
       "id                        int64\n",
       "date             datetime64[ns]\n",
       "bedrooms                  int64\n",
       "bathrooms               float64\n",
       "sqft_living               int64\n",
       "sqft_lot                  int64\n",
       "floors                  float64\n",
       "waterfront                int64\n",
       "view                      int64\n",
       "condition                 int64\n",
       "grade                     int64\n",
       "sqft_above                int64\n",
       "sqft_basement             int64\n",
       "yr_built                  int64\n",
       "yr_renovated              int64\n",
       "zipcode                   int64\n",
       "lat                     float64\n",
       "long                    float64\n",
       "sqft_living15             int64\n",
       "sqft_lot15                int64\n",
       "price                     int64\n",
       "dtype: object"
      ]
     },
     "execution_count": 8,
     "metadata": {},
     "output_type": "execute_result"
    }
   ],
   "source": [
    "data.dtypes"
   ]
  },
  {
   "cell_type": "code",
   "execution_count": 9,
   "id": "831f7056",
   "metadata": {},
   "outputs": [
    {
     "data": {
      "text/plain": [
       "id               0\n",
       "date             0\n",
       "bedrooms         0\n",
       "bathrooms        0\n",
       "sqft_living      0\n",
       "sqft_lot         0\n",
       "floors           0\n",
       "waterfront       0\n",
       "view             0\n",
       "condition        0\n",
       "grade            0\n",
       "sqft_above       0\n",
       "sqft_basement    0\n",
       "yr_built         0\n",
       "yr_renovated     0\n",
       "zipcode          0\n",
       "lat              0\n",
       "long             0\n",
       "sqft_living15    0\n",
       "sqft_lot15       0\n",
       "price            0\n",
       "dtype: int64"
      ]
     },
     "execution_count": 9,
     "metadata": {},
     "output_type": "execute_result"
    }
   ],
   "source": [
    "data.isnull().sum()"
   ]
  },
  {
   "cell_type": "markdown",
   "id": "af2c2a67",
   "metadata": {},
   "source": [
    "## Analysing the independent variables"
   ]
  },
  {
   "cell_type": "markdown",
   "id": "0d881aa3",
   "metadata": {},
   "source": [
    "### Analysing ordinal categoricals "
   ]
  },
  {
   "cell_type": "code",
   "execution_count": 10,
   "id": "f768bf97",
   "metadata": {
    "scrolled": true
   },
   "outputs": [
    {
     "data": {
      "text/plain": [
       "3     9824\n",
       "4     6882\n",
       "2     2760\n",
       "5     1601\n",
       "6      272\n",
       "1      196\n",
       "7       38\n",
       "8       13\n",
       "9        6\n",
       "10       3\n",
       "11       1\n",
       "33       1\n",
       "Name: bedrooms, dtype: int64"
      ]
     },
     "execution_count": 10,
     "metadata": {},
     "output_type": "execute_result"
    }
   ],
   "source": [
    "data['bedrooms'].value_counts()   #Perhaps removing the properties with 33 rooms. Outlier or mistake. \n",
    "#Group in less categories? 1 and 2 rooms// five or more.Imbalance in the sample. Our database is concentrated in the 3-4 rooms categories. "
   ]
  },
  {
   "cell_type": "code",
   "execution_count": 28,
   "id": "61c7b39f",
   "metadata": {},
   "outputs": [
    {
     "data": {
      "text/plain": [
       "2.50    5377\n",
       "1.00    3851\n",
       "1.75    3048\n",
       "2.25    2047\n",
       "2.00    1930\n",
       "1.50    1445\n",
       "2.75    1185\n",
       "3.00     753\n",
       "3.50     731\n",
       "3.25     589\n",
       "3.75     155\n",
       "4.00     136\n",
       "4.50     100\n",
       "4.25      79\n",
       "0.75      71\n",
       "4.75      23\n",
       "5.00      21\n",
       "5.25      13\n",
       "5.50      10\n",
       "1.25       9\n",
       "6.00       6\n",
       "0.50       4\n",
       "5.75       4\n",
       "6.75       2\n",
       "8.00       2\n",
       "6.25       2\n",
       "6.50       2\n",
       "7.50       1\n",
       "7.75       1\n",
       "Name: bathrooms, dtype: int64"
      ]
     },
     "execution_count": 28,
     "metadata": {},
     "output_type": "execute_result"
    }
   ],
   "source": [
    "data['bathrooms'].value_counts() "
   ]
  },
  {
   "cell_type": "code",
   "execution_count": 29,
   "id": "4d906f7d",
   "metadata": {},
   "outputs": [
    {
     "data": {
      "text/plain": [
       "1.0    10673\n",
       "2.0     8235\n",
       "1.5     1910\n",
       "3.0      611\n",
       "2.5      161\n",
       "3.5        7\n",
       "Name: floors, dtype: int64"
      ]
     },
     "execution_count": 29,
     "metadata": {},
     "output_type": "execute_result"
    }
   ],
   "source": [
    "data['floors'].value_counts() #We have mostly flats in our database and townhouses, group also here 2 floors and more. "
   ]
  },
  {
   "cell_type": "markdown",
   "id": "0f37ffe9",
   "metadata": {},
   "source": [
    "We have mostly flats in our database and townhouses, group also here 2 floors and more. "
   ]
  },
  {
   "cell_type": "code",
   "execution_count": 30,
   "id": "c50d612e",
   "metadata": {},
   "outputs": [
    {
     "data": {
      "text/plain": [
       "0    21434\n",
       "1      163\n",
       "Name: waterfront, dtype: int64"
      ]
     },
     "execution_count": 30,
     "metadata": {},
     "output_type": "execute_result"
    }
   ],
   "source": [
    "data['waterfront'].value_counts() "
   ]
  },
  {
   "cell_type": "markdown",
   "id": "6ff7690f",
   "metadata": {},
   "source": [
    "Imbalance: most of the houses in one category. Visualizing the data with tableau, it seems that waterfront is defined very restrictively."
   ]
  },
  {
   "cell_type": "code",
   "execution_count": 31,
   "id": "b8412a06",
   "metadata": {},
   "outputs": [
    {
     "data": {
      "text/plain": [
       "0    19475\n",
       "2      961\n",
       "3      510\n",
       "1      332\n",
       "4      319\n",
       "Name: view, dtype: int64"
      ]
     },
     "execution_count": 31,
     "metadata": {},
     "output_type": "execute_result"
    }
   ],
   "source": [
    "data['view'].value_counts() "
   ]
  },
  {
   "cell_type": "markdown",
   "id": "ba3319c8",
   "metadata": {},
   "source": [
    "#Most of the houses view category 0 Center of the city? lower floors in apartment buildings?"
   ]
  },
  {
   "cell_type": "code",
   "execution_count": 32,
   "id": "926914ee",
   "metadata": {},
   "outputs": [
    {
     "data": {
      "text/plain": [
       "3    14020\n",
       "4     5677\n",
       "5     1701\n",
       "2      170\n",
       "1       29\n",
       "Name: condition, dtype: int64"
      ]
     },
     "execution_count": 32,
     "metadata": {},
     "output_type": "execute_result"
    }
   ],
   "source": [
    "data['condition'].value_counts() "
   ]
  },
  {
   "cell_type": "code",
   "execution_count": 33,
   "id": "d7f5557e",
   "metadata": {},
   "outputs": [],
   "source": [
    "#Imbalance towards average to good condition."
   ]
  },
  {
   "cell_type": "code",
   "execution_count": 38,
   "id": "4c45ddd2",
   "metadata": {},
   "outputs": [
    {
     "name": "stderr",
     "output_type": "stream",
     "text": [
      "C:\\Users\\31612\\anaconda3\\lib\\site-packages\\seaborn\\_decorators.py:36: FutureWarning: Pass the following variable as a keyword arg: x. From version 0.12, the only valid positional argument will be `data`, and passing other arguments without an explicit keyword will result in an error or misinterpretation.\n",
      "  warnings.warn(\n"
     ]
    },
    {
     "data": {
      "image/png": "[encoded data removed]",
      "text/plain": [
       "<Figure size 432x288 with 1 Axes>"
      ]
     },
     "metadata": {
      "needs_background": "light"
     },
     "output_type": "display_data"
    }
   ],
   "source": [
    "sns.countplot('condition', data=data);\n",
    "plt.show()\n"
   ]
  },
  {
   "cell_type": "code",
   "execution_count": 34,
   "id": "e31e5006",
   "metadata": {},
   "outputs": [
    {
     "data": {
      "text/plain": [
       "7     8974\n",
       "8     6065\n",
       "9     2615\n",
       "6     2038\n",
       "10    1134\n",
       "11     399\n",
       "5      242\n",
       "12      89\n",
       "4       27\n",
       "13      13\n",
       "3        1\n",
       "Name: grade, dtype: int64"
      ]
     },
     "execution_count": 34,
     "metadata": {},
     "output_type": "execute_result"
    }
   ],
   "source": [
    "data['grade'].value_counts() "
   ]
  },
  {
   "cell_type": "markdown",
   "id": "cf9f3102",
   "metadata": {},
   "source": [
    "Same results as the previous column. Could be interesting to investigate if the fact of having a rating of the King county increases the price of the house, not possible to check it with this database as all the houses have it.  "
   ]
  },
  {
   "cell_type": "markdown",
   "id": "114ceeb7",
   "metadata": {},
   "source": [
    "Latitute, longitude give the exact location, there is no need for the zip code. We can remove one of the two.Check which one makes more sense. Stock located in Seattle and its environments. Houses above 650k located in the waterfront, the upper part of the city, islands or proximity to water. \n"
   ]
  },
  {
   "cell_type": "code",
   "execution_count": 39,
   "id": "c3e41558",
   "metadata": {},
   "outputs": [
    {
     "name": "stderr",
     "output_type": "stream",
     "text": [
      "C:\\Users\\31612\\anaconda3\\lib\\site-packages\\seaborn\\_decorators.py:36: FutureWarning: Pass the following variable as a keyword arg: x. From version 0.12, the only valid positional argument will be `data`, and passing other arguments without an explicit keyword will result in an error or misinterpretation.\n",
      "  warnings.warn(\n"
     ]
    },
    {
     "data": {
      "image/png": "[encoded data removed]",
      "text/plain": [
       "<Figure size 432x288 with 1 Axes>"
      ]
     },
     "metadata": {
      "needs_background": "light"
     },
     "output_type": "display_data"
    }
   ],
   "source": [
    "sns.countplot('grade', data=data);\n",
    "plt.show()"
   ]
  },
  {
   "cell_type": "markdown",
   "id": "f16020f4",
   "metadata": {},
   "source": [
    "### Analysing date column"
   ]
  },
  {
   "cell_type": "code",
   "execution_count": 35,
   "id": "2c79ae5d",
   "metadata": {
    "scrolled": true
   },
   "outputs": [
    {
     "data": {
      "image/png": "[encoded data removed]",
      "text/plain": [
       "<Figure size 360x360 with 1 Axes>"
      ]
     },
     "metadata": {
      "needs_background": "light"
     },
     "output_type": "display_data"
    }
   ],
   "source": [
    "sns.displot(data=data, x=\"date\");\n"
   ]
  },
  {
   "cell_type": "markdown",
   "id": "800f61c3",
   "metadata": {},
   "source": [
    "### Analysing continuous variables\n"
   ]
  },
  {
   "cell_type": "code",
   "execution_count": 41,
   "id": "5e438c1b",
   "metadata": {},
   "outputs": [
    {
     "data": {
      "image/png": "[encoded data removed]",
      "text/plain": [
       "<Figure size 360x360 with 1 Axes>"
      ]
     },
     "metadata": {
      "needs_background": "light"
     },
     "output_type": "display_data"
    }
   ],
   "source": [
    "sns.displot(data=data, x=\"sqft_living\", kde=True);"
   ]
  },
  {
   "cell_type": "code",
   "execution_count": 47,
   "id": "94acec13",
   "metadata": {},
   "outputs": [
    {
     "name": "stderr",
     "output_type": "stream",
     "text": [
      "C:\\Users\\31612\\anaconda3\\lib\\site-packages\\seaborn\\_decorators.py:36: FutureWarning: Pass the following variable as a keyword arg: x. From version 0.12, the only valid positional argument will be `data`, and passing other arguments without an explicit keyword will result in an error or misinterpretation.\n",
      "  warnings.warn(\n"
     ]
    },
    {
     "data": {
      "image/png": "[encoded data removed]",
      "text/plain": [
       "<Figure size 432x288 with 1 Axes>"
      ]
     },
     "metadata": {
      "needs_background": "light"
     },
     "output_type": "display_data"
    }
   ],
   "source": [
    "sns.boxplot('sqft_living', data=data);"
   ]
  },
  {
   "cell_type": "code",
   "execution_count": 42,
   "id": "fbdb84ba",
   "metadata": {},
   "outputs": [
    {
     "data": {
      "image/png": "[encoded data removed]",
      "text/plain": [
       "<Figure size 360x360 with 1 Axes>"
      ]
     },
     "metadata": {
      "needs_background": "light"
     },
     "output_type": "display_data"
    }
   ],
   "source": [
    "sns.displot(data=data, x=\"sqft_lot\", kde=True); #Is this so because we have many flats? "
   ]
  },
  {
   "cell_type": "code",
   "execution_count": 48,
   "id": "172811a3",
   "metadata": {},
   "outputs": [
    {
     "name": "stderr",
     "output_type": "stream",
     "text": [
      "C:\\Users\\31612\\anaconda3\\lib\\site-packages\\seaborn\\_decorators.py:36: FutureWarning: Pass the following variable as a keyword arg: x. From version 0.12, the only valid positional argument will be `data`, and passing other arguments without an explicit keyword will result in an error or misinterpretation.\n",
      "  warnings.warn(\n"
     ]
    },
    {
     "data": {
      "image/png": "[encoded data removed]",
      "text/plain": [
       "<Figure size 432x288 with 1 Axes>"
      ]
     },
     "metadata": {
      "needs_background": "light"
     },
     "output_type": "display_data"
    }
   ],
   "source": [
    "sns.boxplot('sqft_lot', data=data);"
   ]
  },
  {
   "cell_type": "code",
   "execution_count": 43,
   "id": "e63652a9",
   "metadata": {},
   "outputs": [
    {
     "data": {
      "image/png": "[encoded data removed]",
      "text/plain": [
       "<Figure size 360x360 with 1 Axes>"
      ]
     },
     "metadata": {
      "needs_background": "light"
     },
     "output_type": "display_data"
    }
   ],
   "source": [
    "sns.displot(data=data, x=\"sqft_above\", kde=True);"
   ]
  },
  {
   "cell_type": "code",
   "execution_count": 49,
   "id": "9e89c8b9",
   "metadata": {},
   "outputs": [
    {
     "name": "stderr",
     "output_type": "stream",
     "text": [
      "C:\\Users\\31612\\anaconda3\\lib\\site-packages\\seaborn\\_decorators.py:36: FutureWarning: Pass the following variable as a keyword arg: x. From version 0.12, the only valid positional argument will be `data`, and passing other arguments without an explicit keyword will result in an error or misinterpretation.\n",
      "  warnings.warn(\n"
     ]
    },
    {
     "data": {
      "image/png": "[encoded data removed]",
      "text/plain": [
       "<Figure size 432x288 with 1 Axes>"
      ]
     },
     "metadata": {
      "needs_background": "light"
     },
     "output_type": "display_data"
    }
   ],
   "source": [
    "sns.boxplot('sqft_above', data=data);"
   ]
  },
  {
   "cell_type": "code",
   "execution_count": 44,
   "id": "220b82a1",
   "metadata": {
    "scrolled": true
   },
   "outputs": [
    {
     "data": {
      "image/png": "[encoded data removed]",
      "text/plain": [
       "<Figure size 360x360 with 1 Axes>"
      ]
     },
     "metadata": {
      "needs_background": "light"
     },
     "output_type": "display_data"
    }
   ],
   "source": [
    "sns.displot(data=data, x=\"sqft_basement\", kde=True);"
   ]
  },
  {
   "cell_type": "code",
   "execution_count": 50,
   "id": "c75c3b86",
   "metadata": {},
   "outputs": [
    {
     "name": "stderr",
     "output_type": "stream",
     "text": [
      "C:\\Users\\31612\\anaconda3\\lib\\site-packages\\seaborn\\_decorators.py:36: FutureWarning: Pass the following variable as a keyword arg: x. From version 0.12, the only valid positional argument will be `data`, and passing other arguments without an explicit keyword will result in an error or misinterpretation.\n",
      "  warnings.warn(\n"
     ]
    },
    {
     "data": {
      "image/png": "[encoded data removed]",
      "text/plain": [
       "<Figure size 432x288 with 1 Axes>"
      ]
     },
     "metadata": {
      "needs_background": "light"
     },
     "output_type": "display_data"
    }
   ],
   "source": [
    "sns.boxplot('sqft_basement', data=data);"
   ]
  },
  {
   "cell_type": "code",
   "execution_count": 45,
   "id": "9a23dcbd",
   "metadata": {},
   "outputs": [
    {
     "data": {
      "image/png": "[encoded data removed]",
      "text/plain": [
       "<Figure size 360x360 with 1 Axes>"
      ]
     },
     "metadata": {
      "needs_background": "light"
     },
     "output_type": "display_data"
    }
   ],
   "source": [
    "sns.displot(data=data, x=\"sqft_living15\", kde=True);"
   ]
  },
  {
   "cell_type": "code",
   "execution_count": 51,
   "id": "e20be690",
   "metadata": {},
   "outputs": [
    {
     "name": "stderr",
     "output_type": "stream",
     "text": [
      "C:\\Users\\31612\\anaconda3\\lib\\site-packages\\seaborn\\_decorators.py:36: FutureWarning: Pass the following variable as a keyword arg: x. From version 0.12, the only valid positional argument will be `data`, and passing other arguments without an explicit keyword will result in an error or misinterpretation.\n",
      "  warnings.warn(\n"
     ]
    },
    {
     "data": {
      "image/png": "[encoded data removed]",
      "text/plain": [
       "<Figure size 432x288 with 1 Axes>"
      ]
     },
     "metadata": {
      "needs_background": "light"
     },
     "output_type": "display_data"
    }
   ],
   "source": [
    "sns.boxplot(\"sqft_living15\", data=data);"
   ]
  },
  {
   "cell_type": "code",
   "execution_count": 46,
   "id": "28d2b846",
   "metadata": {
    "scrolled": true
   },
   "outputs": [
    {
     "data": {
      "image/png": "[encoded data removed]",
      "text/plain": [
       "<Figure size 360x360 with 1 Axes>"
      ]
     },
     "metadata": {
      "needs_background": "light"
     },
     "output_type": "display_data"
    }
   ],
   "source": [
    "sns.displot(data=data, x=\"sqft_lot15\", kde=True);"
   ]
  },
  {
   "cell_type": "code",
   "execution_count": 52,
   "id": "91921e14",
   "metadata": {},
   "outputs": [
    {
     "name": "stderr",
     "output_type": "stream",
     "text": [
      "C:\\Users\\31612\\anaconda3\\lib\\site-packages\\seaborn\\_decorators.py:36: FutureWarning: Pass the following variable as a keyword arg: x. From version 0.12, the only valid positional argument will be `data`, and passing other arguments without an explicit keyword will result in an error or misinterpretation.\n",
      "  warnings.warn(\n"
     ]
    },
    {
     "data": {
      "image/png": "[encoded data removed]",
      "text/plain": [
       "<Figure size 432x288 with 1 Axes>"
      ]
     },
     "metadata": {
      "needs_background": "light"
     },
     "output_type": "display_data"
    }
   ],
   "source": [
    "sns.boxplot(\"sqft_lot15\", data=data);"
   ]
  },
  {
   "cell_type": "markdown",
   "id": "cffb0564",
   "metadata": {},
   "source": [
    "## Analysing the dependent variable"
   ]
  },
  {
   "cell_type": "code",
   "execution_count": null,
   "id": "a8ed9237",
   "metadata": {},
   "outputs": [],
   "source": [
    "sns.displot(data=data, x=\"price\")"
   ]
  },
  {
   "cell_type": "code",
   "execution_count": 40,
   "id": "5728559c",
   "metadata": {
    "scrolled": true
   },
   "outputs": [
    {
     "data": {
      "image/png": "[encoded data removed]",
      "text/plain": [
       "<Figure size 360x360 with 1 Axes>"
      ]
     },
     "metadata": {
      "needs_background": "light"
     },
     "output_type": "display_data"
    }
   ],
   "source": [
    "sns.displot(data=data, x=\"price\", kde=True);"
   ]
  },
  {
   "cell_type": "markdown",
   "id": "cdb76676",
   "metadata": {},
   "source": [
    "Sample collects observations between may 2014 and 2015. It seems more interesting to extract the month as an explicative variable. Seems there are four months during which sales are lower.  "
   ]
  },
  {
   "cell_type": "markdown",
   "id": "1e423bd0",
   "metadata": {},
   "source": [
    "Compare square living and square living 15 to see how many houses have been renovated. See if we can drop any of these columns. Plot the numeric continous variables.  "
   ]
  },
  {
   "cell_type": "code",
   "execution_count": null,
   "id": "fe8f7345",
   "metadata": {},
   "outputs": [],
   "source": [
    "sns.displot(data=data, x=\"price\", kind=\"kde\");"
   ]
  },
  {
   "cell_type": "code",
   "execution_count": 14,
   "id": "2583584f",
   "metadata": {},
   "outputs": [
    {
     "name": "stderr",
     "output_type": "stream",
     "text": [
      "C:\\Users\\31612\\anaconda3\\lib\\site-packages\\seaborn\\_decorators.py:36: FutureWarning: Pass the following variable as a keyword arg: x. From version 0.12, the only valid positional argument will be `data`, and passing other arguments without an explicit keyword will result in an error or misinterpretation.\n",
      "  warnings.warn(\n"
     ]
    },
    {
     "data": {
      "image/png": "[encoded data removed]",
      "text/plain": [
       "<Figure size 432x288 with 1 Axes>"
      ]
     },
     "metadata": {
      "needs_background": "light"
     },
     "output_type": "display_data"
    }
   ],
   "source": [
    "sns.boxplot('price', data=data);"
   ]
  },
  {
   "cell_type": "markdown",
   "id": "5bf0202d",
   "metadata": {},
   "source": [
    "## Preparing the database for modelling"
   ]
  },
  {
   "cell_type": "code",
   "execution_count": 11,
   "id": "d1df18aa",
   "metadata": {},
   "outputs": [],
   "source": [
    "df=data.copy()"
   ]
  },
  {
   "cell_type": "markdown",
   "id": "c5571bc2",
   "metadata": {},
   "source": [
    "#### Extracting month of the year as a new column"
   ]
  },
  {
   "cell_type": "code",
   "execution_count": 14,
   "id": "ccf1ee44",
   "metadata": {},
   "outputs": [
    {
     "data": {
      "text/html": [
       "<div>\n",
       "<style scoped>\n",
       "    .dataframe tbody tr th:only-of-type {\n",
       "        vertical-align: middle;\n",
       "    }\n",
       "\n",
       "    .dataframe tbody tr th {\n",
       "        vertical-align: top;\n",
       "    }\n",
       "\n",
       "    .dataframe thead th {\n",
       "        text-align: right;\n",
       "    }\n",
       "</style>\n",
       "<table border=\"1\" class=\"dataframe\">\n",
       "  <thead>\n",
       "    <tr style=\"text-align: right;\">\n",
       "      <th></th>\n",
       "      <th>id</th>\n",
       "      <th>date</th>\n",
       "      <th>bedrooms</th>\n",
       "      <th>bathrooms</th>\n",
       "      <th>sqft_living</th>\n",
       "      <th>sqft_lot</th>\n",
       "      <th>floors</th>\n",
       "      <th>waterfront</th>\n",
       "      <th>view</th>\n",
       "      <th>condition</th>\n",
       "      <th>grade</th>\n",
       "      <th>sqft_above</th>\n",
       "      <th>sqft_basement</th>\n",
       "      <th>yr_built</th>\n",
       "      <th>yr_renovated</th>\n",
       "      <th>zipcode</th>\n",
       "      <th>lat</th>\n",
       "      <th>long</th>\n",
       "      <th>sqft_living15</th>\n",
       "      <th>sqft_lot15</th>\n",
       "      <th>price</th>\n",
       "      <th>month</th>\n",
       "    </tr>\n",
       "  </thead>\n",
       "  <tbody>\n",
       "    <tr>\n",
       "      <th>0</th>\n",
       "      <td>7129300520</td>\n",
       "      <td>2014-10-13</td>\n",
       "      <td>3</td>\n",
       "      <td>1.00</td>\n",
       "      <td>1180</td>\n",
       "      <td>5650</td>\n",
       "      <td>1.0</td>\n",
       "      <td>0</td>\n",
       "      <td>0</td>\n",
       "      <td>3</td>\n",
       "      <td>7</td>\n",
       "      <td>1180</td>\n",
       "      <td>0</td>\n",
       "      <td>1955</td>\n",
       "      <td>0</td>\n",
       "      <td>98178</td>\n",
       "      <td>47.5112</td>\n",
       "      <td>-122.257</td>\n",
       "      <td>1340</td>\n",
       "      <td>5650</td>\n",
       "      <td>221900</td>\n",
       "      <td>10</td>\n",
       "    </tr>\n",
       "    <tr>\n",
       "      <th>1</th>\n",
       "      <td>6414100192</td>\n",
       "      <td>2014-12-09</td>\n",
       "      <td>3</td>\n",
       "      <td>2.25</td>\n",
       "      <td>2570</td>\n",
       "      <td>7242</td>\n",
       "      <td>2.0</td>\n",
       "      <td>0</td>\n",
       "      <td>0</td>\n",
       "      <td>3</td>\n",
       "      <td>7</td>\n",
       "      <td>2170</td>\n",
       "      <td>400</td>\n",
       "      <td>1951</td>\n",
       "      <td>1991</td>\n",
       "      <td>98125</td>\n",
       "      <td>47.7210</td>\n",
       "      <td>-122.319</td>\n",
       "      <td>1690</td>\n",
       "      <td>7639</td>\n",
       "      <td>538000</td>\n",
       "      <td>12</td>\n",
       "    </tr>\n",
       "    <tr>\n",
       "      <th>2</th>\n",
       "      <td>5631500400</td>\n",
       "      <td>2015-02-25</td>\n",
       "      <td>2</td>\n",
       "      <td>1.00</td>\n",
       "      <td>770</td>\n",
       "      <td>10000</td>\n",
       "      <td>1.0</td>\n",
       "      <td>0</td>\n",
       "      <td>0</td>\n",
       "      <td>3</td>\n",
       "      <td>6</td>\n",
       "      <td>770</td>\n",
       "      <td>0</td>\n",
       "      <td>1933</td>\n",
       "      <td>0</td>\n",
       "      <td>98028</td>\n",
       "      <td>47.7379</td>\n",
       "      <td>-122.233</td>\n",
       "      <td>2720</td>\n",
       "      <td>8062</td>\n",
       "      <td>180000</td>\n",
       "      <td>2</td>\n",
       "    </tr>\n",
       "    <tr>\n",
       "      <th>3</th>\n",
       "      <td>2487200875</td>\n",
       "      <td>2014-12-09</td>\n",
       "      <td>4</td>\n",
       "      <td>3.00</td>\n",
       "      <td>1960</td>\n",
       "      <td>5000</td>\n",
       "      <td>1.0</td>\n",
       "      <td>0</td>\n",
       "      <td>0</td>\n",
       "      <td>5</td>\n",
       "      <td>7</td>\n",
       "      <td>1050</td>\n",
       "      <td>910</td>\n",
       "      <td>1965</td>\n",
       "      <td>0</td>\n",
       "      <td>98136</td>\n",
       "      <td>47.5208</td>\n",
       "      <td>-122.393</td>\n",
       "      <td>1360</td>\n",
       "      <td>5000</td>\n",
       "      <td>604000</td>\n",
       "      <td>12</td>\n",
       "    </tr>\n",
       "    <tr>\n",
       "      <th>4</th>\n",
       "      <td>1954400510</td>\n",
       "      <td>2015-02-18</td>\n",
       "      <td>3</td>\n",
       "      <td>2.00</td>\n",
       "      <td>1680</td>\n",
       "      <td>8080</td>\n",
       "      <td>1.0</td>\n",
       "      <td>0</td>\n",
       "      <td>0</td>\n",
       "      <td>3</td>\n",
       "      <td>8</td>\n",
       "      <td>1680</td>\n",
       "      <td>0</td>\n",
       "      <td>1987</td>\n",
       "      <td>0</td>\n",
       "      <td>98074</td>\n",
       "      <td>47.6168</td>\n",
       "      <td>-122.045</td>\n",
       "      <td>1800</td>\n",
       "      <td>7503</td>\n",
       "      <td>510000</td>\n",
       "      <td>2</td>\n",
       "    </tr>\n",
       "  </tbody>\n",
       "</table>\n",
       "</div>"
      ],
      "text/plain": [
       "           id       date  bedrooms  bathrooms  sqft_living  sqft_lot  floors  \\\n",
       "0  7129300520 2014-10-13         3       1.00         1180      5650     1.0   \n",
       "1  6414100192 2014-12-09         3       2.25         2570      7242     2.0   \n",
       "2  5631500400 2015-02-25         2       1.00          770     10000     1.0   \n",
       "3  2487200875 2014-12-09         4       3.00         1960      5000     1.0   \n",
       "4  1954400510 2015-02-18         3       2.00         1680      8080     1.0   \n",
       "\n",
       "   waterfront  view  condition  grade  sqft_above  sqft_basement  yr_built  \\\n",
       "0           0     0          3      7        1180              0      1955   \n",
       "1           0     0          3      7        2170            400      1951   \n",
       "2           0     0          3      6         770              0      1933   \n",
       "3           0     0          5      7        1050            910      1965   \n",
       "4           0     0          3      8        1680              0      1987   \n",
       "\n",
       "   yr_renovated  zipcode      lat     long  sqft_living15  sqft_lot15   price  \\\n",
       "0             0    98178  47.5112 -122.257           1340        5650  221900   \n",
       "1          1991    98125  47.7210 -122.319           1690        7639  538000   \n",
       "2             0    98028  47.7379 -122.233           2720        8062  180000   \n",
       "3             0    98136  47.5208 -122.393           1360        5000  604000   \n",
       "4             0    98074  47.6168 -122.045           1800        7503  510000   \n",
       "\n",
       "   month  \n",
       "0     10  \n",
       "1     12  \n",
       "2      2  \n",
       "3     12  \n",
       "4      2  "
      ]
     },
     "execution_count": 14,
     "metadata": {},
     "output_type": "execute_result"
    }
   ],
   "source": [
    "df['month'] = df['date'].dt.month \n",
    "df.head()"
   ]
  },
  {
   "cell_type": "markdown",
   "id": "61b52117",
   "metadata": {},
   "source": [
    "#### Dropping columns and strange rows"
   ]
  },
  {
   "cell_type": "code",
   "execution_count": 15,
   "id": "071068f9",
   "metadata": {},
   "outputs": [],
   "source": [
    "df.drop('date', axis=1, inplace=True)"
   ]
  },
  {
   "cell_type": "code",
   "execution_count": 16,
   "id": "c56dc01c",
   "metadata": {},
   "outputs": [],
   "source": [
    "df.drop('id', axis=1, inplace=True)"
   ]
  },
  {
   "cell_type": "code",
   "execution_count": 20,
   "id": "a733af6e",
   "metadata": {},
   "outputs": [
    {
     "data": {
      "text/html": [
       "<div>\n",
       "<style scoped>\n",
       "    .dataframe tbody tr th:only-of-type {\n",
       "        vertical-align: middle;\n",
       "    }\n",
       "\n",
       "    .dataframe tbody tr th {\n",
       "        vertical-align: top;\n",
       "    }\n",
       "\n",
       "    .dataframe thead th {\n",
       "        text-align: right;\n",
       "    }\n",
       "</style>\n",
       "<table border=\"1\" class=\"dataframe\">\n",
       "  <thead>\n",
       "    <tr style=\"text-align: right;\">\n",
       "      <th></th>\n",
       "      <th>id</th>\n",
       "      <th>date</th>\n",
       "      <th>bedrooms</th>\n",
       "      <th>bathrooms</th>\n",
       "      <th>sqft_living</th>\n",
       "      <th>sqft_lot</th>\n",
       "      <th>floors</th>\n",
       "      <th>waterfront</th>\n",
       "      <th>view</th>\n",
       "      <th>condition</th>\n",
       "      <th>grade</th>\n",
       "      <th>sqft_above</th>\n",
       "      <th>sqft_basement</th>\n",
       "      <th>yr_built</th>\n",
       "      <th>yr_renovated</th>\n",
       "      <th>zipcode</th>\n",
       "      <th>lat</th>\n",
       "      <th>long</th>\n",
       "      <th>sqft_living15</th>\n",
       "      <th>sqft_lot15</th>\n",
       "      <th>price</th>\n",
       "    </tr>\n",
       "  </thead>\n",
       "  <tbody>\n",
       "    <tr>\n",
       "      <th>15856</th>\n",
       "      <td>2402100895</td>\n",
       "      <td>2014-06-25</td>\n",
       "      <td>33</td>\n",
       "      <td>1.75</td>\n",
       "      <td>1620</td>\n",
       "      <td>6000</td>\n",
       "      <td>1.0</td>\n",
       "      <td>0</td>\n",
       "      <td>0</td>\n",
       "      <td>5</td>\n",
       "      <td>7</td>\n",
       "      <td>1040</td>\n",
       "      <td>580</td>\n",
       "      <td>1947</td>\n",
       "      <td>0</td>\n",
       "      <td>98103</td>\n",
       "      <td>47.6878</td>\n",
       "      <td>-122.331</td>\n",
       "      <td>1330</td>\n",
       "      <td>4700</td>\n",
       "      <td>640000</td>\n",
       "    </tr>\n",
       "  </tbody>\n",
       "</table>\n",
       "</div>"
      ],
      "text/plain": [
       "               id       date  bedrooms  bathrooms  sqft_living  sqft_lot  \\\n",
       "15856  2402100895 2014-06-25        33       1.75         1620      6000   \n",
       "\n",
       "       floors  waterfront  view  condition  grade  sqft_above  sqft_basement  \\\n",
       "15856     1.0           0     0          5      7        1040            580   \n",
       "\n",
       "       yr_built  yr_renovated  zipcode      lat     long  sqft_living15  \\\n",
       "15856      1947             0    98103  47.6878 -122.331           1330   \n",
       "\n",
       "       sqft_lot15   price  \n",
       "15856        4700  640000  "
      ]
     },
     "execution_count": 20,
     "metadata": {},
     "output_type": "execute_result"
    }
   ],
   "source": [
    "data[data['bedrooms']==33]   ##do I need to reset the index???"
   ]
  },
  {
   "cell_type": "code",
   "execution_count": 22,
   "id": "a2e93b68",
   "metadata": {},
   "outputs": [
    {
     "data": {
      "text/html": [
       "<div>\n",
       "<style scoped>\n",
       "    .dataframe tbody tr th:only-of-type {\n",
       "        vertical-align: middle;\n",
       "    }\n",
       "\n",
       "    .dataframe tbody tr th {\n",
       "        vertical-align: top;\n",
       "    }\n",
       "\n",
       "    .dataframe thead th {\n",
       "        text-align: right;\n",
       "    }\n",
       "</style>\n",
       "<table border=\"1\" class=\"dataframe\">\n",
       "  <thead>\n",
       "    <tr style=\"text-align: right;\">\n",
       "      <th></th>\n",
       "      <th>bedrooms</th>\n",
       "      <th>bathrooms</th>\n",
       "      <th>floors</th>\n",
       "      <th>waterfront</th>\n",
       "      <th>view</th>\n",
       "      <th>condition</th>\n",
       "      <th>grade</th>\n",
       "      <th>sqft_living</th>\n",
       "      <th>sqft_living15</th>\n",
       "      <th>sqft_lot</th>\n",
       "      <th>sqft_lot15</th>\n",
       "      <th>sqft_above</th>\n",
       "      <th>sqft_basement</th>\n",
       "      <th>yr_built</th>\n",
       "      <th>yr_renovated</th>\n",
       "      <th>month</th>\n",
       "      <th>zipcode</th>\n",
       "      <th>lat</th>\n",
       "      <th>long</th>\n",
       "      <th>price</th>\n",
       "    </tr>\n",
       "  </thead>\n",
       "  <tbody>\n",
       "    <tr>\n",
       "      <th>0</th>\n",
       "      <td>3</td>\n",
       "      <td>1.00</td>\n",
       "      <td>1.0</td>\n",
       "      <td>0</td>\n",
       "      <td>0</td>\n",
       "      <td>3</td>\n",
       "      <td>7</td>\n",
       "      <td>1180</td>\n",
       "      <td>1340</td>\n",
       "      <td>5650</td>\n",
       "      <td>5650</td>\n",
       "      <td>1180</td>\n",
       "      <td>0</td>\n",
       "      <td>1955</td>\n",
       "      <td>0</td>\n",
       "      <td>10</td>\n",
       "      <td>98178</td>\n",
       "      <td>47.5112</td>\n",
       "      <td>-122.257</td>\n",
       "      <td>221900</td>\n",
       "    </tr>\n",
       "    <tr>\n",
       "      <th>1</th>\n",
       "      <td>3</td>\n",
       "      <td>2.25</td>\n",
       "      <td>2.0</td>\n",
       "      <td>0</td>\n",
       "      <td>0</td>\n",
       "      <td>3</td>\n",
       "      <td>7</td>\n",
       "      <td>2570</td>\n",
       "      <td>1690</td>\n",
       "      <td>7242</td>\n",
       "      <td>7639</td>\n",
       "      <td>2170</td>\n",
       "      <td>400</td>\n",
       "      <td>1951</td>\n",
       "      <td>1991</td>\n",
       "      <td>12</td>\n",
       "      <td>98125</td>\n",
       "      <td>47.7210</td>\n",
       "      <td>-122.319</td>\n",
       "      <td>538000</td>\n",
       "    </tr>\n",
       "    <tr>\n",
       "      <th>2</th>\n",
       "      <td>2</td>\n",
       "      <td>1.00</td>\n",
       "      <td>1.0</td>\n",
       "      <td>0</td>\n",
       "      <td>0</td>\n",
       "      <td>3</td>\n",
       "      <td>6</td>\n",
       "      <td>770</td>\n",
       "      <td>2720</td>\n",
       "      <td>10000</td>\n",
       "      <td>8062</td>\n",
       "      <td>770</td>\n",
       "      <td>0</td>\n",
       "      <td>1933</td>\n",
       "      <td>0</td>\n",
       "      <td>2</td>\n",
       "      <td>98028</td>\n",
       "      <td>47.7379</td>\n",
       "      <td>-122.233</td>\n",
       "      <td>180000</td>\n",
       "    </tr>\n",
       "    <tr>\n",
       "      <th>3</th>\n",
       "      <td>4</td>\n",
       "      <td>3.00</td>\n",
       "      <td>1.0</td>\n",
       "      <td>0</td>\n",
       "      <td>0</td>\n",
       "      <td>5</td>\n",
       "      <td>7</td>\n",
       "      <td>1960</td>\n",
       "      <td>1360</td>\n",
       "      <td>5000</td>\n",
       "      <td>5000</td>\n",
       "      <td>1050</td>\n",
       "      <td>910</td>\n",
       "      <td>1965</td>\n",
       "      <td>0</td>\n",
       "      <td>12</td>\n",
       "      <td>98136</td>\n",
       "      <td>47.5208</td>\n",
       "      <td>-122.393</td>\n",
       "      <td>604000</td>\n",
       "    </tr>\n",
       "    <tr>\n",
       "      <th>4</th>\n",
       "      <td>3</td>\n",
       "      <td>2.00</td>\n",
       "      <td>1.0</td>\n",
       "      <td>0</td>\n",
       "      <td>0</td>\n",
       "      <td>3</td>\n",
       "      <td>8</td>\n",
       "      <td>1680</td>\n",
       "      <td>1800</td>\n",
       "      <td>8080</td>\n",
       "      <td>7503</td>\n",
       "      <td>1680</td>\n",
       "      <td>0</td>\n",
       "      <td>1987</td>\n",
       "      <td>0</td>\n",
       "      <td>2</td>\n",
       "      <td>98074</td>\n",
       "      <td>47.6168</td>\n",
       "      <td>-122.045</td>\n",
       "      <td>510000</td>\n",
       "    </tr>\n",
       "    <tr>\n",
       "      <th>...</th>\n",
       "      <td>...</td>\n",
       "      <td>...</td>\n",
       "      <td>...</td>\n",
       "      <td>...</td>\n",
       "      <td>...</td>\n",
       "      <td>...</td>\n",
       "      <td>...</td>\n",
       "      <td>...</td>\n",
       "      <td>...</td>\n",
       "      <td>...</td>\n",
       "      <td>...</td>\n",
       "      <td>...</td>\n",
       "      <td>...</td>\n",
       "      <td>...</td>\n",
       "      <td>...</td>\n",
       "      <td>...</td>\n",
       "      <td>...</td>\n",
       "      <td>...</td>\n",
       "      <td>...</td>\n",
       "      <td>...</td>\n",
       "    </tr>\n",
       "    <tr>\n",
       "      <th>21592</th>\n",
       "      <td>3</td>\n",
       "      <td>2.50</td>\n",
       "      <td>3.0</td>\n",
       "      <td>0</td>\n",
       "      <td>0</td>\n",
       "      <td>3</td>\n",
       "      <td>8</td>\n",
       "      <td>1530</td>\n",
       "      <td>1530</td>\n",
       "      <td>1131</td>\n",
       "      <td>1509</td>\n",
       "      <td>1530</td>\n",
       "      <td>0</td>\n",
       "      <td>2009</td>\n",
       "      <td>0</td>\n",
       "      <td>5</td>\n",
       "      <td>98103</td>\n",
       "      <td>47.6993</td>\n",
       "      <td>-122.346</td>\n",
       "      <td>360000</td>\n",
       "    </tr>\n",
       "    <tr>\n",
       "      <th>21593</th>\n",
       "      <td>4</td>\n",
       "      <td>2.50</td>\n",
       "      <td>2.0</td>\n",
       "      <td>0</td>\n",
       "      <td>0</td>\n",
       "      <td>3</td>\n",
       "      <td>8</td>\n",
       "      <td>2310</td>\n",
       "      <td>1830</td>\n",
       "      <td>5813</td>\n",
       "      <td>7200</td>\n",
       "      <td>2310</td>\n",
       "      <td>0</td>\n",
       "      <td>2014</td>\n",
       "      <td>0</td>\n",
       "      <td>2</td>\n",
       "      <td>98146</td>\n",
       "      <td>47.5107</td>\n",
       "      <td>-122.362</td>\n",
       "      <td>400000</td>\n",
       "    </tr>\n",
       "    <tr>\n",
       "      <th>21594</th>\n",
       "      <td>2</td>\n",
       "      <td>0.75</td>\n",
       "      <td>2.0</td>\n",
       "      <td>0</td>\n",
       "      <td>0</td>\n",
       "      <td>3</td>\n",
       "      <td>7</td>\n",
       "      <td>1020</td>\n",
       "      <td>1020</td>\n",
       "      <td>1350</td>\n",
       "      <td>2007</td>\n",
       "      <td>1020</td>\n",
       "      <td>0</td>\n",
       "      <td>2009</td>\n",
       "      <td>0</td>\n",
       "      <td>6</td>\n",
       "      <td>98144</td>\n",
       "      <td>47.5944</td>\n",
       "      <td>-122.299</td>\n",
       "      <td>402101</td>\n",
       "    </tr>\n",
       "    <tr>\n",
       "      <th>21595</th>\n",
       "      <td>3</td>\n",
       "      <td>2.50</td>\n",
       "      <td>2.0</td>\n",
       "      <td>0</td>\n",
       "      <td>0</td>\n",
       "      <td>3</td>\n",
       "      <td>8</td>\n",
       "      <td>1600</td>\n",
       "      <td>1410</td>\n",
       "      <td>2388</td>\n",
       "      <td>1287</td>\n",
       "      <td>1600</td>\n",
       "      <td>0</td>\n",
       "      <td>2004</td>\n",
       "      <td>0</td>\n",
       "      <td>1</td>\n",
       "      <td>98027</td>\n",
       "      <td>47.5345</td>\n",
       "      <td>-122.069</td>\n",
       "      <td>400000</td>\n",
       "    </tr>\n",
       "    <tr>\n",
       "      <th>21596</th>\n",
       "      <td>2</td>\n",
       "      <td>0.75</td>\n",
       "      <td>2.0</td>\n",
       "      <td>0</td>\n",
       "      <td>0</td>\n",
       "      <td>3</td>\n",
       "      <td>7</td>\n",
       "      <td>1020</td>\n",
       "      <td>1020</td>\n",
       "      <td>1076</td>\n",
       "      <td>1357</td>\n",
       "      <td>1020</td>\n",
       "      <td>0</td>\n",
       "      <td>2008</td>\n",
       "      <td>0</td>\n",
       "      <td>10</td>\n",
       "      <td>98144</td>\n",
       "      <td>47.5941</td>\n",
       "      <td>-122.299</td>\n",
       "      <td>325000</td>\n",
       "    </tr>\n",
       "  </tbody>\n",
       "</table>\n",
       "<p>21596 rows × 20 columns</p>\n",
       "</div>"
      ],
      "text/plain": [
       "       bedrooms  bathrooms  floors  waterfront  view  condition  grade  \\\n",
       "0             3       1.00     1.0           0     0          3      7   \n",
       "1             3       2.25     2.0           0     0          3      7   \n",
       "2             2       1.00     1.0           0     0          3      6   \n",
       "3             4       3.00     1.0           0     0          5      7   \n",
       "4             3       2.00     1.0           0     0          3      8   \n",
       "...         ...        ...     ...         ...   ...        ...    ...   \n",
       "21592         3       2.50     3.0           0     0          3      8   \n",
       "21593         4       2.50     2.0           0     0          3      8   \n",
       "21594         2       0.75     2.0           0     0          3      7   \n",
       "21595         3       2.50     2.0           0     0          3      8   \n",
       "21596         2       0.75     2.0           0     0          3      7   \n",
       "\n",
       "       sqft_living  sqft_living15  sqft_lot  sqft_lot15  sqft_above  \\\n",
       "0             1180           1340      5650        5650        1180   \n",
       "1             2570           1690      7242        7639        2170   \n",
       "2              770           2720     10000        8062         770   \n",
       "3             1960           1360      5000        5000        1050   \n",
       "4             1680           1800      8080        7503        1680   \n",
       "...            ...            ...       ...         ...         ...   \n",
       "21592         1530           1530      1131        1509        1530   \n",
       "21593         2310           1830      5813        7200        2310   \n",
       "21594         1020           1020      1350        2007        1020   \n",
       "21595         1600           1410      2388        1287        1600   \n",
       "21596         1020           1020      1076        1357        1020   \n",
       "\n",
       "       sqft_basement  yr_built  yr_renovated  month  zipcode      lat  \\\n",
       "0                  0      1955             0     10    98178  47.5112   \n",
       "1                400      1951          1991     12    98125  47.7210   \n",
       "2                  0      1933             0      2    98028  47.7379   \n",
       "3                910      1965             0     12    98136  47.5208   \n",
       "4                  0      1987             0      2    98074  47.6168   \n",
       "...              ...       ...           ...    ...      ...      ...   \n",
       "21592              0      2009             0      5    98103  47.6993   \n",
       "21593              0      2014             0      2    98146  47.5107   \n",
       "21594              0      2009             0      6    98144  47.5944   \n",
       "21595              0      2004             0      1    98027  47.5345   \n",
       "21596              0      2008             0     10    98144  47.5941   \n",
       "\n",
       "          long   price  \n",
       "0     -122.257  221900  \n",
       "1     -122.319  538000  \n",
       "2     -122.233  180000  \n",
       "3     -122.393  604000  \n",
       "4     -122.045  510000  \n",
       "...        ...     ...  \n",
       "21592 -122.346  360000  \n",
       "21593 -122.362  400000  \n",
       "21594 -122.299  402101  \n",
       "21595 -122.069  400000  \n",
       "21596 -122.299  325000  \n",
       "\n",
       "[21596 rows x 20 columns]"
      ]
     },
     "execution_count": 22,
     "metadata": {},
     "output_type": "execute_result"
    }
   ],
   "source": [
    "df.drop([df.index[15856]])"
   ]
  },
  {
   "cell_type": "markdown",
   "id": "90d46219",
   "metadata": {},
   "source": [
    "#### Reordering columns"
   ]
  },
  {
   "cell_type": "code",
   "execution_count": 18,
   "id": "033c1dd9",
   "metadata": {},
   "outputs": [],
   "source": [
    "df = df[['bedrooms', 'bathrooms','floors','waterfront', 'view', 'condition', 'grade', \n",
    "          'sqft_living', 'sqft_living15', 'sqft_lot','sqft_lot15','sqft_above','sqft_basement',\n",
    "          'yr_built', 'yr_renovated', 'month', 'zipcode', 'lat', 'long','price']]"
   ]
  },
  {
   "cell_type": "code",
   "execution_count": 19,
   "id": "a3d7ba50",
   "metadata": {},
   "outputs": [
    {
     "data": {
      "text/html": [
       "<div>\n",
       "<style scoped>\n",
       "    .dataframe tbody tr th:only-of-type {\n",
       "        vertical-align: middle;\n",
       "    }\n",
       "\n",
       "    .dataframe tbody tr th {\n",
       "        vertical-align: top;\n",
       "    }\n",
       "\n",
       "    .dataframe thead th {\n",
       "        text-align: right;\n",
       "    }\n",
       "</style>\n",
       "<table border=\"1\" class=\"dataframe\">\n",
       "  <thead>\n",
       "    <tr style=\"text-align: right;\">\n",
       "      <th></th>\n",
       "      <th>bedrooms</th>\n",
       "      <th>bathrooms</th>\n",
       "      <th>floors</th>\n",
       "      <th>waterfront</th>\n",
       "      <th>view</th>\n",
       "      <th>condition</th>\n",
       "      <th>grade</th>\n",
       "      <th>sqft_living</th>\n",
       "      <th>sqft_living15</th>\n",
       "      <th>sqft_lot</th>\n",
       "      <th>sqft_lot15</th>\n",
       "      <th>sqft_above</th>\n",
       "      <th>sqft_basement</th>\n",
       "      <th>yr_built</th>\n",
       "      <th>yr_renovated</th>\n",
       "      <th>month</th>\n",
       "      <th>zipcode</th>\n",
       "      <th>lat</th>\n",
       "      <th>long</th>\n",
       "      <th>price</th>\n",
       "    </tr>\n",
       "  </thead>\n",
       "  <tbody>\n",
       "    <tr>\n",
       "      <th>0</th>\n",
       "      <td>3</td>\n",
       "      <td>1.00</td>\n",
       "      <td>1.0</td>\n",
       "      <td>0</td>\n",
       "      <td>0</td>\n",
       "      <td>3</td>\n",
       "      <td>7</td>\n",
       "      <td>1180</td>\n",
       "      <td>1340</td>\n",
       "      <td>5650</td>\n",
       "      <td>5650</td>\n",
       "      <td>1180</td>\n",
       "      <td>0</td>\n",
       "      <td>1955</td>\n",
       "      <td>0</td>\n",
       "      <td>10</td>\n",
       "      <td>98178</td>\n",
       "      <td>47.5112</td>\n",
       "      <td>-122.257</td>\n",
       "      <td>221900</td>\n",
       "    </tr>\n",
       "    <tr>\n",
       "      <th>1</th>\n",
       "      <td>3</td>\n",
       "      <td>2.25</td>\n",
       "      <td>2.0</td>\n",
       "      <td>0</td>\n",
       "      <td>0</td>\n",
       "      <td>3</td>\n",
       "      <td>7</td>\n",
       "      <td>2570</td>\n",
       "      <td>1690</td>\n",
       "      <td>7242</td>\n",
       "      <td>7639</td>\n",
       "      <td>2170</td>\n",
       "      <td>400</td>\n",
       "      <td>1951</td>\n",
       "      <td>1991</td>\n",
       "      <td>12</td>\n",
       "      <td>98125</td>\n",
       "      <td>47.7210</td>\n",
       "      <td>-122.319</td>\n",
       "      <td>538000</td>\n",
       "    </tr>\n",
       "    <tr>\n",
       "      <th>2</th>\n",
       "      <td>2</td>\n",
       "      <td>1.00</td>\n",
       "      <td>1.0</td>\n",
       "      <td>0</td>\n",
       "      <td>0</td>\n",
       "      <td>3</td>\n",
       "      <td>6</td>\n",
       "      <td>770</td>\n",
       "      <td>2720</td>\n",
       "      <td>10000</td>\n",
       "      <td>8062</td>\n",
       "      <td>770</td>\n",
       "      <td>0</td>\n",
       "      <td>1933</td>\n",
       "      <td>0</td>\n",
       "      <td>2</td>\n",
       "      <td>98028</td>\n",
       "      <td>47.7379</td>\n",
       "      <td>-122.233</td>\n",
       "      <td>180000</td>\n",
       "    </tr>\n",
       "    <tr>\n",
       "      <th>3</th>\n",
       "      <td>4</td>\n",
       "      <td>3.00</td>\n",
       "      <td>1.0</td>\n",
       "      <td>0</td>\n",
       "      <td>0</td>\n",
       "      <td>5</td>\n",
       "      <td>7</td>\n",
       "      <td>1960</td>\n",
       "      <td>1360</td>\n",
       "      <td>5000</td>\n",
       "      <td>5000</td>\n",
       "      <td>1050</td>\n",
       "      <td>910</td>\n",
       "      <td>1965</td>\n",
       "      <td>0</td>\n",
       "      <td>12</td>\n",
       "      <td>98136</td>\n",
       "      <td>47.5208</td>\n",
       "      <td>-122.393</td>\n",
       "      <td>604000</td>\n",
       "    </tr>\n",
       "    <tr>\n",
       "      <th>4</th>\n",
       "      <td>3</td>\n",
       "      <td>2.00</td>\n",
       "      <td>1.0</td>\n",
       "      <td>0</td>\n",
       "      <td>0</td>\n",
       "      <td>3</td>\n",
       "      <td>8</td>\n",
       "      <td>1680</td>\n",
       "      <td>1800</td>\n",
       "      <td>8080</td>\n",
       "      <td>7503</td>\n",
       "      <td>1680</td>\n",
       "      <td>0</td>\n",
       "      <td>1987</td>\n",
       "      <td>0</td>\n",
       "      <td>2</td>\n",
       "      <td>98074</td>\n",
       "      <td>47.6168</td>\n",
       "      <td>-122.045</td>\n",
       "      <td>510000</td>\n",
       "    </tr>\n",
       "  </tbody>\n",
       "</table>\n",
       "</div>"
      ],
      "text/plain": [
       "   bedrooms  bathrooms  floors  waterfront  view  condition  grade  \\\n",
       "0         3       1.00     1.0           0     0          3      7   \n",
       "1         3       2.25     2.0           0     0          3      7   \n",
       "2         2       1.00     1.0           0     0          3      6   \n",
       "3         4       3.00     1.0           0     0          5      7   \n",
       "4         3       2.00     1.0           0     0          3      8   \n",
       "\n",
       "   sqft_living  sqft_living15  sqft_lot  sqft_lot15  sqft_above  \\\n",
       "0         1180           1340      5650        5650        1180   \n",
       "1         2570           1690      7242        7639        2170   \n",
       "2          770           2720     10000        8062         770   \n",
       "3         1960           1360      5000        5000        1050   \n",
       "4         1680           1800      8080        7503        1680   \n",
       "\n",
       "   sqft_basement  yr_built  yr_renovated  month  zipcode      lat     long  \\\n",
       "0              0      1955             0     10    98178  47.5112 -122.257   \n",
       "1            400      1951          1991     12    98125  47.7210 -122.319   \n",
       "2              0      1933             0      2    98028  47.7379 -122.233   \n",
       "3            910      1965             0     12    98136  47.5208 -122.393   \n",
       "4              0      1987             0      2    98074  47.6168 -122.045   \n",
       "\n",
       "    price  \n",
       "0  221900  \n",
       "1  538000  \n",
       "2  180000  \n",
       "3  604000  \n",
       "4  510000  "
      ]
     },
     "execution_count": 19,
     "metadata": {},
     "output_type": "execute_result"
    }
   ],
   "source": [
    "df.head()"
   ]
  },
  {
   "cell_type": "markdown",
   "id": "b6ec2e57",
   "metadata": {},
   "source": [
    "## Correlations\n"
   ]
  },
  {
   "cell_type": "markdown",
   "id": "17d66e5b",
   "metadata": {},
   "source": [
    "### Correlation matrix and heatmap"
   ]
  },
  {
   "cell_type": "code",
   "execution_count": 26,
   "id": "2e7d0d6c",
   "metadata": {},
   "outputs": [
    {
     "data": {
      "text/html": [
       "<div>\n",
       "<style scoped>\n",
       "    .dataframe tbody tr th:only-of-type {\n",
       "        vertical-align: middle;\n",
       "    }\n",
       "\n",
       "    .dataframe tbody tr th {\n",
       "        vertical-align: top;\n",
       "    }\n",
       "\n",
       "    .dataframe thead th {\n",
       "        text-align: right;\n",
       "    }\n",
       "</style>\n",
       "<table border=\"1\" class=\"dataframe\">\n",
       "  <thead>\n",
       "    <tr style=\"text-align: right;\">\n",
       "      <th></th>\n",
       "      <th>bedrooms</th>\n",
       "      <th>bathrooms</th>\n",
       "      <th>floors</th>\n",
       "      <th>waterfront</th>\n",
       "      <th>view</th>\n",
       "      <th>condition</th>\n",
       "      <th>grade</th>\n",
       "      <th>sqft_living</th>\n",
       "      <th>sqft_living15</th>\n",
       "      <th>sqft_lot</th>\n",
       "      <th>sqft_lot15</th>\n",
       "      <th>sqft_above</th>\n",
       "      <th>sqft_basement</th>\n",
       "      <th>yr_built</th>\n",
       "      <th>yr_renovated</th>\n",
       "      <th>month</th>\n",
       "      <th>zipcode</th>\n",
       "      <th>lat</th>\n",
       "      <th>long</th>\n",
       "      <th>price</th>\n",
       "    </tr>\n",
       "  </thead>\n",
       "  <tbody>\n",
       "    <tr>\n",
       "      <th>bedrooms</th>\n",
       "      <td>1.000000</td>\n",
       "      <td>0.514508</td>\n",
       "      <td>0.177944</td>\n",
       "      <td>-0.006834</td>\n",
       "      <td>0.080008</td>\n",
       "      <td>0.026496</td>\n",
       "      <td>0.356563</td>\n",
       "      <td>0.578212</td>\n",
       "      <td>0.393406</td>\n",
       "      <td>0.032471</td>\n",
       "      <td>0.030690</td>\n",
       "      <td>0.479386</td>\n",
       "      <td>0.302808</td>\n",
       "      <td>0.155670</td>\n",
       "      <td>0.018389</td>\n",
       "      <td>-0.001046</td>\n",
       "      <td>-0.154092</td>\n",
       "      <td>-0.009951</td>\n",
       "      <td>0.132054</td>\n",
       "      <td>0.308787</td>\n",
       "    </tr>\n",
       "    <tr>\n",
       "      <th>bathrooms</th>\n",
       "      <td>0.514508</td>\n",
       "      <td>1.000000</td>\n",
       "      <td>0.502582</td>\n",
       "      <td>0.063744</td>\n",
       "      <td>0.188386</td>\n",
       "      <td>-0.126479</td>\n",
       "      <td>0.665838</td>\n",
       "      <td>0.755758</td>\n",
       "      <td>0.569884</td>\n",
       "      <td>0.088373</td>\n",
       "      <td>0.088303</td>\n",
       "      <td>0.686668</td>\n",
       "      <td>0.283440</td>\n",
       "      <td>0.507173</td>\n",
       "      <td>0.050544</td>\n",
       "      <td>0.007543</td>\n",
       "      <td>-0.204786</td>\n",
       "      <td>0.024280</td>\n",
       "      <td>0.224903</td>\n",
       "      <td>0.525906</td>\n",
       "    </tr>\n",
       "    <tr>\n",
       "      <th>floors</th>\n",
       "      <td>0.177944</td>\n",
       "      <td>0.502582</td>\n",
       "      <td>1.000000</td>\n",
       "      <td>0.023755</td>\n",
       "      <td>0.028814</td>\n",
       "      <td>-0.264075</td>\n",
       "      <td>0.458794</td>\n",
       "      <td>0.353953</td>\n",
       "      <td>0.280102</td>\n",
       "      <td>-0.004814</td>\n",
       "      <td>-0.010722</td>\n",
       "      <td>0.523989</td>\n",
       "      <td>-0.245715</td>\n",
       "      <td>0.489193</td>\n",
       "      <td>0.006427</td>\n",
       "      <td>0.014245</td>\n",
       "      <td>-0.059541</td>\n",
       "      <td>0.049239</td>\n",
       "      <td>0.125943</td>\n",
       "      <td>0.256804</td>\n",
       "    </tr>\n",
       "    <tr>\n",
       "      <th>waterfront</th>\n",
       "      <td>-0.006834</td>\n",
       "      <td>0.063744</td>\n",
       "      <td>0.023755</td>\n",
       "      <td>1.000000</td>\n",
       "      <td>0.401971</td>\n",
       "      <td>0.016611</td>\n",
       "      <td>0.082888</td>\n",
       "      <td>0.103854</td>\n",
       "      <td>0.086507</td>\n",
       "      <td>0.021632</td>\n",
       "      <td>0.030781</td>\n",
       "      <td>0.072109</td>\n",
       "      <td>0.080559</td>\n",
       "      <td>-0.026153</td>\n",
       "      <td>0.092873</td>\n",
       "      <td>0.008148</td>\n",
       "      <td>0.030272</td>\n",
       "      <td>-0.014306</td>\n",
       "      <td>-0.041904</td>\n",
       "      <td>0.266398</td>\n",
       "    </tr>\n",
       "    <tr>\n",
       "      <th>view</th>\n",
       "      <td>0.080008</td>\n",
       "      <td>0.188386</td>\n",
       "      <td>0.028814</td>\n",
       "      <td>0.401971</td>\n",
       "      <td>1.000000</td>\n",
       "      <td>0.045999</td>\n",
       "      <td>0.251728</td>\n",
       "      <td>0.284709</td>\n",
       "      <td>0.280681</td>\n",
       "      <td>0.074900</td>\n",
       "      <td>0.072904</td>\n",
       "      <td>0.167609</td>\n",
       "      <td>0.277078</td>\n",
       "      <td>-0.053636</td>\n",
       "      <td>0.103951</td>\n",
       "      <td>-0.005398</td>\n",
       "      <td>0.084622</td>\n",
       "      <td>0.005871</td>\n",
       "      <td>-0.078107</td>\n",
       "      <td>0.397370</td>\n",
       "    </tr>\n",
       "    <tr>\n",
       "      <th>condition</th>\n",
       "      <td>0.026496</td>\n",
       "      <td>-0.126479</td>\n",
       "      <td>-0.264075</td>\n",
       "      <td>0.016611</td>\n",
       "      <td>0.045999</td>\n",
       "      <td>1.000000</td>\n",
       "      <td>-0.146896</td>\n",
       "      <td>-0.059445</td>\n",
       "      <td>-0.093072</td>\n",
       "      <td>-0.008830</td>\n",
       "      <td>-0.003126</td>\n",
       "      <td>-0.158904</td>\n",
       "      <td>0.173849</td>\n",
       "      <td>-0.361592</td>\n",
       "      <td>-0.060788</td>\n",
       "      <td>0.022388</td>\n",
       "      <td>0.002888</td>\n",
       "      <td>-0.015102</td>\n",
       "      <td>-0.105877</td>\n",
       "      <td>0.036056</td>\n",
       "    </tr>\n",
       "    <tr>\n",
       "      <th>grade</th>\n",
       "      <td>0.356563</td>\n",
       "      <td>0.665838</td>\n",
       "      <td>0.458794</td>\n",
       "      <td>0.082888</td>\n",
       "      <td>0.251728</td>\n",
       "      <td>-0.146896</td>\n",
       "      <td>1.000000</td>\n",
       "      <td>0.762779</td>\n",
       "      <td>0.713867</td>\n",
       "      <td>0.114731</td>\n",
       "      <td>0.120981</td>\n",
       "      <td>0.756073</td>\n",
       "      <td>0.168220</td>\n",
       "      <td>0.447865</td>\n",
       "      <td>0.014261</td>\n",
       "      <td>0.008989</td>\n",
       "      <td>-0.185771</td>\n",
       "      <td>0.113575</td>\n",
       "      <td>0.200341</td>\n",
       "      <td>0.667951</td>\n",
       "    </tr>\n",
       "    <tr>\n",
       "      <th>sqft_living</th>\n",
       "      <td>0.578212</td>\n",
       "      <td>0.755758</td>\n",
       "      <td>0.353953</td>\n",
       "      <td>0.103854</td>\n",
       "      <td>0.284709</td>\n",
       "      <td>-0.059445</td>\n",
       "      <td>0.762779</td>\n",
       "      <td>1.000000</td>\n",
       "      <td>0.756402</td>\n",
       "      <td>0.173453</td>\n",
       "      <td>0.184342</td>\n",
       "      <td>0.876448</td>\n",
       "      <td>0.435130</td>\n",
       "      <td>0.318152</td>\n",
       "      <td>0.055308</td>\n",
       "      <td>0.012112</td>\n",
       "      <td>-0.199802</td>\n",
       "      <td>0.052155</td>\n",
       "      <td>0.241214</td>\n",
       "      <td>0.701917</td>\n",
       "    </tr>\n",
       "    <tr>\n",
       "      <th>sqft_living15</th>\n",
       "      <td>0.393406</td>\n",
       "      <td>0.569884</td>\n",
       "      <td>0.280102</td>\n",
       "      <td>0.086507</td>\n",
       "      <td>0.280681</td>\n",
       "      <td>-0.093072</td>\n",
       "      <td>0.713867</td>\n",
       "      <td>0.756402</td>\n",
       "      <td>1.000000</td>\n",
       "      <td>0.144763</td>\n",
       "      <td>0.183515</td>\n",
       "      <td>0.731767</td>\n",
       "      <td>0.200443</td>\n",
       "      <td>0.326377</td>\n",
       "      <td>-0.002695</td>\n",
       "      <td>0.002513</td>\n",
       "      <td>-0.279299</td>\n",
       "      <td>0.048679</td>\n",
       "      <td>0.335626</td>\n",
       "      <td>0.585241</td>\n",
       "    </tr>\n",
       "    <tr>\n",
       "      <th>sqft_lot</th>\n",
       "      <td>0.032471</td>\n",
       "      <td>0.088373</td>\n",
       "      <td>-0.004814</td>\n",
       "      <td>0.021632</td>\n",
       "      <td>0.074900</td>\n",
       "      <td>-0.008830</td>\n",
       "      <td>0.114731</td>\n",
       "      <td>0.173453</td>\n",
       "      <td>0.144763</td>\n",
       "      <td>1.000000</td>\n",
       "      <td>0.718204</td>\n",
       "      <td>0.184139</td>\n",
       "      <td>0.015418</td>\n",
       "      <td>0.052946</td>\n",
       "      <td>0.007686</td>\n",
       "      <td>-0.002591</td>\n",
       "      <td>-0.129586</td>\n",
       "      <td>-0.085514</td>\n",
       "      <td>0.230227</td>\n",
       "      <td>0.089876</td>\n",
       "    </tr>\n",
       "    <tr>\n",
       "      <th>sqft_lot15</th>\n",
       "      <td>0.030690</td>\n",
       "      <td>0.088303</td>\n",
       "      <td>-0.010722</td>\n",
       "      <td>0.030781</td>\n",
       "      <td>0.072904</td>\n",
       "      <td>-0.003126</td>\n",
       "      <td>0.120981</td>\n",
       "      <td>0.184342</td>\n",
       "      <td>0.183515</td>\n",
       "      <td>0.718204</td>\n",
       "      <td>1.000000</td>\n",
       "      <td>0.195077</td>\n",
       "      <td>0.017550</td>\n",
       "      <td>0.070777</td>\n",
       "      <td>0.007944</td>\n",
       "      <td>0.003189</td>\n",
       "      <td>-0.147294</td>\n",
       "      <td>-0.086139</td>\n",
       "      <td>0.255586</td>\n",
       "      <td>0.082845</td>\n",
       "    </tr>\n",
       "    <tr>\n",
       "      <th>sqft_above</th>\n",
       "      <td>0.479386</td>\n",
       "      <td>0.686668</td>\n",
       "      <td>0.523989</td>\n",
       "      <td>0.072109</td>\n",
       "      <td>0.167609</td>\n",
       "      <td>-0.158904</td>\n",
       "      <td>0.756073</td>\n",
       "      <td>0.876448</td>\n",
       "      <td>0.731767</td>\n",
       "      <td>0.184139</td>\n",
       "      <td>0.195077</td>\n",
       "      <td>1.000000</td>\n",
       "      <td>-0.052156</td>\n",
       "      <td>0.424037</td>\n",
       "      <td>0.023251</td>\n",
       "      <td>0.010153</td>\n",
       "      <td>-0.261570</td>\n",
       "      <td>-0.001199</td>\n",
       "      <td>0.344842</td>\n",
       "      <td>0.605368</td>\n",
       "    </tr>\n",
       "    <tr>\n",
       "      <th>sqft_basement</th>\n",
       "      <td>0.302808</td>\n",
       "      <td>0.283440</td>\n",
       "      <td>-0.245715</td>\n",
       "      <td>0.080559</td>\n",
       "      <td>0.277078</td>\n",
       "      <td>0.173849</td>\n",
       "      <td>0.168220</td>\n",
       "      <td>0.435130</td>\n",
       "      <td>0.200443</td>\n",
       "      <td>0.015418</td>\n",
       "      <td>0.017550</td>\n",
       "      <td>-0.052156</td>\n",
       "      <td>1.000000</td>\n",
       "      <td>-0.133064</td>\n",
       "      <td>0.071233</td>\n",
       "      <td>0.006135</td>\n",
       "      <td>0.074725</td>\n",
       "      <td>0.110414</td>\n",
       "      <td>-0.144546</td>\n",
       "      <td>0.323799</td>\n",
       "    </tr>\n",
       "    <tr>\n",
       "      <th>yr_built</th>\n",
       "      <td>0.155670</td>\n",
       "      <td>0.507173</td>\n",
       "      <td>0.489193</td>\n",
       "      <td>-0.026153</td>\n",
       "      <td>-0.053636</td>\n",
       "      <td>-0.361592</td>\n",
       "      <td>0.447865</td>\n",
       "      <td>0.318152</td>\n",
       "      <td>0.326377</td>\n",
       "      <td>0.052946</td>\n",
       "      <td>0.070777</td>\n",
       "      <td>0.424037</td>\n",
       "      <td>-0.133064</td>\n",
       "      <td>1.000000</td>\n",
       "      <td>-0.224907</td>\n",
       "      <td>-0.006235</td>\n",
       "      <td>-0.347210</td>\n",
       "      <td>-0.148370</td>\n",
       "      <td>0.409993</td>\n",
       "      <td>0.053953</td>\n",
       "    </tr>\n",
       "    <tr>\n",
       "      <th>yr_renovated</th>\n",
       "      <td>0.018389</td>\n",
       "      <td>0.050544</td>\n",
       "      <td>0.006427</td>\n",
       "      <td>0.092873</td>\n",
       "      <td>0.103951</td>\n",
       "      <td>-0.060788</td>\n",
       "      <td>0.014261</td>\n",
       "      <td>0.055308</td>\n",
       "      <td>-0.002695</td>\n",
       "      <td>0.007686</td>\n",
       "      <td>0.007944</td>\n",
       "      <td>0.023251</td>\n",
       "      <td>0.071233</td>\n",
       "      <td>-0.224907</td>\n",
       "      <td>1.000000</td>\n",
       "      <td>0.012864</td>\n",
       "      <td>0.064325</td>\n",
       "      <td>0.029350</td>\n",
       "      <td>-0.068321</td>\n",
       "      <td>0.126424</td>\n",
       "    </tr>\n",
       "    <tr>\n",
       "      <th>month</th>\n",
       "      <td>-0.001046</td>\n",
       "      <td>0.007543</td>\n",
       "      <td>0.014245</td>\n",
       "      <td>0.008148</td>\n",
       "      <td>-0.005398</td>\n",
       "      <td>0.022388</td>\n",
       "      <td>0.008989</td>\n",
       "      <td>0.012112</td>\n",
       "      <td>0.002513</td>\n",
       "      <td>-0.002591</td>\n",
       "      <td>0.003189</td>\n",
       "      <td>0.010153</td>\n",
       "      <td>0.006135</td>\n",
       "      <td>-0.006235</td>\n",
       "      <td>0.012864</td>\n",
       "      <td>1.000000</td>\n",
       "      <td>-0.000143</td>\n",
       "      <td>0.014995</td>\n",
       "      <td>-0.008404</td>\n",
       "      <td>-0.009928</td>\n",
       "    </tr>\n",
       "    <tr>\n",
       "      <th>zipcode</th>\n",
       "      <td>-0.154092</td>\n",
       "      <td>-0.204786</td>\n",
       "      <td>-0.059541</td>\n",
       "      <td>0.030272</td>\n",
       "      <td>0.084622</td>\n",
       "      <td>0.002888</td>\n",
       "      <td>-0.185771</td>\n",
       "      <td>-0.199802</td>\n",
       "      <td>-0.279299</td>\n",
       "      <td>-0.129586</td>\n",
       "      <td>-0.147294</td>\n",
       "      <td>-0.261570</td>\n",
       "      <td>0.074725</td>\n",
       "      <td>-0.347210</td>\n",
       "      <td>0.064325</td>\n",
       "      <td>-0.000143</td>\n",
       "      <td>1.000000</td>\n",
       "      <td>0.266742</td>\n",
       "      <td>-0.564259</td>\n",
       "      <td>-0.053402</td>\n",
       "    </tr>\n",
       "    <tr>\n",
       "      <th>lat</th>\n",
       "      <td>-0.009951</td>\n",
       "      <td>0.024280</td>\n",
       "      <td>0.049239</td>\n",
       "      <td>-0.014306</td>\n",
       "      <td>0.005871</td>\n",
       "      <td>-0.015102</td>\n",
       "      <td>0.113575</td>\n",
       "      <td>0.052155</td>\n",
       "      <td>0.048679</td>\n",
       "      <td>-0.085514</td>\n",
       "      <td>-0.086139</td>\n",
       "      <td>-0.001199</td>\n",
       "      <td>0.110414</td>\n",
       "      <td>-0.148370</td>\n",
       "      <td>0.029350</td>\n",
       "      <td>0.014995</td>\n",
       "      <td>0.266742</td>\n",
       "      <td>1.000000</td>\n",
       "      <td>-0.135371</td>\n",
       "      <td>0.306692</td>\n",
       "    </tr>\n",
       "    <tr>\n",
       "      <th>long</th>\n",
       "      <td>0.132054</td>\n",
       "      <td>0.224903</td>\n",
       "      <td>0.125943</td>\n",
       "      <td>-0.041904</td>\n",
       "      <td>-0.078107</td>\n",
       "      <td>-0.105877</td>\n",
       "      <td>0.200341</td>\n",
       "      <td>0.241214</td>\n",
       "      <td>0.335626</td>\n",
       "      <td>0.230227</td>\n",
       "      <td>0.255586</td>\n",
       "      <td>0.344842</td>\n",
       "      <td>-0.144546</td>\n",
       "      <td>0.409993</td>\n",
       "      <td>-0.068321</td>\n",
       "      <td>-0.008404</td>\n",
       "      <td>-0.564259</td>\n",
       "      <td>-0.135371</td>\n",
       "      <td>1.000000</td>\n",
       "      <td>0.022036</td>\n",
       "    </tr>\n",
       "    <tr>\n",
       "      <th>price</th>\n",
       "      <td>0.308787</td>\n",
       "      <td>0.525906</td>\n",
       "      <td>0.256804</td>\n",
       "      <td>0.266398</td>\n",
       "      <td>0.397370</td>\n",
       "      <td>0.036056</td>\n",
       "      <td>0.667951</td>\n",
       "      <td>0.701917</td>\n",
       "      <td>0.585241</td>\n",
       "      <td>0.089876</td>\n",
       "      <td>0.082845</td>\n",
       "      <td>0.605368</td>\n",
       "      <td>0.323799</td>\n",
       "      <td>0.053953</td>\n",
       "      <td>0.126424</td>\n",
       "      <td>-0.009928</td>\n",
       "      <td>-0.053402</td>\n",
       "      <td>0.306692</td>\n",
       "      <td>0.022036</td>\n",
       "      <td>1.000000</td>\n",
       "    </tr>\n",
       "  </tbody>\n",
       "</table>\n",
       "</div>"
      ],
      "text/plain": [
       "               bedrooms  bathrooms    floors  waterfront      view  condition  \\\n",
       "bedrooms       1.000000   0.514508  0.177944   -0.006834  0.080008   0.026496   \n",
       "bathrooms      0.514508   1.000000  0.502582    0.063744  0.188386  -0.126479   \n",
       "floors         0.177944   0.502582  1.000000    0.023755  0.028814  -0.264075   \n",
       "waterfront    -0.006834   0.063744  0.023755    1.000000  0.401971   0.016611   \n",
       "view           0.080008   0.188386  0.028814    0.401971  1.000000   0.045999   \n",
       "condition      0.026496  -0.126479 -0.264075    0.016611  0.045999   1.000000   \n",
       "grade          0.356563   0.665838  0.458794    0.082888  0.251728  -0.146896   \n",
       "sqft_living    0.578212   0.755758  0.353953    0.103854  0.284709  -0.059445   \n",
       "sqft_living15  0.393406   0.569884  0.280102    0.086507  0.280681  -0.093072   \n",
       "sqft_lot       0.032471   0.088373 -0.004814    0.021632  0.074900  -0.008830   \n",
       "sqft_lot15     0.030690   0.088303 -0.010722    0.030781  0.072904  -0.003126   \n",
       "sqft_above     0.479386   0.686668  0.523989    0.072109  0.167609  -0.158904   \n",
       "sqft_basement  0.302808   0.283440 -0.245715    0.080559  0.277078   0.173849   \n",
       "yr_built       0.155670   0.507173  0.489193   -0.026153 -0.053636  -0.361592   \n",
       "yr_renovated   0.018389   0.050544  0.006427    0.092873  0.103951  -0.060788   \n",
       "month         -0.001046   0.007543  0.014245    0.008148 -0.005398   0.022388   \n",
       "zipcode       -0.154092  -0.204786 -0.059541    0.030272  0.084622   0.002888   \n",
       "lat           -0.009951   0.024280  0.049239   -0.014306  0.005871  -0.015102   \n",
       "long           0.132054   0.224903  0.125943   -0.041904 -0.078107  -0.105877   \n",
       "price          0.308787   0.525906  0.256804    0.266398  0.397370   0.036056   \n",
       "\n",
       "                  grade  sqft_living  sqft_living15  sqft_lot  sqft_lot15  \\\n",
       "bedrooms       0.356563     0.578212       0.393406  0.032471    0.030690   \n",
       "bathrooms      0.665838     0.755758       0.569884  0.088373    0.088303   \n",
       "floors         0.458794     0.353953       0.280102 -0.004814   -0.010722   \n",
       "waterfront     0.082888     0.103854       0.086507  0.021632    0.030781   \n",
       "view           0.251728     0.284709       0.280681  0.074900    0.072904   \n",
       "condition     -0.146896    -0.059445      -0.093072 -0.008830   -0.003126   \n",
       "grade          1.000000     0.762779       0.713867  0.114731    0.120981   \n",
       "sqft_living    0.762779     1.000000       0.756402  0.173453    0.184342   \n",
       "sqft_living15  0.713867     0.756402       1.000000  0.144763    0.183515   \n",
       "sqft_lot       0.114731     0.173453       0.144763  1.000000    0.718204   \n",
       "sqft_lot15     0.120981     0.184342       0.183515  0.718204    1.000000   \n",
       "sqft_above     0.756073     0.876448       0.731767  0.184139    0.195077   \n",
       "sqft_basement  0.168220     0.435130       0.200443  0.015418    0.017550   \n",
       "yr_built       0.447865     0.318152       0.326377  0.052946    0.070777   \n",
       "yr_renovated   0.014261     0.055308      -0.002695  0.007686    0.007944   \n",
       "month          0.008989     0.012112       0.002513 -0.002591    0.003189   \n",
       "zipcode       -0.185771    -0.199802      -0.279299 -0.129586   -0.147294   \n",
       "lat            0.113575     0.052155       0.048679 -0.085514   -0.086139   \n",
       "long           0.200341     0.241214       0.335626  0.230227    0.255586   \n",
       "price          0.667951     0.701917       0.585241  0.089876    0.082845   \n",
       "\n",
       "               sqft_above  sqft_basement  yr_built  yr_renovated     month  \\\n",
       "bedrooms         0.479386       0.302808  0.155670      0.018389 -0.001046   \n",
       "bathrooms        0.686668       0.283440  0.507173      0.050544  0.007543   \n",
       "floors           0.523989      -0.245715  0.489193      0.006427  0.014245   \n",
       "waterfront       0.072109       0.080559 -0.026153      0.092873  0.008148   \n",
       "view             0.167609       0.277078 -0.053636      0.103951 -0.005398   \n",
       "condition       -0.158904       0.173849 -0.361592     -0.060788  0.022388   \n",
       "grade            0.756073       0.168220  0.447865      0.014261  0.008989   \n",
       "sqft_living      0.876448       0.435130  0.318152      0.055308  0.012112   \n",
       "sqft_living15    0.731767       0.200443  0.326377     -0.002695  0.002513   \n",
       "sqft_lot         0.184139       0.015418  0.052946      0.007686 -0.002591   \n",
       "sqft_lot15       0.195077       0.017550  0.070777      0.007944  0.003189   \n",
       "sqft_above       1.000000      -0.052156  0.424037      0.023251  0.010153   \n",
       "sqft_basement   -0.052156       1.000000 -0.133064      0.071233  0.006135   \n",
       "yr_built         0.424037      -0.133064  1.000000     -0.224907 -0.006235   \n",
       "yr_renovated     0.023251       0.071233 -0.224907      1.000000  0.012864   \n",
       "month            0.010153       0.006135 -0.006235      0.012864  1.000000   \n",
       "zipcode         -0.261570       0.074725 -0.347210      0.064325 -0.000143   \n",
       "lat             -0.001199       0.110414 -0.148370      0.029350  0.014995   \n",
       "long             0.344842      -0.144546  0.409993     -0.068321 -0.008404   \n",
       "price            0.605368       0.323799  0.053953      0.126424 -0.009928   \n",
       "\n",
       "                zipcode       lat      long     price  \n",
       "bedrooms      -0.154092 -0.009951  0.132054  0.308787  \n",
       "bathrooms     -0.204786  0.024280  0.224903  0.525906  \n",
       "floors        -0.059541  0.049239  0.125943  0.256804  \n",
       "waterfront     0.030272 -0.014306 -0.041904  0.266398  \n",
       "view           0.084622  0.005871 -0.078107  0.397370  \n",
       "condition      0.002888 -0.015102 -0.105877  0.036056  \n",
       "grade         -0.185771  0.113575  0.200341  0.667951  \n",
       "sqft_living   -0.199802  0.052155  0.241214  0.701917  \n",
       "sqft_living15 -0.279299  0.048679  0.335626  0.585241  \n",
       "sqft_lot      -0.129586 -0.085514  0.230227  0.089876  \n",
       "sqft_lot15    -0.147294 -0.086139  0.255586  0.082845  \n",
       "sqft_above    -0.261570 -0.001199  0.344842  0.605368  \n",
       "sqft_basement  0.074725  0.110414 -0.144546  0.323799  \n",
       "yr_built      -0.347210 -0.148370  0.409993  0.053953  \n",
       "yr_renovated   0.064325  0.029350 -0.068321  0.126424  \n",
       "month         -0.000143  0.014995 -0.008404 -0.009928  \n",
       "zipcode        1.000000  0.266742 -0.564259 -0.053402  \n",
       "lat            0.266742  1.000000 -0.135371  0.306692  \n",
       "long          -0.564259 -0.135371  1.000000  0.022036  \n",
       "price         -0.053402  0.306692  0.022036  1.000000  "
      ]
     },
     "metadata": {},
     "output_type": "display_data"
    }
   ],
   "source": [
    "correlations_matrix = df.corr()\n",
    "display(correlations_matrix)"
   ]
  },
  {
   "cell_type": "code",
   "execution_count": 32,
   "id": "0caece08",
   "metadata": {},
   "outputs": [
    {
     "data": {
      "image/png": "[encoded data removed]",
      "text/plain": [
       "<Figure size 1152x1152 with 2 Axes>"
      ]
     },
     "metadata": {
      "needs_background": "light"
     },
     "output_type": "display_data"
    }
   ],
   "source": [
    "f,ax = plt.subplots(figsize=(16,16))\n",
    "sns.heatmap(correlations_matrix, annot= True)\n",
    "plt.show()"
   ]
  },
  {
   "cell_type": "code",
   "execution_count": 36,
   "id": "217a1f3e",
   "metadata": {},
   "outputs": [],
   "source": [
    "#sns.pairplot(df)\n",
    "#pairplotplt.show()"
   ]
  },
  {
   "cell_type": "markdown",
   "id": "3e37e824",
   "metadata": {},
   "source": [
    "#### Checking for multicollinearity"
   ]
  },
  {
   "cell_type": "markdown",
   "id": "9bfa00bd",
   "metadata": {},
   "source": [
    "We drop: \n",
    "- condition, sqft_lot, sqft_lot_15, yr_built, month, zipcode and long for its low correlation with the dependent variable. \n",
    "We drop: sqft_above because its high correlation with sqft_living can generate multicollinearity in the model. \n"
   ]
  },
  {
   "cell_type": "code",
   "execution_count": 37,
   "id": "19f5d445",
   "metadata": {},
   "outputs": [
    {
     "ename": "SyntaxError",
     "evalue": "invalid syntax (Temp/ipykernel_1572/1008383467.py, line 1)",
     "output_type": "error",
     "traceback": [
      "\u001b[1;36m  File \u001b[1;32m\"C:\\Users\\31612\\AppData\\Local\\Temp/ipykernel_1572/1008383467.py\"\u001b[1;36m, line \u001b[1;32m1\u001b[0m\n\u001b[1;33m    df = df.drop('sqft_lot','condition', 'sqft_lot_15', 'yr_built', 'month', 'zipcode', 'long', 'sqft_above' axis=1, inplace=True)\u001b[0m\n\u001b[1;37m                                                                                                             ^\u001b[0m\n\u001b[1;31mSyntaxError\u001b[0m\u001b[1;31m:\u001b[0m invalid syntax\n"
     ]
    }
   ],
   "source": [
    "df = df.drop('sqft_lot','condition', 'sqft_lot_15', 'yr_built', 'month', 'zipcode', 'long', 'sqft_above' axis=1, inplace=True)"
   ]
  },
  {
   "cell_type": "code",
   "execution_count": null,
   "id": "a8beec15",
   "metadata": {},
   "outputs": [],
   "source": []
  },
  {
   "cell_type": "markdown",
   "id": "bbbdec61",
   "metadata": {},
   "source": [
    "# Splitting and transforming the train and test sets."
   ]
  },
  {
   "cell_type": "code",
   "execution_count": null,
   "id": "aa71a1b8",
   "metadata": {},
   "outputs": [],
   "source": [
    "y_log = np.log(df['price'])\n",
    "X = df.drop(columns = 'price', axis =1)\n",
    "X_train, X_test, y_log_train, y_log_test = train_test_split(X, y, test_size=0.2, random_state=200)"
   ]
  },
  {
   "cell_type": "code",
   "execution_count": null,
   "id": "e23e2e77",
   "metadata": {},
   "outputs": [],
   "source": [
    "powertransformer = PowerTransformer()\n",
    "powertransformer.fit(X_train)\n",
    "X_train_trans = powertransformer.transform(X_train)\n",
    "X_test_trans = powertransformer.transform(X_test)"
   ]
  },
  {
   "cell_type": "code",
   "execution_count": null,
   "id": "cd0599ce",
   "metadata": {},
   "outputs": [],
   "source": [
    "X_train_df = pd.DataFrame(X_train_trans, columns=X.columns)\n",
    "X_test_df  = pd.DataFrame(X_test_trans,  columns=X.columns)"
   ]
  },
  {
   "cell_type": "markdown",
   "id": "eb261464",
   "metadata": {},
   "source": [
    "# Standarizing????"
   ]
  },
  {
   "cell_type": "code",
   "execution_count": null,
   "id": "1a9550c0",
   "metadata": {},
   "outputs": [],
   "source": [
    "transformer = MinMaxScaler()\n",
    "transformer.fit(X_train1) \n",
    "X_train_scaled = transformer.transform(X_train1)\n",
    "X_test_scaled  = transformer.transform(X_test1)\n",
    "X_train_scaled = pd.DataFrame(X_train_scaled, columns=X_train1.columns, index=X_train1.index)\n",
    "X_test_scaled = pd.DataFrame(X_test_scaled, columns=X_test1.columns, index=X_test1.index)\n",
    "X_train_scaled.head()"
   ]
  },
  {
   "cell_type": "markdown",
   "id": "3885f6ff",
   "metadata": {},
   "source": [
    "# Modelling"
   ]
  },
  {
   "cell_type": "code",
   "execution_count": null,
   "id": "79d4b1bd",
   "metadata": {},
   "outputs": [],
   "source": [
    "def my_models(models, Xtrain, Xtest, ytrain, ytest):\n",
    "    train_scores = []\n",
    "    test_scores = []\n",
    "    for model in models:\n",
    "        model.fit(Xtrain, ytrain)\n",
    "        ypred = model.predict(Xtrain)\n",
    "        train_scores.append(r2_score(ytrain, ypred))\n",
    "        \n",
    "        ypred_test = model.predict(Xtest)\n",
    "        test_scores.append(r2_score(ytest, ypred_test))\n",
    "        \n",
    "        \n",
    "    scores = pd.DataFrame([train_scores, test_scores], index=[\"Train\", \"Test\"], columns=models)\n",
    "    \n",
    "    return scores"
   ]
  },
  {
   "cell_type": "code",
   "execution_count": null,
   "id": "0d409175",
   "metadata": {},
   "outputs": [],
   "source": [
    "models = [KNeighborsRegressor(n_neighbors=3), linear_model.LinearRegression(), MLPRegressor()]\n",
    "\n",
    "r2scores = my_models(models, X_train_scaled, X_test_scaled, y_train, y_test)\n",
    "r2scores"
   ]
  },
  {
   "cell_type": "code",
   "execution_count": null,
   "id": "1e7a4042",
   "metadata": {},
   "outputs": [],
   "source": []
  },
  {
   "cell_type": "code",
   "execution_count": null,
   "id": "9d386ed1",
   "metadata": {},
   "outputs": [],
   "source": []
  },
  {
   "cell_type": "code",
   "execution_count": null,
   "id": "59fb1224",
   "metadata": {},
   "outputs": [],
   "source": []
  }
 ],
 "metadata": {
  "kernelspec": {
   "display_name": "Python 3 (ipykernel)",
   "language": "python",
   "name": "python3"
  },
  "language_info": {
   "codemirror_mode": {
    "name": "ipython",
    "version": 3
   },
   "file_extension": ".py",
   "mimetype": "text/x-python",
   "name": "python",
   "nbconvert_exporter": "python",
   "pygments_lexer": "ipython3",
   "version": "3.9.7"
  },
  "toc": {
   "base_numbering": 1,
   "nav_menu": {},
   "number_sections": true,
   "sideBar": true,
   "skip_h1_title": false,
   "title_cell": "Table of Contents",
   "title_sidebar": "Contents",
   "toc_cell": false,
   "toc_position": {},
   "toc_section_display": true,
   "toc_window_display": true
  },
  "varInspector": {
   "cols": {
    "lenName": 16,
    "lenType": 16,
    "lenVar": 40
   },
   "kernels_config": {
    "python": {
     "delete_cmd_postfix": "",
     "delete_cmd_prefix": "del ",
     "library": "var_list.py",
     "varRefreshCmd": "print(var_dic_list())"
    },
    "r": {
     "delete_cmd_postfix": ") ",
     "delete_cmd_prefix": "rm(",
     "library": "var_list.r",
     "varRefreshCmd": "cat(var_dic_list()) "
    }
   },
   "types_to_exclude": [
    "module",
    "function",
    "builtin_function_or_method",
    "instance",
    "_Feature"
   ],
   "window_display": false
  }
 },
 "nbformat": 4,
 "nbformat_minor": 5
}
