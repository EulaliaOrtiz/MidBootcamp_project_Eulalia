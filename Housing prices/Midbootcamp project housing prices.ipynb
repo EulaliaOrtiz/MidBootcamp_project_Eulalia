{
 "cells": [
  {
   "cell_type": "markdown",
   "id": "e867100c",
   "metadata": {},
   "source": [
    "Your company wants to build a machine learning model to predict the selling prices of houses based on a variety of features on which the value of the house is evaluated.\n",
    "Your job is to build a model that will predict the price of a house based on features provided in the dataset. Senior management also wants to explore the characteristics of the houses using some business intelligence tools. One of those parameters includes understanding which factors are responsible for higher property value - $650K and above."
   ]
  },
  {
   "cell_type": "markdown",
   "id": "b177af03",
   "metadata": {},
   "source": [
    "## Importing the necessary libraries."
   ]
  },
  {
   "cell_type": "code",
   "execution_count": null,
   "id": "9ad98651",
   "metadata": {},
   "outputs": [],
   "source": [
    "import numpy as np\n",
    "import pandas as pd\n",
    "import matplotlib.pyplot as plt\n",
    "import seaborn as sns\n",
    "from scipy.stats import norm\n",
    "from scipy import stats\n",
    "from sklearn.neighbors import KNeighborsRegressor\n",
    "import math\n",
    "import datetime\n",
    "from sklearn import linear_model \n",
    "from sklearn.linear_model import LogisticRegression\n",
    "from sklearn.neural_network import MLPRegressor\n",
    "from sklearn.metrics import confusion_matrix, accuracy_score, precision_score, recall_score, ConfusionMatrixDisplay\n",
    "from sklearn.metrics import classification_report, f1_score, cohen_kappa_score\n",
    "from sklearn.preprocessing import MinMaxScaler, StandardScaler\n",
    "from sklearn.preprocessing import OneHotEncoder, LabelEncoder, OrdinalEncoder\n",
    "from sklearn.model_selection import train_test_split\n",
    "from sklearn.metrics import accuracy_score\n",
    "from sklearn.metrics import r2_score, mean_squared_error, mean_absolute_error\n",
    "from sklearn.metrics import cohen_kappa_score\n",
    "from imblearn.over_sampling import SMOTE"
   ]
  },
  {
   "cell_type": "code",
   "execution_count": null,
   "id": "f445c361",
   "metadata": {},
   "outputs": [],
   "source": [
    "%matplotlib inline"
   ]
  },
  {
   "cell_type": "code",
   "execution_count": null,
   "id": "fd0a9ce1",
   "metadata": {},
   "outputs": [],
   "source": [
    "pd.set_option('display.max_columns',None)"
   ]
  },
  {
   "cell_type": "markdown",
   "id": "deb93c87",
   "metadata": {},
   "source": [
    "## Loading the database and analysing."
   ]
  },
  {
   "cell_type": "code",
   "execution_count": null,
   "id": "b0241c31",
   "metadata": {},
   "outputs": [],
   "source": [
    "data = pd.read_excel('regression_data1.xls')"
   ]
  },
  {
   "cell_type": "code",
   "execution_count": null,
   "id": "82a59943",
   "metadata": {},
   "outputs": [],
   "source": [
    "data.head()"
   ]
  },
  {
   "cell_type": "code",
   "execution_count": null,
   "id": "30903c22",
   "metadata": {},
   "outputs": [],
   "source": [
    "data.shape"
   ]
  },
  {
   "cell_type": "code",
   "execution_count": null,
   "id": "efb6190d",
   "metadata": {},
   "outputs": [],
   "source": [
    "data.columns"
   ]
  },
  {
   "cell_type": "code",
   "execution_count": null,
   "id": "ffa65697",
   "metadata": {},
   "outputs": [],
   "source": [
    "data.dtypes"
   ]
  },
  {
   "cell_type": "code",
   "execution_count": null,
   "id": "831f7056",
   "metadata": {},
   "outputs": [],
   "source": [
    "data.isnull().sum()"
   ]
  },
  {
   "cell_type": "code",
   "execution_count": null,
   "id": "bd02fd9a",
   "metadata": {},
   "outputs": [],
   "source": [
    "data['bedrooms'].unique()"
   ]
  },
  {
   "cell_type": "code",
   "execution_count": null,
   "id": "f768bf97",
   "metadata": {
    "scrolled": true
   },
   "outputs": [],
   "source": [
    "data['bedrooms'].value_counts()   #Perhaps removing the properties with 33 rooms. Outlier or mistake. \n",
    "#Group in less categories? 1 and 2 rooms// five or more.Imbalance in the sample. Our database is concentrated in the 3-4 rooms categories. "
   ]
  },
  {
   "cell_type": "code",
   "execution_count": null,
   "id": "756a7487",
   "metadata": {},
   "outputs": [],
   "source": [
    "data['bathrooms'].unique()"
   ]
  },
  {
   "cell_type": "code",
   "execution_count": null,
   "id": "61c7b39f",
   "metadata": {},
   "outputs": [],
   "source": [
    "data['bathrooms'].value_counts() "
   ]
  },
  {
   "cell_type": "markdown",
   "id": "d2602de8",
   "metadata": {},
   "source": [
    " #Could the number of bathrooms and bedrooms be correlated? can this info be summarised in just one column?"
   ]
  },
  {
   "cell_type": "code",
   "execution_count": null,
   "id": "4d906f7d",
   "metadata": {},
   "outputs": [],
   "source": [
    "data['floors'].value_counts() #We have mostly flats in our database and townhouses, group also here 2 floors and more. "
   ]
  },
  {
   "cell_type": "markdown",
   "id": "0f37ffe9",
   "metadata": {},
   "source": [
    "We have mostly flats in our database and townhouses, group also here 2 floors and more. "
   ]
  },
  {
   "cell_type": "code",
   "execution_count": null,
   "id": "c50d612e",
   "metadata": {},
   "outputs": [],
   "source": [
    "data['waterfront'].value_counts() "
   ]
  },
  {
   "cell_type": "markdown",
   "id": "6ff7690f",
   "metadata": {},
   "source": [
    "Imbalance: most of the houses in one category. Visualizing the data with tableau, it seems that there could be errors with this classification.There two categories seem to be more balanced in the map."
   ]
  },
  {
   "cell_type": "code",
   "execution_count": null,
   "id": "b8412a06",
   "metadata": {},
   "outputs": [],
   "source": [
    "data['view'].value_counts() "
   ]
  },
  {
   "cell_type": "markdown",
   "id": "ba3319c8",
   "metadata": {},
   "source": [
    "#Most of the houses view category 0 Center of the city? lower floors in apartment buildings?"
   ]
  },
  {
   "cell_type": "code",
   "execution_count": null,
   "id": "926914ee",
   "metadata": {},
   "outputs": [],
   "source": [
    "data['condition'].value_counts() "
   ]
  },
  {
   "cell_type": "code",
   "execution_count": null,
   "id": "d7f5557e",
   "metadata": {},
   "outputs": [],
   "source": [
    "#Imbalance towards average to good condition"
   ]
  },
  {
   "cell_type": "code",
   "execution_count": null,
   "id": "e31e5006",
   "metadata": {},
   "outputs": [],
   "source": [
    "data['grade'].value_counts() "
   ]
  },
  {
   "cell_type": "markdown",
   "id": "cf9f3102",
   "metadata": {},
   "source": [
    "Same results as the previous column. Could be interesting if having a rating of the King county increases the price of the house, not possible to check it with this database as all the houses have it.  "
   ]
  },
  {
   "cell_type": "markdown",
   "id": "114ceeb7",
   "metadata": {},
   "source": [
    "Latitute, longitude give the exact location, there is no need for the zip code. We can remove one of the two.Check which one makes more sense. Stock located in Seattle and its environments. Houses above 650k located in the waterfront, the upper part of the city, islands or proximity to water. \n"
   ]
  },
  {
   "cell_type": "code",
   "execution_count": null,
   "id": "a8ed9237",
   "metadata": {},
   "outputs": [],
   "source": [
    "sns.displot(data=data, x=\"price\")"
   ]
  },
  {
   "cell_type": "code",
   "execution_count": null,
   "id": "5728559c",
   "metadata": {
    "scrolled": true
   },
   "outputs": [],
   "source": [
    "sns.displot(data=data, x=\"price\", kde=True);"
   ]
  },
  {
   "cell_type": "code",
   "execution_count": null,
   "id": "fe8f7345",
   "metadata": {},
   "outputs": [],
   "source": [
    "sns.displot(data=data, x=\"price\", kind=\"kde\");"
   ]
  },
  {
   "cell_type": "code",
   "execution_count": null,
   "id": "2583584f",
   "metadata": {},
   "outputs": [],
   "source": [
    "sns.boxplot('price', data=data);"
   ]
  },
  {
   "cell_type": "code",
   "execution_count": null,
   "id": "2c79ae5d",
   "metadata": {},
   "outputs": [],
   "source": [
    "sns.displot(data=data, x=\"date\");\n"
   ]
  },
  {
   "cell_type": "markdown",
   "id": "1e423bd0",
   "metadata": {},
   "source": [
    "Compare square living and square living 15 to see how many houses have been renovated. See if we can drop any of these columns. Plot the numeric continous variables.  "
   ]
  },
  {
   "cell_type": "code",
   "execution_count": null,
   "id": "d448ef54",
   "metadata": {},
   "outputs": [],
   "source": []
  }
 ],
 "metadata": {
  "kernelspec": {
   "display_name": "Python 3 (ipykernel)",
   "language": "python",
   "name": "python3"
  },
  "language_info": {
   "codemirror_mode": {
    "name": "ipython",
    "version": 3
   },
   "file_extension": ".py",
   "mimetype": "text/x-python",
   "name": "python",
   "nbconvert_exporter": "python",
   "pygments_lexer": "ipython3",
   "version": "3.9.7"
  },
  "toc": {
   "base_numbering": 1,
   "nav_menu": {},
   "number_sections": true,
   "sideBar": true,
   "skip_h1_title": false,
   "title_cell": "Table of Contents",
   "title_sidebar": "Contents",
   "toc_cell": false,
   "toc_position": {},
   "toc_section_display": true,
   "toc_window_display": true
  },
  "varInspector": {
   "cols": {
    "lenName": 16,
    "lenType": 16,
    "lenVar": 40
   },
   "kernels_config": {
    "python": {
     "delete_cmd_postfix": "",
     "delete_cmd_prefix": "del ",
     "library": "var_list.py",
     "varRefreshCmd": "print(var_dic_list())"
    },
    "r": {
     "delete_cmd_postfix": ") ",
     "delete_cmd_prefix": "rm(",
     "library": "var_list.r",
     "varRefreshCmd": "cat(var_dic_list()) "
    }
   },
   "types_to_exclude": [
    "module",
    "function",
    "builtin_function_or_method",
    "instance",
    "_Feature"
   ],
   "window_display": false
  }
 },
 "nbformat": 4,
 "nbformat_minor": 5
}
